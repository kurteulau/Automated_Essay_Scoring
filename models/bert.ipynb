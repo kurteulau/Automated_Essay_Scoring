{
 "cells": [
  {
   "cell_type": "markdown",
   "id": "BVyRl3E3HAqQ",
   "metadata": {
    "id": "BVyRl3E3HAqQ"
   },
   "source": [
    "# Imports"
   ]
  },
  {
   "cell_type": "code",
   "execution_count": null,
   "id": "hMwUF8qUX_WJ",
   "metadata": {
    "colab": {
     "base_uri": "https://localhost:8080/"
    },
    "id": "hMwUF8qUX_WJ",
    "outputId": "251f344d-2a3b-4bfa-ab78-8d8fdf6df193"
   },
   "outputs": [
    {
     "name": "stdout",
     "output_type": "stream",
     "text": [
      "Tue Nov 29 21:53:41 2022       \n",
      "+-----------------------------------------------------------------------------+\n",
      "| NVIDIA-SMI 460.32.03    Driver Version: 460.32.03    CUDA Version: 11.2     |\n",
      "|-------------------------------+----------------------+----------------------+\n",
      "| GPU  Name        Persistence-M| Bus-Id        Disp.A | Volatile Uncorr. ECC |\n",
      "| Fan  Temp  Perf  Pwr:Usage/Cap|         Memory-Usage | GPU-Util  Compute M. |\n",
      "|                               |                      |               MIG M. |\n",
      "|===============================+======================+======================|\n",
      "|   0  A100-SXM4-40GB      Off  | 00000000:00:04.0 Off |                    0 |\n",
      "| N/A   35C    P0    44W / 400W |      0MiB / 40536MiB |      0%      Default |\n",
      "|                               |                      |             Disabled |\n",
      "+-------------------------------+----------------------+----------------------+\n",
      "                                                                               \n",
      "+-----------------------------------------------------------------------------+\n",
      "| Processes:                                                                  |\n",
      "|  GPU   GI   CI        PID   Type   Process name                  GPU Memory |\n",
      "|        ID   ID                                                   Usage      |\n",
      "|=============================================================================|\n",
      "|  No running processes found                                                 |\n",
      "+-----------------------------------------------------------------------------+\n"
     ]
    }
   ],
   "source": [
    "!nvidia-smi"
   ]
  },
  {
   "cell_type": "code",
   "execution_count": null,
   "id": "NuTilifJIY2a",
   "metadata": {
    "colab": {
     "base_uri": "https://localhost:8080/"
    },
    "id": "NuTilifJIY2a",
    "outputId": "bf60ad3a-c4b9-4927-991b-629587522702"
   },
   "outputs": [
    {
     "name": "stdout",
     "output_type": "stream",
     "text": [
      "\u001b[K     |████████████████████████████████| 5.5 MB 4.6 MB/s \n",
      "\u001b[K     |████████████████████████████████| 7.6 MB 81.5 MB/s \n",
      "\u001b[K     |████████████████████████████████| 182 kB 69.2 MB/s \n",
      "\u001b[K     |████████████████████████████████| 1.3 MB 4.7 MB/s \n",
      "\u001b[?25h"
     ]
    }
   ],
   "source": [
    "!pip install transformers --quiet\n",
    "!pip install sentencepiece --quiet"
   ]
  },
  {
   "cell_type": "code",
   "execution_count": null,
   "id": "r-_I54teGqvg",
   "metadata": {
    "id": "r-_I54teGqvg"
   },
   "outputs": [],
   "source": [
    "import os\n",
    "import sys\n",
    "import time\n",
    "import string\n",
    "import sklearn\n",
    "import numpy as np\n",
    "import pandas as pd\n",
    "import matplotlib.pyplot as plt\n",
    "import gc\n",
    "\n",
    "from google.colab import drive\n",
    "\n",
    "from sklearn.model_selection import train_test_split\n",
    "from sklearn.preprocessing import MultiLabelBinarizer\n",
    "\n",
    "import tensorflow as tf\n",
    "from tensorflow import keras\n",
    "from keras.utils.vis_utils import plot_model\n",
    "\n",
    "from tensorflow.keras.layers import Embedding, Input, Dense, Lambda\n",
    "from tensorflow.keras.models import Model, load_model\n",
    "import tensorflow.keras.backend as K\n",
    "from tensorflow.keras.callbacks import EarlyStopping, \\\n",
    "  LearningRateScheduler, ModelCheckpoint\n",
    "from tensorflow.keras.metrics import RootMeanSquaredError\n",
    "from transformers import BertTokenizer, TFBertModel, AutoModel, AutoTokenizer\n",
    "from transformers import BertConfig, BertTokenizer, TFBertModel\n",
    "import transformers"
   ]
  },
  {
   "cell_type": "markdown",
   "id": "KeHDr51VLXrd",
   "metadata": {
    "id": "KeHDr51VLXrd"
   },
   "source": [
    "## Global Variables and Google Drive Connect"
   ]
  },
  {
   "cell_type": "code",
   "execution_count": null,
   "id": "msHGuIgzLT9K",
   "metadata": {
    "id": "msHGuIgzLT9K"
   },
   "outputs": [],
   "source": [
    "TESTING = False # use to truncate training data in order to speed up development\n",
    "\n",
    "RANDOM_STATE = 42\n",
    "SEQUENCE_LENGTH = 512\n",
    "BATCH_SIZE = 1\n",
    "USER = 'HIDDEN'\n",
    "RUBRIC_COLS = ['cohesion', 'syntax', 'vocabulary', 'phraseology', 'grammar', 'conventions']\n",
    "PATIENCE = 2\n",
    "LEARNING_RATE = 0.0001\n",
    "LEARNING_RATE_DECAY = 0.1\n",
    "EPOCHS = 6\n",
    "PRETRAINED_MODEL = \"bert-large-cased\" # \"bert-base-cased\"\n",
    "# Uncomment these two lines if you want to be able to be able to repeat calculations exactly on the same hardware\n",
    "# However, the model will run more slowly (approx 1/3 speed)\n",
    "# tf.keras.utils.set_random_seed(RANDOM_STATE)\n",
    "# tf.config.experimental.enable_op_determinism()"
   ]
  },
  {
   "cell_type": "code",
   "execution_count": null,
   "id": "JfgvLGBMHP54",
   "metadata": {
    "colab": {
     "base_uri": "https://localhost:8080/"
    },
    "id": "JfgvLGBMHP54",
    "outputId": "f3d0610a-be93-4b8c-ca58-1c5ca29365d5"
   },
   "outputs": [
    {
     "name": "stdout",
     "output_type": "stream",
     "text": [
      "Mounted at /content/drive\n"
     ]
    }
   ],
   "source": [
    "drive.mount('/content/drive')\n",
    "root_dir = \"NOT SHOW FOR PRIVACY PURPOSES\"\n",
    "project_folder = \"NOT SHOW FOR PRIVACY PURPOSES\"\n",
    "\n",
    "def create_and_set_working_directory(project_folder):\n",
    "  # check if your project folder exists. if not, it will be created.\n",
    "  if os.path.isdir(root_dir + project_folder) == False:\n",
    "    os.mkdir(root_dir + project_folder)\n",
    "    print(root_dir + project_folder + ' did not exist but was created.')\n",
    "\n",
    "  # change the OS to use your project folder as the working directory\n",
    "  os.chdir(root_dir + project_folder)\n",
    "\n",
    "  # create a test file to make sure it shows up in the right place\n",
    "  # to test if all is working, you can uncomment these two lines below--it should write a file to the shared drive\n",
    "  # !touch 'new_file_in_working_directory.txt'\n",
    "  # print('\\nYour working directory was changed to ' + root_dir + project_folder + \\\n",
    "  #       \"\\n\\nAn empty text file was created there. You can also run !pwd to confirm the current working directory.\" )\n",
    "\n",
    "os.chdir(root_dir + project_folder)"
   ]
  },
  {
   "cell_type": "markdown",
   "id": "3oMbf9-mIEff",
   "metadata": {
    "id": "3oMbf9-mIEff"
   },
   "source": [
    "# Load Data and Create Data Sets"
   ]
  },
  {
   "cell_type": "code",
   "execution_count": null,
   "id": "o52m4SLjGsy8",
   "metadata": {
    "colab": {
     "base_uri": "https://localhost:8080/"
    },
    "id": "o52m4SLjGsy8",
    "outputId": "b0f6307f-2fa3-4db7-84c7-de6ecf35386b"
   },
   "outputs": [
    {
     "name": "stdout",
     "output_type": "stream",
     "text": [
      "train data size is: (2347, 7)\n",
      "test size is: (782, 7)\n"
     ]
    },
    {
     "name": "stderr",
     "output_type": "stream",
     "text": [
      "/usr/local/lib/python3.7/dist-packages/pandas/core/frame.py:5047: SettingWithCopyWarning: \n",
      "A value is trying to be set on a copy of a slice from a DataFrame\n",
      "\n",
      "See the caveats in the documentation: https://pandas.pydata.org/pandas-docs/stable/user_guide/indexing.html#returning-a-view-versus-a-copy\n",
      "  errors=errors,\n"
     ]
    }
   ],
   "source": [
    "#Pull training data with all columns\n",
    "X_train = pd.read_csv('data/processed/X_train.csv')\n",
    "y_train = pd.read_csv('data/processed/y_train.csv')\n",
    "\n",
    "#pull validation data with all columns \n",
    "X_val = pd.read_csv('data/processed/X_val.csv')\n",
    "y_val = pd.read_csv('data/processed/y_val.csv')\n",
    "\n",
    "#pull test data with all columns\n",
    "# X_test = pd.read_csv('data/processed/X_test.csv')\n",
    "# y_test = pd.read_csv('data/processed/y_test.csv')\n",
    "\n",
    "#drop all non-text columns and concatenate train and val into one dataset\n",
    "train_data = pd.merge(X_train, y_train, on='essay_index', how='outer')\n",
    "validation_data = pd.merge(X_val, y_val, on='essay_index', how='outer')\n",
    "\n",
    "#create train set\n",
    "train_data = train_data[['full_text','cohesion', 'syntax', 'vocabulary_y', 'phraseology', 'grammar', 'conventions']]\n",
    "train_data.rename(columns={'vocabulary_y':'vocabulary'}, inplace= True)\n",
    "\n",
    "#create val set\n",
    "val_data = validation_data[['full_text','cohesion', 'syntax', 'vocabulary_y', 'phraseology', 'grammar', 'conventions']]\n",
    "val_data.rename(columns={'vocabulary_y':'vocabulary'}, inplace= True)\n",
    "\n",
    "print(\"train data size is: {}\".format(train_data.shape))\n",
    "print(\"test size is: {}\".format(val_data.shape))"
   ]
  },
  {
   "cell_type": "code",
   "execution_count": null,
   "id": "ue5mPKuYR93h",
   "metadata": {
    "colab": {
     "base_uri": "https://localhost:8080/"
    },
    "id": "ue5mPKuYR93h",
    "outputId": "2f7f2376-31a0-4459-e0d6-ed02f2943117"
   },
   "outputs": [
    {
     "name": "stdout",
     "output_type": "stream",
     "text": [
      "input_data size is: (2347, 7)\n",
      "validation data size is: (782, 7)\n"
     ]
    }
   ],
   "source": [
    "if TESTING:\n",
    "  train_size = 250\n",
    "  val_size = 3\n",
    "\n",
    "  print(\"=========================================\\nIN TESTING MODE\\n=========================================\")\n",
    "\n",
    "else:\n",
    "  train_size = 2347\n",
    "  val_size = 782\n",
    "\n",
    "train_data = train_data[:train_size]\n",
    "val_data = val_data[:val_size]\n",
    "\n",
    "print(\"input_data size is: {}\".format(train_data.shape))\n",
    "print(\"validation data size is: {}\".format(val_data.shape))"
   ]
  },
  {
   "cell_type": "markdown",
   "id": "XEG3R9wYnhdx",
   "metadata": {
    "id": "XEG3R9wYnhdx"
   },
   "source": [
    "## Tokenize Data"
   ]
  },
  {
   "cell_type": "code",
   "execution_count": null,
   "id": "Y3Ek9TfMtggK",
   "metadata": {
    "colab": {
     "base_uri": "https://localhost:8080/",
     "height": 284,
     "referenced_widgets": [
      "39957e3d355f4e919b8992af126752cc",
      "081a568a60a144e888c0acf9884cbcc0",
      "ff13f69b2dac4965ad0e1583d1087b1a",
      "15371c8626b74e379039656d3ba2470c",
      "e6d5fc33e5974818a6ebe68c8b121068",
      "4684c23ff97a42eeb60fb51649cc2238",
      "110d31e7b8d14dbf886b619cb3b40a54",
      "a5cc8aa452454a27a5d2ed2f3a6b8577",
      "1465ca321668437eb02af976ec1975e1",
      "df6ada35dce841328d2f072edf0e31c1",
      "c0f7c8ed0256449f9ff1283648e98e76",
      "c26f721df8f84ffaaf2320323d9ff150",
      "01d0a30ec5c2441487288dac2c0d1059",
      "9fe24d1e33b246b28cbd876ae26295ff",
      "11e745d67136497fb4d12f458d0b93a6",
      "502f605269a9472089ab4ca1ed3aa37e",
      "2bb5f6957b874ddfbbc99e9491a7263d",
      "26236c17315143a0ac9fb43a2e21d9fe",
      "bd5ec815189a4603be7245ba19992f08",
      "63404e0dc9474d8c9f58fd340e73ef52",
      "2bef14a9d5e9401ba3abeef05fa1c3fb",
      "379b92c06ea34807b6b0ebd2e828232b",
      "41d611ce0803444892dda65869a47d25",
      "f07f4e4d36394123b969baf7ad547e67",
      "0b8912c05d8a4868b967feb066db7849",
      "3a0a2c8e729f41fbb28ca8a58de7bcea",
      "15302c211d9d4ad0849a6f7d06e10b99",
      "59c729e1b49843be98f0a26f77c02db8",
      "300399dcf32b4d33b166debcd3fe363b",
      "1632f84b72844f9bb5ff33260df2e513",
      "5bcacf9d03144791b2f73c15519b399f",
      "3a89f716b1fc40d2ac3afcd79f11f171",
      "799694905da44625a886032d2f510671",
      "2f11d59c93dc464f8c765ca6a73e310f",
      "84a5e92af84a4a4f9ab92877cfad1d74",
      "d374846117ab45acb0a5bd586b187fe7",
      "223d3d23bf7f4389a2a43f066b192619",
      "06a954630ab840d292ecc9b51a03755c",
      "4fc58b39c00f44c0a7caace737f68d89",
      "3b5e48c623bc408389bc3a4e2108b8e8",
      "89d6c9933c2a4c1aa743ce5d1d983f25",
      "7977c1e504974473acdc5b8063e3ed74",
      "9e6699a57c994a21a48765d37cd1a2bf",
      "f4d4deed769a4d8593033ab1bc0086f8",
      "5ebeb24a08a44580b7c830de7ff24bae",
      "5c4625889873448c9e2099ee0232f4b9",
      "dfde727736bb42e9a6440224f1067abe",
      "8988ad6d1a2444169e2096bb8e2a73b2",
      "54fdcd66825a4847b286a77840c71b1c",
      "d93c72753e584fc8b61480e45ee9eb29",
      "10a5b431e0124a22bb96e48700c2649b",
      "bff1000b15b2477b9a11dc5f815925fe",
      "4546dc2c388340569f9f1528882cbc34",
      "c4a3f266488548afbad3def4c38d198b",
      "e0f4b115e9d2455e84f6dc37ffb9aefa"
     ]
    },
    "id": "Y3Ek9TfMtggK",
    "outputId": "f2862e01-f457-4167-8b96-f680f8c41ade"
   },
   "outputs": [
    {
     "data": {
      "application/vnd.jupyter.widget-view+json": {
       "model_id": "39957e3d355f4e919b8992af126752cc",
       "version_major": 2,
       "version_minor": 0
      },
      "text/plain": [
       "Downloading:   0%|          | 0.00/762 [00:00<?, ?B/s]"
      ]
     },
     "metadata": {},
     "output_type": "display_data"
    },
    {
     "data": {
      "application/vnd.jupyter.widget-view+json": {
       "model_id": "c26f721df8f84ffaaf2320323d9ff150",
       "version_major": 2,
       "version_minor": 0
      },
      "text/plain": [
       "Downloading:   0%|          | 0.00/1.46G [00:00<?, ?B/s]"
      ]
     },
     "metadata": {},
     "output_type": "display_data"
    },
    {
     "name": "stderr",
     "output_type": "stream",
     "text": [
      "Some layers from the model checkpoint at bert-large-cased were not used when initializing TFBertModel: ['mlm___cls', 'nsp___cls']\n",
      "- This IS expected if you are initializing TFBertModel from the checkpoint of a model trained on another task or with another architecture (e.g. initializing a BertForSequenceClassification model from a BertForPreTraining model).\n",
      "- This IS NOT expected if you are initializing TFBertModel from the checkpoint of a model that you expect to be exactly identical (initializing a BertForSequenceClassification model from a BertForSequenceClassification model).\n",
      "All the layers of TFBertModel were initialized from the model checkpoint at bert-large-cased.\n",
      "If your task is similar to the task the model of the checkpoint was trained on, you can already use TFBertModel for predictions without further training.\n"
     ]
    },
    {
     "data": {
      "application/vnd.jupyter.widget-view+json": {
       "model_id": "41d611ce0803444892dda65869a47d25",
       "version_major": 2,
       "version_minor": 0
      },
      "text/plain": [
       "Downloading:   0%|          | 0.00/29.0 [00:00<?, ?B/s]"
      ]
     },
     "metadata": {},
     "output_type": "display_data"
    },
    {
     "data": {
      "application/vnd.jupyter.widget-view+json": {
       "model_id": "2f11d59c93dc464f8c765ca6a73e310f",
       "version_major": 2,
       "version_minor": 0
      },
      "text/plain": [
       "Downloading:   0%|          | 0.00/213k [00:00<?, ?B/s]"
      ]
     },
     "metadata": {},
     "output_type": "display_data"
    },
    {
     "data": {
      "application/vnd.jupyter.widget-view+json": {
       "model_id": "5ebeb24a08a44580b7c830de7ff24bae",
       "version_major": 2,
       "version_minor": 0
      },
      "text/plain": [
       "Downloading:   0%|          | 0.00/436k [00:00<?, ?B/s]"
      ]
     },
     "metadata": {},
     "output_type": "display_data"
    }
   ],
   "source": [
    "bert_model = transformers.TFAutoModel.from_pretrained(PRETRAINED_MODEL) # changed from deberta_base_fresh\n",
    "bert_tokenizer = transformers.AutoTokenizer.from_pretrained(PRETRAINED_MODEL) # changed from deberta_base_fresh\n",
    "\n",
    "auto_tune = tf.data.experimental.AUTOTUNE"
   ]
  },
  {
   "cell_type": "code",
   "execution_count": null,
   "id": "HDyQlm2m_Tkz",
   "metadata": {
    "id": "HDyQlm2m_Tkz"
   },
   "outputs": [],
   "source": [
    "def bert_encode(texts, tokenizer, attn_mask):\n",
    "    \"\"\"\n",
    "    Encodes the given texts using the provided tokenizer and returns the input\n",
    "    IDs and attention mask.\n",
    "\n",
    "    Args:\n",
    "    - texts (list of str): A list of strings representing the texts to be\n",
    "    encoded.\n",
    "    - tokenizer (TensorFlow tokenizer): An instance of a tokenizer to be used\n",
    "    for tokenization.\n",
    "    - attn_mask (array): A boolean indicating whether to include the attention\n",
    "    mask in the output.\n",
    "\n",
    "    Returns:\n",
    "    - input_ids: A NumPy array of shape (n_texts, max_sequence_length)\n",
    "    representing the input IDs of the encoded texts.\n",
    "    - attention_mask: A NumPy array of shape (n_texts, max_sequence_length)\n",
    "    representing the attention mask of the encoded texts, if attn_mask=True.\n",
    "    \"\"\" \n",
    "\n",
    "    input_ids = []\n",
    "    attention_mask = []\n",
    "    \n",
    "    for text in texts.tolist():\n",
    "        token = tokenizer(text, \n",
    "                          add_special_tokens=True, \n",
    "                          max_length=SEQUENCE_LENGTH, \n",
    "                          return_attention_mask=True, \n",
    "                          return_tensors=\"np\", \n",
    "                          truncation=True, \n",
    "                          padding='max_length')\n",
    "        input_ids.append(token['input_ids'][0])\n",
    "        attention_mask.append(token['attention_mask'][0])\n",
    "    if attn_mask:\n",
    "        return np.array(input_ids, dtype=\"int32\"), np.array(attention_mask, dtype=\"int32\")\n",
    "    else:\n",
    "        return np.array(input_ids, dtype=\"int32\")\n",
    "\n",
    "\n",
    "def get_data(df, attn_mask=True):\n",
    "    inputs = bert_encode(df['full_text'], bert_tokenizer, attn_mask)  # changed\n",
    "    targets = np.array(df[RUBRIC_COLS], dtype=\"float32\")\n",
    "    return inputs, targets"
   ]
  },
  {
   "cell_type": "code",
   "execution_count": null,
   "id": "lnrSuUvE_Xit",
   "metadata": {
    "id": "lnrSuUvE_Xit"
   },
   "outputs": [],
   "source": [
    "train_dataset = get_data(train_data)\n",
    "val_dataset = get_data(val_data)"
   ]
  },
  {
   "cell_type": "markdown",
   "id": "PzmIfem-wbC8",
   "metadata": {
    "id": "PzmIfem-wbC8"
   },
   "source": [
    "# Loss and Metrics Functions"
   ]
  },
  {
   "cell_type": "code",
   "execution_count": null,
   "id": "frZQl1I6RBaA",
   "metadata": {
    "id": "frZQl1I6RBaA"
   },
   "outputs": [],
   "source": [
    "# Using Huber loss which is less sensitive to outliers/edge cases\n",
    "def huber_loss(y_true, y_pred, clip_delta=1.0):\n",
    "    \"\"\"\n",
    "    Find the Huber loss between the true values and predicted values\n",
    "\n",
    "    Arguments:\n",
    "    - y_true: A tensor or array of true values.\n",
    "    - y_pred: A tensor or array of predicted values.\n",
    "    - clip_delta: A float representing the threshold for the absolute error.\n",
    "    If the absolute error is below this threshold, squared loss is applied,\n",
    "    otherwise, linear loss is applied.\n",
    "\n",
    "    Returns:\n",
    "    - A tensor representing the Huber loss between the true and predicted\n",
    "    values.\n",
    "    \"\"\"\n",
    "\n",
    "    error = y_true - y_pred\n",
    "    cond  = tf.keras.backend.abs(error) < clip_delta\n",
    "\n",
    "    squared_loss = 0.5 * tf.keras.backend.square(error)\n",
    "    linear_loss  = clip_delta * (tf.keras.backend.abs(error) - 0.5 * clip_delta)\n",
    "\n",
    "    return tf.where(cond, squared_loss, linear_loss)\n",
    "\n",
    "keras.losses.huber_loss = huber_loss"
   ]
  },
  {
   "cell_type": "code",
   "execution_count": null,
   "id": "c83a5209",
   "metadata": {
    "id": "c83a5209"
   },
   "outputs": [],
   "source": [
    "def MCRMSE(y_true, y_pred):\n",
    "    \"\"\"\n",
    "    Find mean column wise root mean squared error given arrays of true\n",
    "    labels and predictions\n",
    "    \"\"\"\n",
    "    colwise_mse = tf.reduce_mean(tf.square(y_true - y_pred), axis=0)\n",
    "    return tf.reduce_mean(tf.sqrt(colwise_mse), axis=-1, keepdims=True)"
   ]
  },
  {
   "cell_type": "markdown",
   "id": "clB1IpglzX8X",
   "metadata": {
    "id": "clB1IpglzX8X"
   },
   "source": [
    "# Callbacks and LR "
   ]
  },
  {
   "cell_type": "code",
   "execution_count": null,
   "id": "wU3I7VmVzM8V",
   "metadata": {
    "id": "wU3I7VmVzM8V"
   },
   "outputs": [],
   "source": [
    "#early stopping\n",
    "earlystopper = tf.keras.callbacks.EarlyStopping(\n",
    "      monitor='val_loss', patience = PATIENCE,\n",
    "      restore_best_weights=True)"
   ]
  },
  {
   "cell_type": "code",
   "execution_count": null,
   "id": "TCJcoA1izuEC",
   "metadata": {
    "id": "TCJcoA1izuEC"
   },
   "outputs": [],
   "source": [
    "#learning rate schedule\n",
    "def lr_scheduler(epoch, lr):\n",
    "    \"\"\"Learning rate scheduler\"\"\"\n",
    "    if epoch < 7:\n",
    "        return lr\n",
    "    else:\n",
    "        return lr * tf.math.exp(-0.1)\n",
    "\n",
    "lr_callback = tf.keras.callbacks.LearningRateScheduler(lr_scheduler)"
   ]
  },
  {
   "cell_type": "markdown",
   "id": "oUfQV7lPIgYj",
   "metadata": {
    "id": "oUfQV7lPIgYj"
   },
   "source": [
    "# Model Configuration"
   ]
  },
  {
   "cell_type": "code",
   "execution_count": null,
   "id": "eRXZ8Q5lTUmJ",
   "metadata": {
    "id": "eRXZ8Q5lTUmJ"
   },
   "outputs": [],
   "source": [
    "base_bert_config = dict(\n",
    "    RUBRIC_COLS = ['cohesion', 'syntax', 'vocabulary', \n",
    "                   'phraseology', 'grammar', 'conventions'],\n",
    "    batch_size = BATCH_SIZE,\n",
    "    model_name = 'base_bert',\n",
    "    epochs = EPOCHS,\n",
    "    init_learning_rate = LEARNING_RATE,\n",
    "    lr_decay_rate = LEARNING_RATE_DECAY,\n",
    "    optimizer = 'adam',\n",
    "    loss_fn = huber_loss,\n",
    "    metrics = [MCRMSE],\n",
    "    earlystopping_patience = PATIENCE\n",
    ")"
   ]
  },
  {
   "cell_type": "code",
   "execution_count": null,
   "id": "WmkSju3sXKzh",
   "metadata": {
    "id": "WmkSju3sXKzh"
   },
   "outputs": [],
   "source": [
    "cfg = transformers.AutoConfig.from_pretrained(PRETRAINED_MODEL, output_hidden_states=True) # Changed from deberta_base_fresh\n",
    "cfg.hidden_dropout_prob = 0\n",
    "cfg.attention_probs_dropout_prob = 0\n",
    "# cfg.save_pretrained('./tokenizer/')"
   ]
  },
  {
   "cell_type": "code",
   "execution_count": null,
   "id": "qYPKHPCTTsV9",
   "metadata": {
    "id": "qYPKHPCTTsV9"
   },
   "outputs": [],
   "source": [
    "def create_bert_model(bert_model,\n",
    "                      hidden_size = 100, \n",
    "                      dropout = 0.0):\n",
    "    \"\"\"\n",
    "    Create BERT model with gloval averaging pooling and layer normalization\n",
    "    \n",
    "    Args:\n",
    "    - bert_model (BERT model): A pre-trained BERT model.\n",
    "    - hidden_size (int) : An integer representing the size of the hidden layer.\n",
    "    - dropout (float): A float representing the dropout rate.\n",
    "\n",
    "    Returns:\n",
    "    - A compiled TensorFlow Keras model that takes input IDs and attention masks,\n",
    "    and outputs a prediction for the six analytic measures.\n",
    "    \"\"\"\n",
    "\n",
    "    \n",
    "    # Read in bert model's outputs\n",
    "    input_ids = tf.keras.layers.Input(shape=(SEQUENCE_LENGTH,), dtype=tf.int64, name='input_ids_layer')\n",
    "    attention_masks = tf.keras.layers.Input(shape=(SEQUENCE_LENGTH,), dtype=tf.int64, name='attention_mask_layer')\n",
    "\n",
    "    bert_output = bert_model.bert(\n",
    "        input_ids, attention_mask=attention_masks\n",
    "    )\n",
    "    hidden_states = bert_output.last_hidden_state\n",
    "\n",
    "    x = tf.keras.layers.GlobalAveragePooling1D()(hidden_states)\n",
    "    x = tf.keras.layers.LayerNormalization()(x)\n",
    "\n",
    "    # Prediction layer - predict all 6 analytic measures\n",
    "    output = tf.keras.layers.Dense(6, name='prediction_layer')(x)\n",
    "\n",
    "    # Make and compile model\n",
    "    model = tf.keras.models.Model(inputs=(input_ids, attention_masks), outputs=[output])\n",
    "    model.compile(optimizer=tf.keras.optimizers.Adam(1e-5),\n",
    "                    loss=huber_loss,\n",
    "                    metrics=MCRMSE)\n",
    "       \n",
    "    return model"
   ]
  },
  {
   "cell_type": "markdown",
   "id": "2PpYNQzeIrcv",
   "metadata": {
    "id": "2PpYNQzeIrcv"
   },
   "source": [
    "# Building Model"
   ]
  },
  {
   "cell_type": "code",
   "execution_count": null,
   "id": "_zIGGLyJV1_8",
   "metadata": {
    "colab": {
     "base_uri": "https://localhost:8080/"
    },
    "id": "_zIGGLyJV1_8",
    "outputId": "96e2409e-9c71-4009-b763-d2ff52084c53"
   },
   "outputs": [
    {
     "name": "stderr",
     "output_type": "stream",
     "text": [
      "Some layers from the model checkpoint at bert-large-cased were not used when initializing TFBertModel: ['mlm___cls', 'nsp___cls']\n",
      "- This IS expected if you are initializing TFBertModel from the checkpoint of a model trained on another task or with another architecture (e.g. initializing a BertForSequenceClassification model from a BertForPreTraining model).\n",
      "- This IS NOT expected if you are initializing TFBertModel from the checkpoint of a model that you expect to be exactly identical (initializing a BertForSequenceClassification model from a BertForSequenceClassification model).\n",
      "All the layers of TFBertModel were initialized from the model checkpoint at bert-large-cased.\n",
      "If your task is similar to the task the model of the checkpoint was trained on, you can already use TFBertModel for predictions without further training.\n"
     ]
    },
    {
     "data": {
      "text/plain": [
       "45436"
      ]
     },
     "execution_count": 18,
     "metadata": {},
     "output_type": "execute_result"
    }
   ],
   "source": [
    "#ex 1\n",
    "tf.keras.backend.clear_session()\n",
    "\n",
    "bert_model = transformers.TFAutoModel.from_pretrained(PRETRAINED_MODEL, config=cfg)\n",
    "bert_pooled_model = create_bert_model(bert_model,\n",
    "                                                 train_layers = -1,\n",
    "                                                 hidden_size = 100, \n",
    "                                                 dropout = 0.0)\n",
    "\n",
    "tf.keras.backend.clear_session()\n",
    "\n",
    "gc.collect()"
   ]
  },
  {
   "cell_type": "markdown",
   "id": "J3MWhdMP2Hzg",
   "metadata": {
    "id": "J3MWhdMP2Hzg"
   },
   "source": [
    "# Training and Evaluate Model"
   ]
  },
  {
   "cell_type": "code",
   "execution_count": null,
   "id": "VgEFYaMN2PVs",
   "metadata": {
    "id": "VgEFYaMN2PVs"
   },
   "outputs": [],
   "source": [
    "def train_model(model,\n",
    "                train_df,\n",
    "                val_df,\n",
    "                config: dict,\n",
    "                callbacks: list,\n",
    "                verbose: int=0):\n",
    "    \n",
    "    \"\"\"\n",
    "    Fit created BERT model using training and validation sets\n",
    "    \"\"\"\n",
    "    \n",
    "    # Initalize model\n",
    "    tf.keras.backend.clear_session()\n",
    "    callback = tf.keras.callbacks.EarlyStopping(monitor='MCRMSE', patience = PATIENCE , restore_best_weights=True)\n",
    "\n",
    "    model_history = model.fit(\n",
    "      x=train_df[0],\n",
    "      y=train_df[1],\n",
    "      validation_data = val_df,\n",
    "      batch_size=BATCH_SIZE,\n",
    "      epochs=EPOCHS,\n",
    "      shuffle = True, \n",
    "      callbacks = [callback]\n",
    "      )\n",
    "\n",
    "    return model_history"
   ]
  },
  {
   "cell_type": "code",
   "execution_count": null,
   "id": "BRjuh6V3YJJX",
   "metadata": {
    "colab": {
     "base_uri": "https://localhost:8080/",
     "height": 128
    },
    "id": "BRjuh6V3YJJX",
    "outputId": "663cd1e1-265f-4391-9222-51f39bb82f7a"
   },
   "outputs": [
    {
     "data": {
      "image/png": "[encoded data removed]",
      "text/plain": [
       "<IPython.core.display.Image object>"
      ]
     },
     "execution_count": 22,
     "metadata": {},
     "output_type": "execute_result"
    }
   ],
   "source": [
    "plot_model(bert_pooled_model, show_shapes=True, show_layer_names=True)"
   ]
  },
  {
   "cell_type": "code",
   "execution_count": null,
   "id": "GAJo9urbYK8-",
   "metadata": {
    "colab": {
     "base_uri": "https://localhost:8080/"
    },
    "id": "GAJo9urbYK8-",
    "outputId": "98aee2f6-6e98-42d8-fd0c-0a79dda5c91b"
   },
   "outputs": [
    {
     "name": "stdout",
     "output_type": "stream",
     "text": [
      "Model: \"model\"\n",
      "__________________________________________________________________________________________________\n",
      " Layer (type)                   Output Shape         Param #     Connected to                     \n",
      "==================================================================================================\n",
      " input_ids_layer (InputLayer)   [(None, 512)]        0           []                               \n",
      "                                                                                                  \n",
      " attention_mask_layer (InputLay  [(None, 512)]       0           []                               \n",
      " er)                                                                                              \n",
      "                                                                                                  \n",
      " bert (TFBertMainLayer)         TFBaseModelOutputWi  333579264   ['input_ids_layer[0][0]',        \n",
      "                                thPoolingAndCrossAt               'attention_mask_layer[0][0]']   \n",
      "                                tentions(last_hidde                                               \n",
      "                                n_state=(None, 512,                                               \n",
      "                                 1024),                                                           \n",
      "                                 pooler_output=(Non                                               \n",
      "                                e, 1024),                                                         \n",
      "                                 past_key_values=No                                               \n",
      "                                ne, hidden_states=(                                               \n",
      "                                (None, 512, 1024),                                                \n",
      "                                 (None, 512, 1024),                                               \n",
      "                                 (None, 512, 1024),                                               \n",
      "                                 (None, 512, 1024),                                               \n",
      "                                 (None, 512, 1024),                                               \n",
      "                                 (None, 512, 1024),                                               \n",
      "                                 (None, 512, 1024),                                               \n",
      "                                 (None, 512, 1024),                                               \n",
      "                                 (None, 512, 1024),                                               \n",
      "                                 (None, 512, 1024),                                               \n",
      "                                 (None, 512, 1024),                                               \n",
      "                                 (None, 512, 1024),                                               \n",
      "                                 (None, 512, 1024),                                               \n",
      "                                 (None, 512, 1024),                                               \n",
      "                                 (None, 512, 1024),                                               \n",
      "                                 (None, 512, 1024),                                               \n",
      "                                 (None, 512, 1024),                                               \n",
      "                                 (None, 512, 1024),                                               \n",
      "                                 (None, 512, 1024),                                               \n",
      "                                 (None, 512, 1024),                                               \n",
      "                                 (None, 512, 1024),                                               \n",
      "                                 (None, 512, 1024),                                               \n",
      "                                 (None, 512, 1024),                                               \n",
      "                                 (None, 512, 1024),                                               \n",
      "                                 (None, 512, 1024))                                               \n",
      "                                , attentions=None,                                                \n",
      "                                cross_attentions=No                                               \n",
      "                                ne)                                                               \n",
      "                                                                                                  \n",
      " global_average_pooling1d (Glob  (None, 1024)        0           ['bert[0][25]']                  \n",
      " alAveragePooling1D)                                                                              \n",
      "                                                                                                  \n",
      " layer_normalization (LayerNorm  (None, 1024)        2048        ['global_average_pooling1d[0][0]'\n",
      " alization)                                                      ]                                \n",
      "                                                                                                  \n",
      " prediction_layer (Dense)       (None, 6)            6150        ['layer_normalization[0][0]']    \n",
      "                                                                                                  \n",
      "==================================================================================================\n",
      "Total params: 333,587,462\n",
      "Trainable params: 333,587,462\n",
      "Non-trainable params: 0\n",
      "__________________________________________________________________________________________________\n"
     ]
    }
   ],
   "source": [
    "bert_pooled_model.summary()"
   ]
  },
  {
   "cell_type": "code",
   "execution_count": null,
   "id": "cebDfK0Hsnap",
   "metadata": {
    "colab": {
     "base_uri": "https://localhost:8080/"
    },
    "id": "cebDfK0Hsnap",
    "outputId": "b00fe2b7-89b5-4ade-8651-fa58428c38b2"
   },
   "outputs": [
    {
     "name": "stdout",
     "output_type": "stream",
     "text": [
      "Epoch 1/6\n"
     ]
    },
    {
     "name": "stderr",
     "output_type": "stream",
     "text": [
      "WARNING:tensorflow:Gradients do not exist for variables ['tf_bert_model/bert/pooler/dense/kernel:0', 'tf_bert_model/bert/pooler/dense/bias:0'] when minimizing the loss. If you're using `model.compile()`, did you forget to provide a `loss`argument?\n",
      "WARNING:tensorflow:Gradients do not exist for variables ['tf_bert_model/bert/pooler/dense/kernel:0', 'tf_bert_model/bert/pooler/dense/bias:0'] when minimizing the loss. If you're using `model.compile()`, did you forget to provide a `loss`argument?\n"
     ]
    },
    {
     "name": "stdout",
     "output_type": "stream",
     "text": [
      "2347/2347 [==============================] - 185s 70ms/step - loss: 0.1609 - MCRMSE: 0.4539 - val_loss: 0.1135 - val_MCRMSE: 0.3845\n",
      "Epoch 2/6\n",
      "2347/2347 [==============================] - 161s 69ms/step - loss: 0.1145 - MCRMSE: 0.3846 - val_loss: 0.1140 - val_MCRMSE: 0.3850\n",
      "Epoch 3/6\n",
      "2347/2347 [==============================] - 161s 69ms/step - loss: 0.0865 - MCRMSE: 0.3315 - val_loss: 0.1255 - val_MCRMSE: 0.4061\n",
      "Epoch 4/6\n",
      "2347/2347 [==============================] - 161s 69ms/step - loss: 0.0681 - MCRMSE: 0.2950 - val_loss: 0.1190 - val_MCRMSE: 0.3923\n",
      "Epoch 5/6\n",
      "2347/2347 [==============================] - 161s 68ms/step - loss: 0.0576 - MCRMSE: 0.2713 - val_loss: 0.1160 - val_MCRMSE: 0.3873\n",
      "Epoch 6/6\n",
      "2347/2347 [==============================] - 161s 68ms/step - loss: 0.0418 - MCRMSE: 0.2299 - val_loss: 0.1197 - val_MCRMSE: 0.3924\n",
      "CPU times: user 17min 11s, sys: 19.6 s, total: 17min 30s\n",
      "Wall time: 16min 29s\n"
     ]
    }
   ],
   "source": [
    "%%time\n",
    "callbacks = [earlystopper]\n",
    "\n",
    "tf.keras.backend.clear_session()\n",
    "\n",
    "db_last_hidden_model = train_model(model=bert_pooled_model,\n",
    "                        train_df = train_dataset, \n",
    "                         val_df = val_dataset, \n",
    "                         config=base_bert_config, \n",
    "                         callbacks=callbacks, \n",
    "                         verbose=1)\n",
    "\n",
    "tf.keras.backend.clear_session()"
   ]
  },
  {
   "cell_type": "markdown",
   "id": "381fdfbf-2efb-49b8-84bd-2ec4c6683abd",
   "metadata": {
    "tags": []
   },
   "source": [
    "## Validation loss: ~0.385, overfitting training set"
   ]
  },
  {
   "cell_type": "code",
   "execution_count": null,
   "id": "ed2cc9ba-dbb5-47cf-a553-f8b2bb122ed2",
   "metadata": {},
   "outputs": [],
   "source": []
  }
 ],
 "metadata": {
  "accelerator": "GPU",
  "colab": {
   "collapsed_sections": [
    "03db3ebf"
   ],
   "machine_shape": "hm",
   "provenance": []
  },
  "gpuClass": "premium",
  "kernelspec": {
   "display_name": "Python 3 (ipykernel)",
   "language": "python",
   "name": "python3"
  },
  "language_info": {
   "codemirror_mode": {
    "name": "ipython",
    "version": 3
   },
   "file_extension": ".py",
   "mimetype": "text/x-python",
   "name": "python",
   "nbconvert_exporter": "python",
   "pygments_lexer": "ipython3",
   "version": "3.9.7"
  },
  "papermill": {
   "default_parameters": {},
   "duration": 987.955368,
   "end_time": "2022-09-21T23:17:00.351231",
   "environment_variables": {},
   "exception": null,
   "input_path": "__notebook__.ipynb",
   "output_path": "__notebook__.ipynb",
   "parameters": {},
   "start_time": "2022-09-21T23:00:32.395863",
   "version": "2.3.4"
  },
  "widgets": {
   "application/vnd.jupyter.widget-state+json": {
    "01d0a30ec5c2441487288dac2c0d1059": {
     "model_module": "@jupyter-widgets/controls",
     "model_module_version": "1.5.0",
     "model_name": "HTMLModel",
     "state": {
      "_dom_classes": [],
      "_model_module": "@jupyter-widgets/controls",
      "_model_module_version": "1.5.0",
      "_model_name": "HTMLModel",
      "_view_count": null,
      "_view_module": "@jupyter-widgets/controls",
      "_view_module_version": "1.5.0",
      "_view_name": "HTMLView",
      "description": "",
      "description_tooltip": null,
      "layout": "IPY_MODEL_2bb5f6957b874ddfbbc99e9491a7263d",
      "placeholder": "​",
      "style": "IPY_MODEL_26236c17315143a0ac9fb43a2e21d9fe",
      "value": "Downloading: 100%"
     }
    },
    "06a954630ab840d292ecc9b51a03755c": {
     "model_module": "@jupyter-widgets/base",
     "model_module_version": "1.2.0",
     "model_name": "LayoutModel",
     "state": {
      "_model_module": "@jupyter-widgets/base",
      "_model_module_version": "1.2.0",
      "_model_name": "LayoutModel",
      "_view_count": null,
      "_view_module": "@jupyter-widgets/base",
      "_view_module_version": "1.2.0",
      "_view_name": "LayoutView",
      "align_content": null,
      "align_items": null,
      "align_self": null,
      "border": null,
      "bottom": null,
      "display": null,
      "flex": null,
      "flex_flow": null,
      "grid_area": null,
      "grid_auto_columns": null,
      "grid_auto_flow": null,
      "grid_auto_rows": null,
      "grid_column": null,
      "grid_gap": null,
      "grid_row": null,
      "grid_template_areas": null,
      "grid_template_columns": null,
      "grid_template_rows": null,
      "height": null,
      "justify_content": null,
      "justify_items": null,
      "left": null,
      "margin": null,
      "max_height": null,
      "max_width": null,
      "min_height": null,
      "min_width": null,
      "object_fit": null,
      "object_position": null,
      "order": null,
      "overflow": null,
      "overflow_x": null,
      "overflow_y": null,
      "padding": null,
      "right": null,
      "top": null,
      "visibility": null,
      "width": null
     }
    },
    "081a568a60a144e888c0acf9884cbcc0": {
     "model_module": "@jupyter-widgets/controls",
     "model_module_version": "1.5.0",
     "model_name": "HTMLModel",
     "state": {
      "_dom_classes": [],
      "_model_module": "@jupyter-widgets/controls",
      "_model_module_version": "1.5.0",
      "_model_name": "HTMLModel",
      "_view_count": null,
      "_view_module": "@jupyter-widgets/controls",
      "_view_module_version": "1.5.0",
      "_view_name": "HTMLView",
      "description": "",
      "description_tooltip": null,
      "layout": "IPY_MODEL_4684c23ff97a42eeb60fb51649cc2238",
      "placeholder": "​",
      "style": "IPY_MODEL_110d31e7b8d14dbf886b619cb3b40a54",
      "value": "Downloading: 100%"
     }
    },
    "0b8912c05d8a4868b967feb066db7849": {
     "model_module": "@jupyter-widgets/controls",
     "model_module_version": "1.5.0",
     "model_name": "FloatProgressModel",
     "state": {
      "_dom_classes": [],
      "_model_module": "@jupyter-widgets/controls",
      "_model_module_version": "1.5.0",
      "_model_name": "FloatProgressModel",
      "_view_count": null,
      "_view_module": "@jupyter-widgets/controls",
      "_view_module_version": "1.5.0",
      "_view_name": "ProgressView",
      "bar_style": "success",
      "description": "",
      "description_tooltip": null,
      "layout": "IPY_MODEL_1632f84b72844f9bb5ff33260df2e513",
      "max": 29,
      "min": 0,
      "orientation": "horizontal",
      "style": "IPY_MODEL_5bcacf9d03144791b2f73c15519b399f",
      "value": 29
     }
    },
    "10a5b431e0124a22bb96e48700c2649b": {
     "model_module": "@jupyter-widgets/controls",
     "model_module_version": "1.5.0",
     "model_name": "DescriptionStyleModel",
     "state": {
      "_model_module": "@jupyter-widgets/controls",
      "_model_module_version": "1.5.0",
      "_model_name": "DescriptionStyleModel",
      "_view_count": null,
      "_view_module": "@jupyter-widgets/base",
      "_view_module_version": "1.2.0",
      "_view_name": "StyleView",
      "description_width": ""
     }
    },
    "110d31e7b8d14dbf886b619cb3b40a54": {
     "model_module": "@jupyter-widgets/controls",
     "model_module_version": "1.5.0",
     "model_name": "DescriptionStyleModel",
     "state": {
      "_model_module": "@jupyter-widgets/controls",
      "_model_module_version": "1.5.0",
      "_model_name": "DescriptionStyleModel",
      "_view_count": null,
      "_view_module": "@jupyter-widgets/base",
      "_view_module_version": "1.2.0",
      "_view_name": "StyleView",
      "description_width": ""
     }
    },
    "11e745d67136497fb4d12f458d0b93a6": {
     "model_module": "@jupyter-widgets/controls",
     "model_module_version": "1.5.0",
     "model_name": "HTMLModel",
     "state": {
      "_dom_classes": [],
      "_model_module": "@jupyter-widgets/controls",
      "_model_module_version": "1.5.0",
      "_model_name": "HTMLModel",
      "_view_count": null,
      "_view_module": "@jupyter-widgets/controls",
      "_view_module_version": "1.5.0",
      "_view_name": "HTMLView",
      "description": "",
      "description_tooltip": null,
      "layout": "IPY_MODEL_2bef14a9d5e9401ba3abeef05fa1c3fb",
      "placeholder": "​",
      "style": "IPY_MODEL_379b92c06ea34807b6b0ebd2e828232b",
      "value": " 1.46G/1.46G [00:23&lt;00:00, 64.6MB/s]"
     }
    },
    "1465ca321668437eb02af976ec1975e1": {
     "model_module": "@jupyter-widgets/controls",
     "model_module_version": "1.5.0",
     "model_name": "ProgressStyleModel",
     "state": {
      "_model_module": "@jupyter-widgets/controls",
      "_model_module_version": "1.5.0",
      "_model_name": "ProgressStyleModel",
      "_view_count": null,
      "_view_module": "@jupyter-widgets/base",
      "_view_module_version": "1.2.0",
      "_view_name": "StyleView",
      "bar_color": null,
      "description_width": ""
     }
    },
    "15302c211d9d4ad0849a6f7d06e10b99": {
     "model_module": "@jupyter-widgets/base",
     "model_module_version": "1.2.0",
     "model_name": "LayoutModel",
     "state": {
      "_model_module": "@jupyter-widgets/base",
      "_model_module_version": "1.2.0",
      "_model_name": "LayoutModel",
      "_view_count": null,
      "_view_module": "@jupyter-widgets/base",
      "_view_module_version": "1.2.0",
      "_view_name": "LayoutView",
      "align_content": null,
      "align_items": null,
      "align_self": null,
      "border": null,
      "bottom": null,
      "display": null,
      "flex": null,
      "flex_flow": null,
      "grid_area": null,
      "grid_auto_columns": null,
      "grid_auto_flow": null,
      "grid_auto_rows": null,
      "grid_column": null,
      "grid_gap": null,
      "grid_row": null,
      "grid_template_areas": null,
      "grid_template_columns": null,
      "grid_template_rows": null,
      "height": null,
      "justify_content": null,
      "justify_items": null,
      "left": null,
      "margin": null,
      "max_height": null,
      "max_width": null,
      "min_height": null,
      "min_width": null,
      "object_fit": null,
      "object_position": null,
      "order": null,
      "overflow": null,
      "overflow_x": null,
      "overflow_y": null,
      "padding": null,
      "right": null,
      "top": null,
      "visibility": null,
      "width": null
     }
    },
    "15371c8626b74e379039656d3ba2470c": {
     "model_module": "@jupyter-widgets/controls",
     "model_module_version": "1.5.0",
     "model_name": "HTMLModel",
     "state": {
      "_dom_classes": [],
      "_model_module": "@jupyter-widgets/controls",
      "_model_module_version": "1.5.0",
      "_model_name": "HTMLModel",
      "_view_count": null,
      "_view_module": "@jupyter-widgets/controls",
      "_view_module_version": "1.5.0",
      "_view_name": "HTMLView",
      "description": "",
      "description_tooltip": null,
      "layout": "IPY_MODEL_df6ada35dce841328d2f072edf0e31c1",
      "placeholder": "​",
      "style": "IPY_MODEL_c0f7c8ed0256449f9ff1283648e98e76",
      "value": " 762/762 [00:00&lt;00:00, 28.6kB/s]"
     }
    },
    "1632f84b72844f9bb5ff33260df2e513": {
     "model_module": "@jupyter-widgets/base",
     "model_module_version": "1.2.0",
     "model_name": "LayoutModel",
     "state": {
      "_model_module": "@jupyter-widgets/base",
      "_model_module_version": "1.2.0",
      "_model_name": "LayoutModel",
      "_view_count": null,
      "_view_module": "@jupyter-widgets/base",
      "_view_module_version": "1.2.0",
      "_view_name": "LayoutView",
      "align_content": null,
      "align_items": null,
      "align_self": null,
      "border": null,
      "bottom": null,
      "display": null,
      "flex": null,
      "flex_flow": null,
      "grid_area": null,
      "grid_auto_columns": null,
      "grid_auto_flow": null,
      "grid_auto_rows": null,
      "grid_column": null,
      "grid_gap": null,
      "grid_row": null,
      "grid_template_areas": null,
      "grid_template_columns": null,
      "grid_template_rows": null,
      "height": null,
      "justify_content": null,
      "justify_items": null,
      "left": null,
      "margin": null,
      "max_height": null,
      "max_width": null,
      "min_height": null,
      "min_width": null,
      "object_fit": null,
      "object_position": null,
      "order": null,
      "overflow": null,
      "overflow_x": null,
      "overflow_y": null,
      "padding": null,
      "right": null,
      "top": null,
      "visibility": null,
      "width": null
     }
    },
    "223d3d23bf7f4389a2a43f066b192619": {
     "model_module": "@jupyter-widgets/controls",
     "model_module_version": "1.5.0",
     "model_name": "HTMLModel",
     "state": {
      "_dom_classes": [],
      "_model_module": "@jupyter-widgets/controls",
      "_model_module_version": "1.5.0",
      "_model_name": "HTMLModel",
      "_view_count": null,
      "_view_module": "@jupyter-widgets/controls",
      "_view_module_version": "1.5.0",
      "_view_name": "HTMLView",
      "description": "",
      "description_tooltip": null,
      "layout": "IPY_MODEL_9e6699a57c994a21a48765d37cd1a2bf",
      "placeholder": "​",
      "style": "IPY_MODEL_f4d4deed769a4d8593033ab1bc0086f8",
      "value": " 213k/213k [00:00&lt;00:00, 1.53MB/s]"
     }
    },
    "26236c17315143a0ac9fb43a2e21d9fe": {
     "model_module": "@jupyter-widgets/controls",
     "model_module_version": "1.5.0",
     "model_name": "DescriptionStyleModel",
     "state": {
      "_model_module": "@jupyter-widgets/controls",
      "_model_module_version": "1.5.0",
      "_model_name": "DescriptionStyleModel",
      "_view_count": null,
      "_view_module": "@jupyter-widgets/base",
      "_view_module_version": "1.2.0",
      "_view_name": "StyleView",
      "description_width": ""
     }
    },
    "2bb5f6957b874ddfbbc99e9491a7263d": {
     "model_module": "@jupyter-widgets/base",
     "model_module_version": "1.2.0",
     "model_name": "LayoutModel",
     "state": {
      "_model_module": "@jupyter-widgets/base",
      "_model_module_version": "1.2.0",
      "_model_name": "LayoutModel",
      "_view_count": null,
      "_view_module": "@jupyter-widgets/base",
      "_view_module_version": "1.2.0",
      "_view_name": "LayoutView",
      "align_content": null,
      "align_items": null,
      "align_self": null,
      "border": null,
      "bottom": null,
      "display": null,
      "flex": null,
      "flex_flow": null,
      "grid_area": null,
      "grid_auto_columns": null,
      "grid_auto_flow": null,
      "grid_auto_rows": null,
      "grid_column": null,
      "grid_gap": null,
      "grid_row": null,
      "grid_template_areas": null,
      "grid_template_columns": null,
      "grid_template_rows": null,
      "height": null,
      "justify_content": null,
      "justify_items": null,
      "left": null,
      "margin": null,
      "max_height": null,
      "max_width": null,
      "min_height": null,
      "min_width": null,
      "object_fit": null,
      "object_position": null,
      "order": null,
      "overflow": null,
      "overflow_x": null,
      "overflow_y": null,
      "padding": null,
      "right": null,
      "top": null,
      "visibility": null,
      "width": null
     }
    },
    "2bef14a9d5e9401ba3abeef05fa1c3fb": {
     "model_module": "@jupyter-widgets/base",
     "model_module_version": "1.2.0",
     "model_name": "LayoutModel",
     "state": {
      "_model_module": "@jupyter-widgets/base",
      "_model_module_version": "1.2.0",
      "_model_name": "LayoutModel",
      "_view_count": null,
      "_view_module": "@jupyter-widgets/base",
      "_view_module_version": "1.2.0",
      "_view_name": "LayoutView",
      "align_content": null,
      "align_items": null,
      "align_self": null,
      "border": null,
      "bottom": null,
      "display": null,
      "flex": null,
      "flex_flow": null,
      "grid_area": null,
      "grid_auto_columns": null,
      "grid_auto_flow": null,
      "grid_auto_rows": null,
      "grid_column": null,
      "grid_gap": null,
      "grid_row": null,
      "grid_template_areas": null,
      "grid_template_columns": null,
      "grid_template_rows": null,
      "height": null,
      "justify_content": null,
      "justify_items": null,
      "left": null,
      "margin": null,
      "max_height": null,
      "max_width": null,
      "min_height": null,
      "min_width": null,
      "object_fit": null,
      "object_position": null,
      "order": null,
      "overflow": null,
      "overflow_x": null,
      "overflow_y": null,
      "padding": null,
      "right": null,
      "top": null,
      "visibility": null,
      "width": null
     }
    },
    "2f11d59c93dc464f8c765ca6a73e310f": {
     "model_module": "@jupyter-widgets/controls",
     "model_module_version": "1.5.0",
     "model_name": "HBoxModel",
     "state": {
      "_dom_classes": [],
      "_model_module": "@jupyter-widgets/controls",
      "_model_module_version": "1.5.0",
      "_model_name": "HBoxModel",
      "_view_count": null,
      "_view_module": "@jupyter-widgets/controls",
      "_view_module_version": "1.5.0",
      "_view_name": "HBoxView",
      "box_style": "",
      "children": [
       "IPY_MODEL_84a5e92af84a4a4f9ab92877cfad1d74",
       "IPY_MODEL_d374846117ab45acb0a5bd586b187fe7",
       "IPY_MODEL_223d3d23bf7f4389a2a43f066b192619"
      ],
      "layout": "IPY_MODEL_06a954630ab840d292ecc9b51a03755c"
     }
    },
    "300399dcf32b4d33b166debcd3fe363b": {
     "model_module": "@jupyter-widgets/controls",
     "model_module_version": "1.5.0",
     "model_name": "DescriptionStyleModel",
     "state": {
      "_model_module": "@jupyter-widgets/controls",
      "_model_module_version": "1.5.0",
      "_model_name": "DescriptionStyleModel",
      "_view_count": null,
      "_view_module": "@jupyter-widgets/base",
      "_view_module_version": "1.2.0",
      "_view_name": "StyleView",
      "description_width": ""
     }
    },
    "379b92c06ea34807b6b0ebd2e828232b": {
     "model_module": "@jupyter-widgets/controls",
     "model_module_version": "1.5.0",
     "model_name": "DescriptionStyleModel",
     "state": {
      "_model_module": "@jupyter-widgets/controls",
      "_model_module_version": "1.5.0",
      "_model_name": "DescriptionStyleModel",
      "_view_count": null,
      "_view_module": "@jupyter-widgets/base",
      "_view_module_version": "1.2.0",
      "_view_name": "StyleView",
      "description_width": ""
     }
    },
    "39957e3d355f4e919b8992af126752cc": {
     "model_module": "@jupyter-widgets/controls",
     "model_module_version": "1.5.0",
     "model_name": "HBoxModel",
     "state": {
      "_dom_classes": [],
      "_model_module": "@jupyter-widgets/controls",
      "_model_module_version": "1.5.0",
      "_model_name": "HBoxModel",
      "_view_count": null,
      "_view_module": "@jupyter-widgets/controls",
      "_view_module_version": "1.5.0",
      "_view_name": "HBoxView",
      "box_style": "",
      "children": [
       "IPY_MODEL_081a568a60a144e888c0acf9884cbcc0",
       "IPY_MODEL_ff13f69b2dac4965ad0e1583d1087b1a",
       "IPY_MODEL_15371c8626b74e379039656d3ba2470c"
      ],
      "layout": "IPY_MODEL_e6d5fc33e5974818a6ebe68c8b121068"
     }
    },
    "3a0a2c8e729f41fbb28ca8a58de7bcea": {
     "model_module": "@jupyter-widgets/controls",
     "model_module_version": "1.5.0",
     "model_name": "HTMLModel",
     "state": {
      "_dom_classes": [],
      "_model_module": "@jupyter-widgets/controls",
      "_model_module_version": "1.5.0",
      "_model_name": "HTMLModel",
      "_view_count": null,
      "_view_module": "@jupyter-widgets/controls",
      "_view_module_version": "1.5.0",
      "_view_name": "HTMLView",
      "description": "",
      "description_tooltip": null,
      "layout": "IPY_MODEL_3a89f716b1fc40d2ac3afcd79f11f171",
      "placeholder": "​",
      "style": "IPY_MODEL_799694905da44625a886032d2f510671",
      "value": " 29.0/29.0 [00:00&lt;00:00, 1.12kB/s]"
     }
    },
    "3a89f716b1fc40d2ac3afcd79f11f171": {
     "model_module": "@jupyter-widgets/base",
     "model_module_version": "1.2.0",
     "model_name": "LayoutModel",
     "state": {
      "_model_module": "@jupyter-widgets/base",
      "_model_module_version": "1.2.0",
      "_model_name": "LayoutModel",
      "_view_count": null,
      "_view_module": "@jupyter-widgets/base",
      "_view_module_version": "1.2.0",
      "_view_name": "LayoutView",
      "align_content": null,
      "align_items": null,
      "align_self": null,
      "border": null,
      "bottom": null,
      "display": null,
      "flex": null,
      "flex_flow": null,
      "grid_area": null,
      "grid_auto_columns": null,
      "grid_auto_flow": null,
      "grid_auto_rows": null,
      "grid_column": null,
      "grid_gap": null,
      "grid_row": null,
      "grid_template_areas": null,
      "grid_template_columns": null,
      "grid_template_rows": null,
      "height": null,
      "justify_content": null,
      "justify_items": null,
      "left": null,
      "margin": null,
      "max_height": null,
      "max_width": null,
      "min_height": null,
      "min_width": null,
      "object_fit": null,
      "object_position": null,
      "order": null,
      "overflow": null,
      "overflow_x": null,
      "overflow_y": null,
      "padding": null,
      "right": null,
      "top": null,
      "visibility": null,
      "width": null
     }
    },
    "3b5e48c623bc408389bc3a4e2108b8e8": {
     "model_module": "@jupyter-widgets/controls",
     "model_module_version": "1.5.0",
     "model_name": "DescriptionStyleModel",
     "state": {
      "_model_module": "@jupyter-widgets/controls",
      "_model_module_version": "1.5.0",
      "_model_name": "DescriptionStyleModel",
      "_view_count": null,
      "_view_module": "@jupyter-widgets/base",
      "_view_module_version": "1.2.0",
      "_view_name": "StyleView",
      "description_width": ""
     }
    },
    "41d611ce0803444892dda65869a47d25": {
     "model_module": "@jupyter-widgets/controls",
     "model_module_version": "1.5.0",
     "model_name": "HBoxModel",
     "state": {
      "_dom_classes": [],
      "_model_module": "@jupyter-widgets/controls",
      "_model_module_version": "1.5.0",
      "_model_name": "HBoxModel",
      "_view_count": null,
      "_view_module": "@jupyter-widgets/controls",
      "_view_module_version": "1.5.0",
      "_view_name": "HBoxView",
      "box_style": "",
      "children": [
       "IPY_MODEL_f07f4e4d36394123b969baf7ad547e67",
       "IPY_MODEL_0b8912c05d8a4868b967feb066db7849",
       "IPY_MODEL_3a0a2c8e729f41fbb28ca8a58de7bcea"
      ],
      "layout": "IPY_MODEL_15302c211d9d4ad0849a6f7d06e10b99"
     }
    },
    "4546dc2c388340569f9f1528882cbc34": {
     "model_module": "@jupyter-widgets/controls",
     "model_module_version": "1.5.0",
     "model_name": "ProgressStyleModel",
     "state": {
      "_model_module": "@jupyter-widgets/controls",
      "_model_module_version": "1.5.0",
      "_model_name": "ProgressStyleModel",
      "_view_count": null,
      "_view_module": "@jupyter-widgets/base",
      "_view_module_version": "1.2.0",
      "_view_name": "StyleView",
      "bar_color": null,
      "description_width": ""
     }
    },
    "4684c23ff97a42eeb60fb51649cc2238": {
     "model_module": "@jupyter-widgets/base",
     "model_module_version": "1.2.0",
     "model_name": "LayoutModel",
     "state": {
      "_model_module": "@jupyter-widgets/base",
      "_model_module_version": "1.2.0",
      "_model_name": "LayoutModel",
      "_view_count": null,
      "_view_module": "@jupyter-widgets/base",
      "_view_module_version": "1.2.0",
      "_view_name": "LayoutView",
      "align_content": null,
      "align_items": null,
      "align_self": null,
      "border": null,
      "bottom": null,
      "display": null,
      "flex": null,
      "flex_flow": null,
      "grid_area": null,
      "grid_auto_columns": null,
      "grid_auto_flow": null,
      "grid_auto_rows": null,
      "grid_column": null,
      "grid_gap": null,
      "grid_row": null,
      "grid_template_areas": null,
      "grid_template_columns": null,
      "grid_template_rows": null,
      "height": null,
      "justify_content": null,
      "justify_items": null,
      "left": null,
      "margin": null,
      "max_height": null,
      "max_width": null,
      "min_height": null,
      "min_width": null,
      "object_fit": null,
      "object_position": null,
      "order": null,
      "overflow": null,
      "overflow_x": null,
      "overflow_y": null,
      "padding": null,
      "right": null,
      "top": null,
      "visibility": null,
      "width": null
     }
    },
    "4fc58b39c00f44c0a7caace737f68d89": {
     "model_module": "@jupyter-widgets/base",
     "model_module_version": "1.2.0",
     "model_name": "LayoutModel",
     "state": {
      "_model_module": "@jupyter-widgets/base",
      "_model_module_version": "1.2.0",
      "_model_name": "LayoutModel",
      "_view_count": null,
      "_view_module": "@jupyter-widgets/base",
      "_view_module_version": "1.2.0",
      "_view_name": "LayoutView",
      "align_content": null,
      "align_items": null,
      "align_self": null,
      "border": null,
      "bottom": null,
      "display": null,
      "flex": null,
      "flex_flow": null,
      "grid_area": null,
      "grid_auto_columns": null,
      "grid_auto_flow": null,
      "grid_auto_rows": null,
      "grid_column": null,
      "grid_gap": null,
      "grid_row": null,
      "grid_template_areas": null,
      "grid_template_columns": null,
      "grid_template_rows": null,
      "height": null,
      "justify_content": null,
      "justify_items": null,
      "left": null,
      "margin": null,
      "max_height": null,
      "max_width": null,
      "min_height": null,
      "min_width": null,
      "object_fit": null,
      "object_position": null,
      "order": null,
      "overflow": null,
      "overflow_x": null,
      "overflow_y": null,
      "padding": null,
      "right": null,
      "top": null,
      "visibility": null,
      "width": null
     }
    },
    "502f605269a9472089ab4ca1ed3aa37e": {
     "model_module": "@jupyter-widgets/base",
     "model_module_version": "1.2.0",
     "model_name": "LayoutModel",
     "state": {
      "_model_module": "@jupyter-widgets/base",
      "_model_module_version": "1.2.0",
      "_model_name": "LayoutModel",
      "_view_count": null,
      "_view_module": "@jupyter-widgets/base",
      "_view_module_version": "1.2.0",
      "_view_name": "LayoutView",
      "align_content": null,
      "align_items": null,
      "align_self": null,
      "border": null,
      "bottom": null,
      "display": null,
      "flex": null,
      "flex_flow": null,
      "grid_area": null,
      "grid_auto_columns": null,
      "grid_auto_flow": null,
      "grid_auto_rows": null,
      "grid_column": null,
      "grid_gap": null,
      "grid_row": null,
      "grid_template_areas": null,
      "grid_template_columns": null,
      "grid_template_rows": null,
      "height": null,
      "justify_content": null,
      "justify_items": null,
      "left": null,
      "margin": null,
      "max_height": null,
      "max_width": null,
      "min_height": null,
      "min_width": null,
      "object_fit": null,
      "object_position": null,
      "order": null,
      "overflow": null,
      "overflow_x": null,
      "overflow_y": null,
      "padding": null,
      "right": null,
      "top": null,
      "visibility": null,
      "width": null
     }
    },
    "54fdcd66825a4847b286a77840c71b1c": {
     "model_module": "@jupyter-widgets/base",
     "model_module_version": "1.2.0",
     "model_name": "LayoutModel",
     "state": {
      "_model_module": "@jupyter-widgets/base",
      "_model_module_version": "1.2.0",
      "_model_name": "LayoutModel",
      "_view_count": null,
      "_view_module": "@jupyter-widgets/base",
      "_view_module_version": "1.2.0",
      "_view_name": "LayoutView",
      "align_content": null,
      "align_items": null,
      "align_self": null,
      "border": null,
      "bottom": null,
      "display": null,
      "flex": null,
      "flex_flow": null,
      "grid_area": null,
      "grid_auto_columns": null,
      "grid_auto_flow": null,
      "grid_auto_rows": null,
      "grid_column": null,
      "grid_gap": null,
      "grid_row": null,
      "grid_template_areas": null,
      "grid_template_columns": null,
      "grid_template_rows": null,
      "height": null,
      "justify_content": null,
      "justify_items": null,
      "left": null,
      "margin": null,
      "max_height": null,
      "max_width": null,
      "min_height": null,
      "min_width": null,
      "object_fit": null,
      "object_position": null,
      "order": null,
      "overflow": null,
      "overflow_x": null,
      "overflow_y": null,
      "padding": null,
      "right": null,
      "top": null,
      "visibility": null,
      "width": null
     }
    },
    "59c729e1b49843be98f0a26f77c02db8": {
     "model_module": "@jupyter-widgets/base",
     "model_module_version": "1.2.0",
     "model_name": "LayoutModel",
     "state": {
      "_model_module": "@jupyter-widgets/base",
      "_model_module_version": "1.2.0",
      "_model_name": "LayoutModel",
      "_view_count": null,
      "_view_module": "@jupyter-widgets/base",
      "_view_module_version": "1.2.0",
      "_view_name": "LayoutView",
      "align_content": null,
      "align_items": null,
      "align_self": null,
      "border": null,
      "bottom": null,
      "display": null,
      "flex": null,
      "flex_flow": null,
      "grid_area": null,
      "grid_auto_columns": null,
      "grid_auto_flow": null,
      "grid_auto_rows": null,
      "grid_column": null,
      "grid_gap": null,
      "grid_row": null,
      "grid_template_areas": null,
      "grid_template_columns": null,
      "grid_template_rows": null,
      "height": null,
      "justify_content": null,
      "justify_items": null,
      "left": null,
      "margin": null,
      "max_height": null,
      "max_width": null,
      "min_height": null,
      "min_width": null,
      "object_fit": null,
      "object_position": null,
      "order": null,
      "overflow": null,
      "overflow_x": null,
      "overflow_y": null,
      "padding": null,
      "right": null,
      "top": null,
      "visibility": null,
      "width": null
     }
    },
    "5bcacf9d03144791b2f73c15519b399f": {
     "model_module": "@jupyter-widgets/controls",
     "model_module_version": "1.5.0",
     "model_name": "ProgressStyleModel",
     "state": {
      "_model_module": "@jupyter-widgets/controls",
      "_model_module_version": "1.5.0",
      "_model_name": "ProgressStyleModel",
      "_view_count": null,
      "_view_module": "@jupyter-widgets/base",
      "_view_module_version": "1.2.0",
      "_view_name": "StyleView",
      "bar_color": null,
      "description_width": ""
     }
    },
    "5c4625889873448c9e2099ee0232f4b9": {
     "model_module": "@jupyter-widgets/controls",
     "model_module_version": "1.5.0",
     "model_name": "HTMLModel",
     "state": {
      "_dom_classes": [],
      "_model_module": "@jupyter-widgets/controls",
      "_model_module_version": "1.5.0",
      "_model_name": "HTMLModel",
      "_view_count": null,
      "_view_module": "@jupyter-widgets/controls",
      "_view_module_version": "1.5.0",
      "_view_name": "HTMLView",
      "description": "",
      "description_tooltip": null,
      "layout": "IPY_MODEL_d93c72753e584fc8b61480e45ee9eb29",
      "placeholder": "​",
      "style": "IPY_MODEL_10a5b431e0124a22bb96e48700c2649b",
      "value": "Downloading: 100%"
     }
    },
    "5ebeb24a08a44580b7c830de7ff24bae": {
     "model_module": "@jupyter-widgets/controls",
     "model_module_version": "1.5.0",
     "model_name": "HBoxModel",
     "state": {
      "_dom_classes": [],
      "_model_module": "@jupyter-widgets/controls",
      "_model_module_version": "1.5.0",
      "_model_name": "HBoxModel",
      "_view_count": null,
      "_view_module": "@jupyter-widgets/controls",
      "_view_module_version": "1.5.0",
      "_view_name": "HBoxView",
      "box_style": "",
      "children": [
       "IPY_MODEL_5c4625889873448c9e2099ee0232f4b9",
       "IPY_MODEL_dfde727736bb42e9a6440224f1067abe",
       "IPY_MODEL_8988ad6d1a2444169e2096bb8e2a73b2"
      ],
      "layout": "IPY_MODEL_54fdcd66825a4847b286a77840c71b1c"
     }
    },
    "63404e0dc9474d8c9f58fd340e73ef52": {
     "model_module": "@jupyter-widgets/controls",
     "model_module_version": "1.5.0",
     "model_name": "ProgressStyleModel",
     "state": {
      "_model_module": "@jupyter-widgets/controls",
      "_model_module_version": "1.5.0",
      "_model_name": "ProgressStyleModel",
      "_view_count": null,
      "_view_module": "@jupyter-widgets/base",
      "_view_module_version": "1.2.0",
      "_view_name": "StyleView",
      "bar_color": null,
      "description_width": ""
     }
    },
    "7977c1e504974473acdc5b8063e3ed74": {
     "model_module": "@jupyter-widgets/controls",
     "model_module_version": "1.5.0",
     "model_name": "ProgressStyleModel",
     "state": {
      "_model_module": "@jupyter-widgets/controls",
      "_model_module_version": "1.5.0",
      "_model_name": "ProgressStyleModel",
      "_view_count": null,
      "_view_module": "@jupyter-widgets/base",
      "_view_module_version": "1.2.0",
      "_view_name": "StyleView",
      "bar_color": null,
      "description_width": ""
     }
    },
    "799694905da44625a886032d2f510671": {
     "model_module": "@jupyter-widgets/controls",
     "model_module_version": "1.5.0",
     "model_name": "DescriptionStyleModel",
     "state": {
      "_model_module": "@jupyter-widgets/controls",
      "_model_module_version": "1.5.0",
      "_model_name": "DescriptionStyleModel",
      "_view_count": null,
      "_view_module": "@jupyter-widgets/base",
      "_view_module_version": "1.2.0",
      "_view_name": "StyleView",
      "description_width": ""
     }
    },
    "84a5e92af84a4a4f9ab92877cfad1d74": {
     "model_module": "@jupyter-widgets/controls",
     "model_module_version": "1.5.0",
     "model_name": "HTMLModel",
     "state": {
      "_dom_classes": [],
      "_model_module": "@jupyter-widgets/controls",
      "_model_module_version": "1.5.0",
      "_model_name": "HTMLModel",
      "_view_count": null,
      "_view_module": "@jupyter-widgets/controls",
      "_view_module_version": "1.5.0",
      "_view_name": "HTMLView",
      "description": "",
      "description_tooltip": null,
      "layout": "IPY_MODEL_4fc58b39c00f44c0a7caace737f68d89",
      "placeholder": "​",
      "style": "IPY_MODEL_3b5e48c623bc408389bc3a4e2108b8e8",
      "value": "Downloading: 100%"
     }
    },
    "8988ad6d1a2444169e2096bb8e2a73b2": {
     "model_module": "@jupyter-widgets/controls",
     "model_module_version": "1.5.0",
     "model_name": "HTMLModel",
     "state": {
      "_dom_classes": [],
      "_model_module": "@jupyter-widgets/controls",
      "_model_module_version": "1.5.0",
      "_model_name": "HTMLModel",
      "_view_count": null,
      "_view_module": "@jupyter-widgets/controls",
      "_view_module_version": "1.5.0",
      "_view_name": "HTMLView",
      "description": "",
      "description_tooltip": null,
      "layout": "IPY_MODEL_c4a3f266488548afbad3def4c38d198b",
      "placeholder": "​",
      "style": "IPY_MODEL_e0f4b115e9d2455e84f6dc37ffb9aefa",
      "value": " 436k/436k [00:00&lt;00:00, 1.62MB/s]"
     }
    },
    "89d6c9933c2a4c1aa743ce5d1d983f25": {
     "model_module": "@jupyter-widgets/base",
     "model_module_version": "1.2.0",
     "model_name": "LayoutModel",
     "state": {
      "_model_module": "@jupyter-widgets/base",
      "_model_module_version": "1.2.0",
      "_model_name": "LayoutModel",
      "_view_count": null,
      "_view_module": "@jupyter-widgets/base",
      "_view_module_version": "1.2.0",
      "_view_name": "LayoutView",
      "align_content": null,
      "align_items": null,
      "align_self": null,
      "border": null,
      "bottom": null,
      "display": null,
      "flex": null,
      "flex_flow": null,
      "grid_area": null,
      "grid_auto_columns": null,
      "grid_auto_flow": null,
      "grid_auto_rows": null,
      "grid_column": null,
      "grid_gap": null,
      "grid_row": null,
      "grid_template_areas": null,
      "grid_template_columns": null,
      "grid_template_rows": null,
      "height": null,
      "justify_content": null,
      "justify_items": null,
      "left": null,
      "margin": null,
      "max_height": null,
      "max_width": null,
      "min_height": null,
      "min_width": null,
      "object_fit": null,
      "object_position": null,
      "order": null,
      "overflow": null,
      "overflow_x": null,
      "overflow_y": null,
      "padding": null,
      "right": null,
      "top": null,
      "visibility": null,
      "width": null
     }
    },
    "9e6699a57c994a21a48765d37cd1a2bf": {
     "model_module": "@jupyter-widgets/base",
     "model_module_version": "1.2.0",
     "model_name": "LayoutModel",
     "state": {
      "_model_module": "@jupyter-widgets/base",
      "_model_module_version": "1.2.0",
      "_model_name": "LayoutModel",
      "_view_count": null,
      "_view_module": "@jupyter-widgets/base",
      "_view_module_version": "1.2.0",
      "_view_name": "LayoutView",
      "align_content": null,
      "align_items": null,
      "align_self": null,
      "border": null,
      "bottom": null,
      "display": null,
      "flex": null,
      "flex_flow": null,
      "grid_area": null,
      "grid_auto_columns": null,
      "grid_auto_flow": null,
      "grid_auto_rows": null,
      "grid_column": null,
      "grid_gap": null,
      "grid_row": null,
      "grid_template_areas": null,
      "grid_template_columns": null,
      "grid_template_rows": null,
      "height": null,
      "justify_content": null,
      "justify_items": null,
      "left": null,
      "margin": null,
      "max_height": null,
      "max_width": null,
      "min_height": null,
      "min_width": null,
      "object_fit": null,
      "object_position": null,
      "order": null,
      "overflow": null,
      "overflow_x": null,
      "overflow_y": null,
      "padding": null,
      "right": null,
      "top": null,
      "visibility": null,
      "width": null
     }
    },
    "9fe24d1e33b246b28cbd876ae26295ff": {
     "model_module": "@jupyter-widgets/controls",
     "model_module_version": "1.5.0",
     "model_name": "FloatProgressModel",
     "state": {
      "_dom_classes": [],
      "_model_module": "@jupyter-widgets/controls",
      "_model_module_version": "1.5.0",
      "_model_name": "FloatProgressModel",
      "_view_count": null,
      "_view_module": "@jupyter-widgets/controls",
      "_view_module_version": "1.5.0",
      "_view_name": "ProgressView",
      "bar_style": "success",
      "description": "",
      "description_tooltip": null,
      "layout": "IPY_MODEL_bd5ec815189a4603be7245ba19992f08",
      "max": 1460062736,
      "min": 0,
      "orientation": "horizontal",
      "style": "IPY_MODEL_63404e0dc9474d8c9f58fd340e73ef52",
      "value": 1460062736
     }
    },
    "a5cc8aa452454a27a5d2ed2f3a6b8577": {
     "model_module": "@jupyter-widgets/base",
     "model_module_version": "1.2.0",
     "model_name": "LayoutModel",
     "state": {
      "_model_module": "@jupyter-widgets/base",
      "_model_module_version": "1.2.0",
      "_model_name": "LayoutModel",
      "_view_count": null,
      "_view_module": "@jupyter-widgets/base",
      "_view_module_version": "1.2.0",
      "_view_name": "LayoutView",
      "align_content": null,
      "align_items": null,
      "align_self": null,
      "border": null,
      "bottom": null,
      "display": null,
      "flex": null,
      "flex_flow": null,
      "grid_area": null,
      "grid_auto_columns": null,
      "grid_auto_flow": null,
      "grid_auto_rows": null,
      "grid_column": null,
      "grid_gap": null,
      "grid_row": null,
      "grid_template_areas": null,
      "grid_template_columns": null,
      "grid_template_rows": null,
      "height": null,
      "justify_content": null,
      "justify_items": null,
      "left": null,
      "margin": null,
      "max_height": null,
      "max_width": null,
      "min_height": null,
      "min_width": null,
      "object_fit": null,
      "object_position": null,
      "order": null,
      "overflow": null,
      "overflow_x": null,
      "overflow_y": null,
      "padding": null,
      "right": null,
      "top": null,
      "visibility": null,
      "width": null
     }
    },
    "bd5ec815189a4603be7245ba19992f08": {
     "model_module": "@jupyter-widgets/base",
     "model_module_version": "1.2.0",
     "model_name": "LayoutModel",
     "state": {
      "_model_module": "@jupyter-widgets/base",
      "_model_module_version": "1.2.0",
      "_model_name": "LayoutModel",
      "_view_count": null,
      "_view_module": "@jupyter-widgets/base",
      "_view_module_version": "1.2.0",
      "_view_name": "LayoutView",
      "align_content": null,
      "align_items": null,
      "align_self": null,
      "border": null,
      "bottom": null,
      "display": null,
      "flex": null,
      "flex_flow": null,
      "grid_area": null,
      "grid_auto_columns": null,
      "grid_auto_flow": null,
      "grid_auto_rows": null,
      "grid_column": null,
      "grid_gap": null,
      "grid_row": null,
      "grid_template_areas": null,
      "grid_template_columns": null,
      "grid_template_rows": null,
      "height": null,
      "justify_content": null,
      "justify_items": null,
      "left": null,
      "margin": null,
      "max_height": null,
      "max_width": null,
      "min_height": null,
      "min_width": null,
      "object_fit": null,
      "object_position": null,
      "order": null,
      "overflow": null,
      "overflow_x": null,
      "overflow_y": null,
      "padding": null,
      "right": null,
      "top": null,
      "visibility": null,
      "width": null
     }
    },
    "bff1000b15b2477b9a11dc5f815925fe": {
     "model_module": "@jupyter-widgets/base",
     "model_module_version": "1.2.0",
     "model_name": "LayoutModel",
     "state": {
      "_model_module": "@jupyter-widgets/base",
      "_model_module_version": "1.2.0",
      "_model_name": "LayoutModel",
      "_view_count": null,
      "_view_module": "@jupyter-widgets/base",
      "_view_module_version": "1.2.0",
      "_view_name": "LayoutView",
      "align_content": null,
      "align_items": null,
      "align_self": null,
      "border": null,
      "bottom": null,
      "display": null,
      "flex": null,
      "flex_flow": null,
      "grid_area": null,
      "grid_auto_columns": null,
      "grid_auto_flow": null,
      "grid_auto_rows": null,
      "grid_column": null,
      "grid_gap": null,
      "grid_row": null,
      "grid_template_areas": null,
      "grid_template_columns": null,
      "grid_template_rows": null,
      "height": null,
      "justify_content": null,
      "justify_items": null,
      "left": null,
      "margin": null,
      "max_height": null,
      "max_width": null,
      "min_height": null,
      "min_width": null,
      "object_fit": null,
      "object_position": null,
      "order": null,
      "overflow": null,
      "overflow_x": null,
      "overflow_y": null,
      "padding": null,
      "right": null,
      "top": null,
      "visibility": null,
      "width": null
     }
    },
    "c0f7c8ed0256449f9ff1283648e98e76": {
     "model_module": "@jupyter-widgets/controls",
     "model_module_version": "1.5.0",
     "model_name": "DescriptionStyleModel",
     "state": {
      "_model_module": "@jupyter-widgets/controls",
      "_model_module_version": "1.5.0",
      "_model_name": "DescriptionStyleModel",
      "_view_count": null,
      "_view_module": "@jupyter-widgets/base",
      "_view_module_version": "1.2.0",
      "_view_name": "StyleView",
      "description_width": ""
     }
    },
    "c26f721df8f84ffaaf2320323d9ff150": {
     "model_module": "@jupyter-widgets/controls",
     "model_module_version": "1.5.0",
     "model_name": "HBoxModel",
     "state": {
      "_dom_classes": [],
      "_model_module": "@jupyter-widgets/controls",
      "_model_module_version": "1.5.0",
      "_model_name": "HBoxModel",
      "_view_count": null,
      "_view_module": "@jupyter-widgets/controls",
      "_view_module_version": "1.5.0",
      "_view_name": "HBoxView",
      "box_style": "",
      "children": [
       "IPY_MODEL_01d0a30ec5c2441487288dac2c0d1059",
       "IPY_MODEL_9fe24d1e33b246b28cbd876ae26295ff",
       "IPY_MODEL_11e745d67136497fb4d12f458d0b93a6"
      ],
      "layout": "IPY_MODEL_502f605269a9472089ab4ca1ed3aa37e"
     }
    },
    "c4a3f266488548afbad3def4c38d198b": {
     "model_module": "@jupyter-widgets/base",
     "model_module_version": "1.2.0",
     "model_name": "LayoutModel",
     "state": {
      "_model_module": "@jupyter-widgets/base",
      "_model_module_version": "1.2.0",
      "_model_name": "LayoutModel",
      "_view_count": null,
      "_view_module": "@jupyter-widgets/base",
      "_view_module_version": "1.2.0",
      "_view_name": "LayoutView",
      "align_content": null,
      "align_items": null,
      "align_self": null,
      "border": null,
      "bottom": null,
      "display": null,
      "flex": null,
      "flex_flow": null,
      "grid_area": null,
      "grid_auto_columns": null,
      "grid_auto_flow": null,
      "grid_auto_rows": null,
      "grid_column": null,
      "grid_gap": null,
      "grid_row": null,
      "grid_template_areas": null,
      "grid_template_columns": null,
      "grid_template_rows": null,
      "height": null,
      "justify_content": null,
      "justify_items": null,
      "left": null,
      "margin": null,
      "max_height": null,
      "max_width": null,
      "min_height": null,
      "min_width": null,
      "object_fit": null,
      "object_position": null,
      "order": null,
      "overflow": null,
      "overflow_x": null,
      "overflow_y": null,
      "padding": null,
      "right": null,
      "top": null,
      "visibility": null,
      "width": null
     }
    },
    "d374846117ab45acb0a5bd586b187fe7": {
     "model_module": "@jupyter-widgets/controls",
     "model_module_version": "1.5.0",
     "model_name": "FloatProgressModel",
     "state": {
      "_dom_classes": [],
      "_model_module": "@jupyter-widgets/controls",
      "_model_module_version": "1.5.0",
      "_model_name": "FloatProgressModel",
      "_view_count": null,
      "_view_module": "@jupyter-widgets/controls",
      "_view_module_version": "1.5.0",
      "_view_name": "ProgressView",
      "bar_style": "success",
      "description": "",
      "description_tooltip": null,
      "layout": "IPY_MODEL_89d6c9933c2a4c1aa743ce5d1d983f25",
      "max": 213450,
      "min": 0,
      "orientation": "horizontal",
      "style": "IPY_MODEL_7977c1e504974473acdc5b8063e3ed74",
      "value": 213450
     }
    },
    "d93c72753e584fc8b61480e45ee9eb29": {
     "model_module": "@jupyter-widgets/base",
     "model_module_version": "1.2.0",
     "model_name": "LayoutModel",
     "state": {
      "_model_module": "@jupyter-widgets/base",
      "_model_module_version": "1.2.0",
      "_model_name": "LayoutModel",
      "_view_count": null,
      "_view_module": "@jupyter-widgets/base",
      "_view_module_version": "1.2.0",
      "_view_name": "LayoutView",
      "align_content": null,
      "align_items": null,
      "align_self": null,
      "border": null,
      "bottom": null,
      "display": null,
      "flex": null,
      "flex_flow": null,
      "grid_area": null,
      "grid_auto_columns": null,
      "grid_auto_flow": null,
      "grid_auto_rows": null,
      "grid_column": null,
      "grid_gap": null,
      "grid_row": null,
      "grid_template_areas": null,
      "grid_template_columns": null,
      "grid_template_rows": null,
      "height": null,
      "justify_content": null,
      "justify_items": null,
      "left": null,
      "margin": null,
      "max_height": null,
      "max_width": null,
      "min_height": null,
      "min_width": null,
      "object_fit": null,
      "object_position": null,
      "order": null,
      "overflow": null,
      "overflow_x": null,
      "overflow_y": null,
      "padding": null,
      "right": null,
      "top": null,
      "visibility": null,
      "width": null
     }
    },
    "df6ada35dce841328d2f072edf0e31c1": {
     "model_module": "@jupyter-widgets/base",
     "model_module_version": "1.2.0",
     "model_name": "LayoutModel",
     "state": {
      "_model_module": "@jupyter-widgets/base",
      "_model_module_version": "1.2.0",
      "_model_name": "LayoutModel",
      "_view_count": null,
      "_view_module": "@jupyter-widgets/base",
      "_view_module_version": "1.2.0",
      "_view_name": "LayoutView",
      "align_content": null,
      "align_items": null,
      "align_self": null,
      "border": null,
      "bottom": null,
      "display": null,
      "flex": null,
      "flex_flow": null,
      "grid_area": null,
      "grid_auto_columns": null,
      "grid_auto_flow": null,
      "grid_auto_rows": null,
      "grid_column": null,
      "grid_gap": null,
      "grid_row": null,
      "grid_template_areas": null,
      "grid_template_columns": null,
      "grid_template_rows": null,
      "height": null,
      "justify_content": null,
      "justify_items": null,
      "left": null,
      "margin": null,
      "max_height": null,
      "max_width": null,
      "min_height": null,
      "min_width": null,
      "object_fit": null,
      "object_position": null,
      "order": null,
      "overflow": null,
      "overflow_x": null,
      "overflow_y": null,
      "padding": null,
      "right": null,
      "top": null,
      "visibility": null,
      "width": null
     }
    },
    "dfde727736bb42e9a6440224f1067abe": {
     "model_module": "@jupyter-widgets/controls",
     "model_module_version": "1.5.0",
     "model_name": "FloatProgressModel",
     "state": {
      "_dom_classes": [],
      "_model_module": "@jupyter-widgets/controls",
      "_model_module_version": "1.5.0",
      "_model_name": "FloatProgressModel",
      "_view_count": null,
      "_view_module": "@jupyter-widgets/controls",
      "_view_module_version": "1.5.0",
      "_view_name": "ProgressView",
      "bar_style": "success",
      "description": "",
      "description_tooltip": null,
      "layout": "IPY_MODEL_bff1000b15b2477b9a11dc5f815925fe",
      "max": 435797,
      "min": 0,
      "orientation": "horizontal",
      "style": "IPY_MODEL_4546dc2c388340569f9f1528882cbc34",
      "value": 435797
     }
    },
    "e0f4b115e9d2455e84f6dc37ffb9aefa": {
     "model_module": "@jupyter-widgets/controls",
     "model_module_version": "1.5.0",
     "model_name": "DescriptionStyleModel",
     "state": {
      "_model_module": "@jupyter-widgets/controls",
      "_model_module_version": "1.5.0",
      "_model_name": "DescriptionStyleModel",
      "_view_count": null,
      "_view_module": "@jupyter-widgets/base",
      "_view_module_version": "1.2.0",
      "_view_name": "StyleView",
      "description_width": ""
     }
    },
    "e6d5fc33e5974818a6ebe68c8b121068": {
     "model_module": "@jupyter-widgets/base",
     "model_module_version": "1.2.0",
     "model_name": "LayoutModel",
     "state": {
      "_model_module": "@jupyter-widgets/base",
      "_model_module_version": "1.2.0",
      "_model_name": "LayoutModel",
      "_view_count": null,
      "_view_module": "@jupyter-widgets/base",
      "_view_module_version": "1.2.0",
      "_view_name": "LayoutView",
      "align_content": null,
      "align_items": null,
      "align_self": null,
      "border": null,
      "bottom": null,
      "display": null,
      "flex": null,
      "flex_flow": null,
      "grid_area": null,
      "grid_auto_columns": null,
      "grid_auto_flow": null,
      "grid_auto_rows": null,
      "grid_column": null,
      "grid_gap": null,
      "grid_row": null,
      "grid_template_areas": null,
      "grid_template_columns": null,
      "grid_template_rows": null,
      "height": null,
      "justify_content": null,
      "justify_items": null,
      "left": null,
      "margin": null,
      "max_height": null,
      "max_width": null,
      "min_height": null,
      "min_width": null,
      "object_fit": null,
      "object_position": null,
      "order": null,
      "overflow": null,
      "overflow_x": null,
      "overflow_y": null,
      "padding": null,
      "right": null,
      "top": null,
      "visibility": null,
      "width": null
     }
    },
    "f07f4e4d36394123b969baf7ad547e67": {
     "model_module": "@jupyter-widgets/controls",
     "model_module_version": "1.5.0",
     "model_name": "HTMLModel",
     "state": {
      "_dom_classes": [],
      "_model_module": "@jupyter-widgets/controls",
      "_model_module_version": "1.5.0",
      "_model_name": "HTMLModel",
      "_view_count": null,
      "_view_module": "@jupyter-widgets/controls",
      "_view_module_version": "1.5.0",
      "_view_name": "HTMLView",
      "description": "",
      "description_tooltip": null,
      "layout": "IPY_MODEL_59c729e1b49843be98f0a26f77c02db8",
      "placeholder": "​",
      "style": "IPY_MODEL_300399dcf32b4d33b166debcd3fe363b",
      "value": "Downloading: 100%"
     }
    },
    "f4d4deed769a4d8593033ab1bc0086f8": {
     "model_module": "@jupyter-widgets/controls",
     "model_module_version": "1.5.0",
     "model_name": "DescriptionStyleModel",
     "state": {
      "_model_module": "@jupyter-widgets/controls",
      "_model_module_version": "1.5.0",
      "_model_name": "DescriptionStyleModel",
      "_view_count": null,
      "_view_module": "@jupyter-widgets/base",
      "_view_module_version": "1.2.0",
      "_view_name": "StyleView",
      "description_width": ""
     }
    },
    "ff13f69b2dac4965ad0e1583d1087b1a": {
     "model_module": "@jupyter-widgets/controls",
     "model_module_version": "1.5.0",
     "model_name": "FloatProgressModel",
     "state": {
      "_dom_classes": [],
      "_model_module": "@jupyter-widgets/controls",
      "_model_module_version": "1.5.0",
      "_model_name": "FloatProgressModel",
      "_view_count": null,
      "_view_module": "@jupyter-widgets/controls",
      "_view_module_version": "1.5.0",
      "_view_name": "ProgressView",
      "bar_style": "success",
      "description": "",
      "description_tooltip": null,
      "layout": "IPY_MODEL_a5cc8aa452454a27a5d2ed2f3a6b8577",
      "max": 762,
      "min": 0,
      "orientation": "horizontal",
      "style": "IPY_MODEL_1465ca321668437eb02af976ec1975e1",
      "value": 762
     }
    }
   }
  }
 },
 "nbformat": 4,
 "nbformat_minor": 5
}
