{
 "cells": [
  {
   "cell_type": "markdown",
   "id": "BVyRl3E3HAqQ",
   "metadata": {
    "id": "BVyRl3E3HAqQ"
   },
   "source": [
    "# Imports"
   ]
  },
  {
   "cell_type": "code",
   "execution_count": null,
   "id": "hMwUF8qUX_WJ",
   "metadata": {
    "colab": {
     "base_uri": "https://localhost:8080/"
    },
    "id": "hMwUF8qUX_WJ",
    "outputId": "66854228-d106-41f2-cbb4-b6be31b5bf98"
   },
   "outputs": [
    {
     "name": "stdout",
     "output_type": "stream",
     "text": [
      "Sat Dec  3 20:49:15 2022       \n",
      "+-----------------------------------------------------------------------------+\n",
      "| NVIDIA-SMI 460.32.03    Driver Version: 460.32.03    CUDA Version: 11.2     |\n",
      "|-------------------------------+----------------------+----------------------+\n",
      "| GPU  Name        Persistence-M| Bus-Id        Disp.A | Volatile Uncorr. ECC |\n",
      "| Fan  Temp  Perf  Pwr:Usage/Cap|         Memory-Usage | GPU-Util  Compute M. |\n",
      "|                               |                      |               MIG M. |\n",
      "|===============================+======================+======================|\n",
      "|   0  Tesla T4            Off  | 00000000:00:04.0 Off |                    0 |\n",
      "| N/A   36C    P0    25W /  70W |      0MiB / 15109MiB |      0%      Default |\n",
      "|                               |                      |                  N/A |\n",
      "+-------------------------------+----------------------+----------------------+\n",
      "                                                                               \n",
      "+-----------------------------------------------------------------------------+\n",
      "| Processes:                                                                  |\n",
      "|  GPU   GI   CI        PID   Type   Process name                  GPU Memory |\n",
      "|        ID   ID                                                   Usage      |\n",
      "|=============================================================================|\n",
      "|  No running processes found                                                 |\n",
      "+-----------------------------------------------------------------------------+\n"
     ]
    }
   ],
   "source": [
    "!nvidia-smi"
   ]
  },
  {
   "cell_type": "code",
   "execution_count": null,
   "id": "NuTilifJIY2a",
   "metadata": {
    "colab": {
     "base_uri": "https://localhost:8080/"
    },
    "id": "NuTilifJIY2a",
    "outputId": "6bade561-e4f6-4c29-bc46-ccded3bfd461"
   },
   "outputs": [
    {
     "name": "stdout",
     "output_type": "stream",
     "text": [
      "\u001b[K     |████████████████████████████████| 5.8 MB 17.6 MB/s \n",
      "\u001b[K     |████████████████████████████████| 182 kB 74.7 MB/s \n",
      "\u001b[K     |████████████████████████████████| 7.6 MB 59.8 MB/s \n",
      "\u001b[K     |████████████████████████████████| 1.3 MB 35.0 MB/s \n",
      "\u001b[?25h"
     ]
    }
   ],
   "source": [
    "!pip install transformers --quiet\n",
    "!pip install sentencepiece --quiet"
   ]
  },
  {
   "cell_type": "code",
   "execution_count": null,
   "id": "r-_I54teGqvg",
   "metadata": {
    "id": "r-_I54teGqvg"
   },
   "outputs": [],
   "source": [
    "import os\n",
    "import sys\n",
    "import time\n",
    "import string\n",
    "import sklearn\n",
    "import numpy as np\n",
    "import pandas as pd\n",
    "import matplotlib.pyplot as plt\n",
    "import gc\n",
    "\n",
    "from google.colab import drive\n",
    "\n",
    "from sklearn.model_selection import train_test_split\n",
    "from sklearn.preprocessing import MultiLabelBinarizer\n",
    "\n",
    "import tensorflow as tf\n",
    "from tensorflow import keras\n",
    "\n",
    "from tensorflow.keras.layers import Embedding, Input, Dense, Lambda\n",
    "from tensorflow.keras.models import Model, load_model\n",
    "import tensorflow.keras.backend as K\n",
    "from tensorflow.keras.callbacks import EarlyStopping, \\\n",
    "  LearningRateScheduler, ModelCheckpoint\n",
    "from tensorflow.keras.metrics import RootMeanSquaredError\n",
    "from transformers import BertTokenizer, TFBertModel, AutoModel, AutoTokenizer\n",
    "from transformers import BertConfig, BertTokenizer, TFBertModel\n",
    "import transformers"
   ]
  },
  {
   "cell_type": "markdown",
   "id": "KeHDr51VLXrd",
   "metadata": {
    "id": "KeHDr51VLXrd"
   },
   "source": [
    "## Global Variables and Google Drive Connect"
   ]
  },
  {
   "cell_type": "code",
   "execution_count": null,
   "id": "msHGuIgzLT9K",
   "metadata": {
    "id": "msHGuIgzLT9K"
   },
   "outputs": [],
   "source": [
    "TESTING = False # use to truncate training data in order to speed up development\n",
    "\n",
    "RANDOM_STATE = 42\n",
    "SEQUENCE_LENGTH = 512\n",
    "BATCH_SIZE = 1\n",
    "USER = 'HIDDEN'\n",
    "RUBRIC_COLS = ['cohesion', 'syntax', 'vocabulary', 'phraseology', 'grammar', 'conventions']\n",
    "PATIENCE = 2\n",
    "LEARNING_RATE = 0.0001\n",
    "LEARNING_RATE_DECAY = 0.1\n",
    "EPOCHS = 4\n",
    "# Uncomment these two lines if you want to be able to be able to repeat calculations exactly on the same hardware\n",
    "# However, the model will run more slowly (approx 1/3 speed)\n",
    "# tf.keras.utils.set_random_seed(RANDOM_STATE)\n",
    "# tf.config.experimental.enable_op_determinism()"
   ]
  },
  {
   "cell_type": "code",
   "execution_count": null,
   "id": "JfgvLGBMHP54",
   "metadata": {
    "colab": {
     "base_uri": "https://localhost:8080/"
    },
    "id": "JfgvLGBMHP54",
    "outputId": "ddc05f73-06e2-4dac-90b1-273af58755ab"
   },
   "outputs": [
    {
     "name": "stdout",
     "output_type": "stream",
     "text": [
      "Drive already mounted at /content/drive; to attempt to forcibly remount, call drive.mount(\"/content/drive\", force_remount=True).\n"
     ]
    }
   ],
   "source": [
    "# Mount drive where you will do your work.\n",
    "drive.mount('/content/drive')\n",
    "root_dir = \"NOT SHOW FOR PRIVACY PURPOSES\"\n",
    "project_folder = \"NOT SHOW FOR PRIVACY PURPOSES\"\n",
    "\n",
    "def create_and_set_working_directory(project_folder):\n",
    "  # check if your project folder exists. if not, it will be created.\n",
    "  if os.path.isdir(root_dir + project_folder) == False:\n",
    "    os.mkdir(root_dir + project_folder)\n",
    "    print(root_dir + project_folder + ' did not exist but was created.')\n",
    "\n",
    "  # change the OS to use your project folder as the working directory\n",
    "  os.chdir(root_dir + project_folder)\n",
    "\n",
    "  # create a test file to make sure it shows up in the right place\n",
    "  # to test if all is working, you can uncomment these two lines below--it should write a file to the shared drive\n",
    "  # !touch 'new_file_in_working_directory.txt'\n",
    "  # print('\\nYour working directory was changed to ' + root_dir + project_folder + \\\n",
    "  #       \"\\n\\nAn empty text file was created there. You can also run !pwd to confirm the current working directory.\" )\n",
    "\n",
    "os.chdir(root_dir + project_folder)"
   ]
  },
  {
   "cell_type": "markdown",
   "id": "3oMbf9-mIEff",
   "metadata": {
    "id": "3oMbf9-mIEff"
   },
   "source": [
    "# Load Data and Create Data Sets"
   ]
  },
  {
   "cell_type": "code",
   "execution_count": null,
   "id": "o52m4SLjGsy8",
   "metadata": {
    "colab": {
     "base_uri": "https://localhost:8080/"
    },
    "id": "o52m4SLjGsy8",
    "outputId": "6623efbf-bf22-4c73-b16a-9fd235e2bf54"
   },
   "outputs": [
    {
     "name": "stdout",
     "output_type": "stream",
     "text": [
      "train data size is: (2347, 7)\n",
      "test size is: (782, 7)\n"
     ]
    },
    {
     "name": "stderr",
     "output_type": "stream",
     "text": [
      "/usr/local/lib/python3.8/dist-packages/pandas/core/frame.py:5039: SettingWithCopyWarning: \n",
      "A value is trying to be set on a copy of a slice from a DataFrame\n",
      "\n",
      "See the caveats in the documentation: https://pandas.pydata.org/pandas-docs/stable/user_guide/indexing.html#returning-a-view-versus-a-copy\n",
      "  return super().rename(\n"
     ]
    }
   ],
   "source": [
    "#Pull training data with all columns\n",
    "X_train = pd.read_csv('data/processed/X_train.csv')\n",
    "y_train = pd.read_csv('data/processed/y_train.csv')\n",
    "\n",
    "#pull validation data with all columns \n",
    "X_val = pd.read_csv('data/processed/X_val.csv')\n",
    "y_val = pd.read_csv('data/processed/y_val.csv')\n",
    "\n",
    "# # #pull test data with all columns\n",
    "X_test = pd.read_csv('data/processed/X_test.csv')\n",
    "y_test = pd.read_csv('data/processed/y_test.csv')\n",
    "test_data = pd.merge(X_test, y_test, on='essay_index', how='outer')\n",
    "\n",
    "test_data = test_data[['full_text', 'cohesion', 'syntax', 'vocabulary_y', 'phraseology', 'grammar', 'conventions']]\n",
    "test_data.rename(columns={'vocabulary_y':'vocabulary'}, inplace= True)\n",
    "\n",
    "#drop all non-text columns and concatenate train and val into one dataset\n",
    "train_data = pd.merge(X_train, y_train, on='essay_index', how='outer')\n",
    "validation_data = pd.merge(X_val, y_val, on='essay_index', how='outer')\n",
    "\n",
    "#create train set\n",
    "train_data = train_data[['full_text','cohesion', 'syntax', 'vocabulary_y', 'phraseology', 'grammar', 'conventions']]\n",
    "train_data.rename(columns={'vocabulary_y':'vocabulary'}, inplace= True)\n",
    "\n",
    "#create val set\n",
    "val_data = validation_data[['full_text','cohesion', 'syntax', 'vocabulary_y', 'phraseology', 'grammar', 'conventions']]\n",
    "val_data.rename(columns={'vocabulary_y':'vocabulary'}, inplace= True)\n",
    "\n",
    "print(\"train data size is: {}\".format(train_data.shape))\n",
    "print(\"test size is: {}\".format(val_data.shape))"
   ]
  },
  {
   "cell_type": "code",
   "execution_count": null,
   "id": "ue5mPKuYR93h",
   "metadata": {
    "colab": {
     "base_uri": "https://localhost:8080/"
    },
    "id": "ue5mPKuYR93h",
    "outputId": "08357ea9-c7a6-4eea-e84f-b44d92626583"
   },
   "outputs": [
    {
     "name": "stdout",
     "output_type": "stream",
     "text": [
      "input_data size is: (2347, 7)\n",
      "validation data size is: (782, 7)\n",
      "Test data size is: (782, 7)\n"
     ]
    }
   ],
   "source": [
    "if TESTING:\n",
    "    train_size = 250\n",
    "    val_size = 3\n",
    "\n",
    "    print(\"=========================================\\nIN TESTING MODE\\n=========================================\")\n",
    "\n",
    "    else:\n",
    "        train_size = 2347\n",
    "        val_size = 782\n",
    "\n",
    "train_data = train_data[:train_size]\n",
    "val_data = val_data[:val_size]\n",
    "\n",
    "print(\"input_data size is: {}\".format(train_data.shape))\n",
    "print(\"validation data size is: {}\".format(val_data.shape))\n",
    "print(\"Test data size is: {}\".format(test_data.shape))"
   ]
  },
  {
   "cell_type": "markdown",
   "id": "XEG3R9wYnhdx",
   "metadata": {
    "id": "XEG3R9wYnhdx"
   },
   "source": [
    "## Tokenize Data"
   ]
  },
  {
   "cell_type": "code",
   "execution_count": null,
   "id": "Y3Ek9TfMtggK",
   "metadata": {
    "colab": {
     "base_uri": "https://localhost:8080/",
     "height": 539,
     "referenced_widgets": [
      "2aec418e40ba465eb0e77c6fc526bcf4",
      "f593147663664da2a7151fca71422344",
      "379f16a976b64e3ea83ecddffc2e4cb6",
      "4ee8db5a0fff4f85979b0797dbcb2ba3",
      "e6c7c965429e4f85806828cfdab831d3",
      "73875a13753742b59781bf384dd2ca40",
      "748ef1de7b704ecfa1e9e39c985c3899",
      "852e01b2052a4891938290ee5506e1fa",
      "2aa11ca3970e4336b46d7f2a71243b74",
      "ab3d1f94a2da4f6198e4f70511c69de4",
      "c06364097b9d48d185a1621e5c884898",
      "305021587bcd49b4806e3783677dc934",
      "d0a2046b534d4e7a918ad309a8d6786f",
      "37ff8f45247d43d19c80dab042981522",
      "77ee84973e584bde8f4ce8d25897fad4",
      "7b962a3759c640fbbe5baae615c695b2",
      "b717942936c14511ad5f72d817a6e385",
      "d95bf4687e1c4fb681cd02e054f5492f",
      "06c4e39abdf8455991faf10b5d9c5969",
      "c3ace0aea1854e048f6ef12e019c6a9d",
      "5fbb35c8eafe4987a03909b7897d022b",
      "83b349b2883b4267b1705885524536f6",
      "c81026bc38c94a81b978432241511d86",
      "dbf672e07fcf4b5891094cb33362ffa0",
      "a773194367584e4f8d377db3fd4a9812",
      "e9bbbd8c4f9748fba33b458e5b3be44c",
      "157d117f92ba4f8ea20fefdaf1560737",
      "ec66250ec7404a0dbe775b626359d0d4",
      "111b77203a6748a492af73e45aa2a167",
      "25f88fa94f3b477ea6430d5bf4b8e0e6",
      "be3f1a02f1bd468db32a1a52db3892e5",
      "ee704479ad57442090cb05c27646c591",
      "c99e071fb8d54eda9f64d81cc131c72b",
      "9f3c2820124944fab26f8fad034712c0",
      "26c1c8372bfd4f37a6808cd57f98ebe5",
      "6434e57a86694739bcb59add99cc07be",
      "e94cd255807d40f7995602509cbaae79",
      "0eaed318a74147dab01da9c56dbf1330",
      "97fd104db3b84ea98d3f039d7c1d5ee2",
      "a81876d2fbb2403b9c211916b90415ff",
      "39fea111124b4889a922e8d0df3d8ea3",
      "3be2ca9a31ce42a791e5064d9d5b755d",
      "81cf250f0e6943e8a50ac580d707712e",
      "6d74715aa5a64d2ca83852448549b461",
      "17094da09af14c9a863fbd5e50f1717e",
      "63d96e187b3441fea1a3861e503c3384",
      "446124f247f244a695ccd71fb6a180a2",
      "775a91926d1748d28efbff54127a510d",
      "73e0f02811fa492b979fcc8d4454ed25",
      "baab82ab1ccf455882fbc7cc42caaa4f",
      "c78948a612654206a4379cf4ca6aef36",
      "adce43205843490cb1a9e39ad8cda1d3",
      "72e0c7628a814aca82a11829d3d03f73",
      "2ffb9966618e4486b5093cc87243e966",
      "ab12ad87d80844a18ad7a078b6500712",
      "b9eab6ff12d84b9c8a9186e6e060b0fa",
      "9d024a644b3d4440900e40b02987fac0",
      "8c30894ee0bd43dd9db7225b5c215694",
      "27a1045156834d54b379225fea943a5c",
      "4e7364c5d7694bdd90e9aba2f81bcff7",
      "0538f810fdf14fc9b498411907299aaf",
      "5dd341b05dae4af8b10dff5edc548879",
      "ed525ef40f9b4356ad006994277eb598",
      "41e7c5e679794d0b96f88d7ab69fe243",
      "c6bf6b5bd19f4ded942f408cdf69402b",
      "8299659e5b4a485884927749ff99676c",
      "97ebb499c7bd48ed8ec631708dda96df",
      "b39ffa82645a4b53965c24c15663e1d8",
      "2a0ad5950aa84818b517a5cbaaa47f0c",
      "8fdaee9029644a7888004d86beac34f7",
      "4d11bd3469d54bc886092c5cc0a5e6cf",
      "1543a8b964ca4074812e45fbadaba9d0",
      "d2789950061b473fafc9379e738da2be",
      "a74aa144374545d4a387acccf7d7604b",
      "876445842ae341ddb5bae7c8c1b056a6",
      "4ec5b2d691614215a4cc2931a96aa5bb",
      "e172029d19f94a5cb6d74bbc0ae690ac",
      "78dea2a2e4bc4ae19243a04d72a7dbf0",
      "b89b86f3aac74f1296dc81fe7fc7776f",
      "2e59fe34fdcd481fb9b50912b78b27fa",
      "4d3ca37f11cb45dc868188ff390af33a",
      "2bd1ecab024b4af4a6d5d22904bc9a3f",
      "e68fddb982964a09871266c557f303b7",
      "72caab8e56bc46cd82f9a5bcfd386275",
      "a09dc03886984d7cb17f1096a5ba46c2",
      "843f33fb81ed44c4a6e436006737f6d1",
      "1958f6a1fa254d1cb3edc7940bf822ea",
      "382a848afde34c189dc7e15aee9da44d",
      "806be6a066f84d7286d2c21d08a4e9de",
      "da3e89a776f347ac9b5d94d3d9da3b9c",
      "97ce9259eead41ef9d769f2cabe4b54b",
      "c37fea201410486cb46abe9f6f57bb25",
      "9c412fb513f1453391e9167d6a8217ff",
      "7ab00a84c85947b59170f43802a9aa97",
      "2b1f79099d4e4ee7aa90df76f1fb5360",
      "587bb47f21304f76a713d82a96299726",
      "5d74c819804846a58d8b896852e7f4d6",
      "83134e504b294abfb72a8f9b6ac869fa",
      "ef7f180e7bfd45c6a8ef0ee25f02e159"
     ]
    },
    "id": "Y3Ek9TfMtggK",
    "outputId": "858e7f15-0c93-45fd-c368-7806bc356bea"
   },
   "outputs": [
    {
     "data": {
      "application/vnd.jupyter.widget-view+json": {
       "model_id": "2aec418e40ba465eb0e77c6fc526bcf4",
       "version_major": 2,
       "version_minor": 0
      },
      "text/plain": [
       "Downloading:   0%|          | 0.00/570 [00:00<?, ?B/s]"
      ]
     },
     "metadata": {},
     "output_type": "display_data"
    },
    {
     "data": {
      "application/vnd.jupyter.widget-view+json": {
       "model_id": "305021587bcd49b4806e3783677dc934",
       "version_major": 2,
       "version_minor": 0
      },
      "text/plain": [
       "Downloading:   0%|          | 0.00/527M [00:00<?, ?B/s]"
      ]
     },
     "metadata": {},
     "output_type": "display_data"
    },
    {
     "name": "stderr",
     "output_type": "stream",
     "text": [
      "Some layers from the model checkpoint at bert-base-cased were not used when initializing TFBertModel: ['nsp___cls', 'mlm___cls']\n",
      "- This IS expected if you are initializing TFBertModel from the checkpoint of a model trained on another task or with another architecture (e.g. initializing a BertForSequenceClassification model from a BertForPreTraining model).\n",
      "- This IS NOT expected if you are initializing TFBertModel from the checkpoint of a model that you expect to be exactly identical (initializing a BertForSequenceClassification model from a BertForSequenceClassification model).\n",
      "All the layers of TFBertModel were initialized from the model checkpoint at bert-base-cased.\n",
      "If your task is similar to the task the model of the checkpoint was trained on, you can already use TFBertModel for predictions without further training.\n"
     ]
    },
    {
     "data": {
      "application/vnd.jupyter.widget-view+json": {
       "model_id": "c81026bc38c94a81b978432241511d86",
       "version_major": 2,
       "version_minor": 0
      },
      "text/plain": [
       "Downloading:   0%|          | 0.00/29.0 [00:00<?, ?B/s]"
      ]
     },
     "metadata": {},
     "output_type": "display_data"
    },
    {
     "data": {
      "application/vnd.jupyter.widget-view+json": {
       "model_id": "9f3c2820124944fab26f8fad034712c0",
       "version_major": 2,
       "version_minor": 0
      },
      "text/plain": [
       "Downloading:   0%|          | 0.00/213k [00:00<?, ?B/s]"
      ]
     },
     "metadata": {},
     "output_type": "display_data"
    },
    {
     "data": {
      "application/vnd.jupyter.widget-view+json": {
       "model_id": "17094da09af14c9a863fbd5e50f1717e",
       "version_major": 2,
       "version_minor": 0
      },
      "text/plain": [
       "Downloading:   0%|          | 0.00/436k [00:00<?, ?B/s]"
      ]
     },
     "metadata": {},
     "output_type": "display_data"
    },
    {
     "data": {
      "application/vnd.jupyter.widget-view+json": {
       "model_id": "b9eab6ff12d84b9c8a9186e6e060b0fa",
       "version_major": 2,
       "version_minor": 0
      },
      "text/plain": [
       "Downloading:   0%|          | 0.00/579 [00:00<?, ?B/s]"
      ]
     },
     "metadata": {},
     "output_type": "display_data"
    },
    {
     "data": {
      "application/vnd.jupyter.widget-view+json": {
       "model_id": "97ebb499c7bd48ed8ec631708dda96df",
       "version_major": 2,
       "version_minor": 0
      },
      "text/plain": [
       "Downloading:   0%|          | 0.00/371M [00:00<?, ?B/s]"
      ]
     },
     "metadata": {},
     "output_type": "display_data"
    },
    {
     "name": "stderr",
     "output_type": "stream",
     "text": [
      "Some weights of the model checkpoint at microsoft/deberta-v3-base were not used when initializing DebertaV2Model: ['lm_predictions.lm_head.LayerNorm.bias', 'lm_predictions.lm_head.bias', 'mask_predictions.LayerNorm.weight', 'mask_predictions.dense.bias', 'mask_predictions.classifier.weight', 'lm_predictions.lm_head.dense.weight', 'mask_predictions.dense.weight', 'lm_predictions.lm_head.dense.bias', 'mask_predictions.classifier.bias', 'lm_predictions.lm_head.LayerNorm.weight', 'mask_predictions.LayerNorm.bias']\n",
      "- This IS expected if you are initializing DebertaV2Model from the checkpoint of a model trained on another task or with another architecture (e.g. initializing a BertForSequenceClassification model from a BertForPreTraining model).\n",
      "- This IS NOT expected if you are initializing DebertaV2Model from the checkpoint of a model that you expect to be exactly identical (initializing a BertForSequenceClassification model from a BertForSequenceClassification model).\n"
     ]
    },
    {
     "data": {
      "application/vnd.jupyter.widget-view+json": {
       "model_id": "78dea2a2e4bc4ae19243a04d72a7dbf0",
       "version_major": 2,
       "version_minor": 0
      },
      "text/plain": [
       "Downloading:   0%|          | 0.00/52.0 [00:00<?, ?B/s]"
      ]
     },
     "metadata": {},
     "output_type": "display_data"
    },
    {
     "data": {
      "application/vnd.jupyter.widget-view+json": {
       "model_id": "806be6a066f84d7286d2c21d08a4e9de",
       "version_major": 2,
       "version_minor": 0
      },
      "text/plain": [
       "Downloading:   0%|          | 0.00/2.46M [00:00<?, ?B/s]"
      ]
     },
     "metadata": {},
     "output_type": "display_data"
    },
    {
     "name": "stderr",
     "output_type": "stream",
     "text": [
      "Special tokens have been added in the vocabulary, make sure the associated word embeddings are fine-tuned or trained.\n",
      "/usr/local/lib/python3.8/dist-packages/transformers/convert_slow_tokenizer.py:446: UserWarning: The sentencepiece tokenizer that you are converting to a fast tokenizer uses the byte fallback option which is not implemented in the fast tokenizers. In practice this means that the fast version of the tokenizer can produce unknown tokens whereas the sentencepiece version would have converted these unknown tokens into a sequence of byte tokens matching the original piece of text.\n",
      "  warnings.warn(\n",
      "Special tokens have been added in the vocabulary, make sure the associated word embeddings are fine-tuned or trained.\n"
     ]
    }
   ],
   "source": [
    "bert_model = transformers.TFAutoModel.from_pretrained('bert-base-cased') \n",
    "bert_tokenizer = transformers.AutoTokenizer.from_pretrained('bert-base-cased') \n",
    "\n",
    "deberta_model = AutoModel.from_pretrained(\"microsoft/deberta-v3-base\")\n",
    "deberta_tokenizer = transformers.AutoTokenizer.from_pretrained(\"microsoft/deberta-v3-base\")\n",
    "\n",
    "auto_tune = tf.data.experimental.AUTOTUNE"
   ]
  },
  {
   "cell_type": "code",
   "execution_count": null,
   "id": "HDyQlm2m_Tkz",
   "metadata": {
    "id": "HDyQlm2m_Tkz"
   },
   "outputs": [],
   "source": [
    "def bert_encode(texts, tokenizer, attn_mask):\n",
    "    \"\"\"\n",
    "    Encodes the given texts using the provided tokenizer and returns the input\n",
    "    IDs and attention mask.\n",
    "\n",
    "    Args:\n",
    "    - texts (list of str): A list of strings representing the texts to be\n",
    "    encoded.\n",
    "    - tokenizer (TensorFlow tokenizer): An instance of a tokenizer to be used\n",
    "    for tokenization.\n",
    "    - attn_mask (array): A boolean indicating whether to include the attention\n",
    "    mask in the output.\n",
    "\n",
    "    Returns:\n",
    "    - input_ids: A NumPy array of shape (n_texts, max_sequence_length)\n",
    "    representing the input IDs of the encoded texts.\n",
    "    - attention_mask: A NumPy array of shape (n_texts, max_sequence_length)\n",
    "    representing the attention mask of the encoded texts, if attn_mask=True.\n",
    "    \"\"\" \n",
    "    input_ids = []\n",
    "    attention_mask = []\n",
    "    \n",
    "    for text in texts.tolist():\n",
    "        token = tokenizer(text, \n",
    "                          add_special_tokens=True, \n",
    "                          max_length=SEQUENCE_LENGTH, \n",
    "                          return_attention_mask=True, \n",
    "                          return_tensors=\"np\", \n",
    "                          truncation=True, \n",
    "                          padding='max_length')\n",
    "        input_ids.append(token['input_ids'][0])\n",
    "        attention_mask.append(token['attention_mask'][0])\n",
    "    if attn_mask:\n",
    "        return np.array(input_ids, dtype=\"int32\"), np.array(attention_mask, dtype=\"int32\")\n",
    "    else:\n",
    "        return np.array(input_ids, dtype=\"int32\")\n",
    "\n",
    "\n",
    "def get_data(df, tokenizer, attn_mask=True):\n",
    "    inputs = bert_encode(df['full_text'], tokenizer, attn_mask)  # changed\n",
    "    targets = np.array(df[RUBRIC_COLS], dtype=\"float32\")\n",
    "    return inputs, targets"
   ]
  },
  {
   "cell_type": "code",
   "execution_count": null,
   "id": "lnrSuUvE_Xit",
   "metadata": {
    "id": "lnrSuUvE_Xit"
   },
   "outputs": [],
   "source": [
    "train_dataset_bert = get_data(train_data, bert_tokenizer)\n",
    "val_dataset_bert = get_data(val_data, bert_tokenizer)\n",
    "test_dataset_bert = get_data(test_data, bert_tokenizer)\n",
    "\n",
    "train_dataset_db = get_data(train_data, deberta_tokenizer)\n",
    "val_dataset_db = get_data(val_data, deberta_tokenizer)\n",
    "test_dataset_db = get_data(test_data, deberta_tokenizer)\n"
   ]
  },
  {
   "cell_type": "markdown",
   "id": "PzmIfem-wbC8",
   "metadata": {
    "id": "PzmIfem-wbC8"
   },
   "source": [
    "# Loss and Metrics Functions"
   ]
  },
  {
   "cell_type": "code",
   "execution_count": null,
   "id": "frZQl1I6RBaA",
   "metadata": {
    "id": "frZQl1I6RBaA"
   },
   "outputs": [],
   "source": [
    "# Using Huber loss which is less sensitive to outliers/edge cases\n",
    "def huber_loss(y_true, y_pred, clip_delta=1.0):\n",
    "    \"\"\"\n",
    "    Find the Huber loss between the true values and predicted values\n",
    "\n",
    "    Arguments:\n",
    "    - y_true: A tensor or array of true values.\n",
    "    - y_pred: A tensor or array of predicted values.\n",
    "    - clip_delta: A float representing the threshold for the absolute error.\n",
    "    If the absolute error is below this threshold, squared loss is applied,\n",
    "    otherwise, linear loss is applied.\n",
    "\n",
    "    Returns:\n",
    "    - A tensor representing the Huber loss between the true and predicted\n",
    "    values.\n",
    "    \"\"\"\n",
    "    error = y_true - y_pred\n",
    "    cond  = tf.keras.backend.abs(error) < clip_delta\n",
    "\n",
    "    squared_loss = 0.5 * tf.keras.backend.square(error)\n",
    "    linear_loss  = clip_delta * (tf.keras.backend.abs(error) - 0.5 * clip_delta)\n",
    "\n",
    "    return tf.where(cond, squared_loss, linear_loss)\n",
    "\n",
    "keras.losses.huber_loss = huber_loss"
   ]
  },
  {
   "cell_type": "code",
   "execution_count": null,
   "id": "c83a5209",
   "metadata": {
    "id": "c83a5209"
   },
   "outputs": [],
   "source": [
    "def MCRMSE(y_true, y_pred):\n",
    "    \"\"\"\n",
    "    Find mean column wise root mean squared error given arrays of true\n",
    "    labels and predictions\n",
    "    \"\"\"\n",
    "    colwise_mse = tf.reduce_mean(tf.square(y_true - y_pred), axis=1)\n",
    "    return tf.reduce_mean(tf.sqrt(colwise_mse), axis=-1, keepdims=True)"
   ]
  },
  {
   "cell_type": "markdown",
   "id": "clB1IpglzX8X",
   "metadata": {
    "id": "clB1IpglzX8X"
   },
   "source": [
    "# Callbacks and LR "
   ]
  },
  {
   "cell_type": "code",
   "execution_count": null,
   "id": "wU3I7VmVzM8V",
   "metadata": {
    "id": "wU3I7VmVzM8V"
   },
   "outputs": [],
   "source": [
    "earlystopper = tf.keras.callbacks.EarlyStopping(\n",
    "      monitor='val_loss', patience = PATIENCE,\n",
    "      restore_best_weights=True)"
   ]
  },
  {
   "cell_type": "code",
   "execution_count": null,
   "id": "TCJcoA1izuEC",
   "metadata": {
    "id": "TCJcoA1izuEC"
   },
   "outputs": [],
   "source": [
    "def lr_scheduler(epoch, lr):\n",
    "    \"\"\"Learning rate scheduler\"\"\"\n",
    "    if epoch < 7:\n",
    "        return lr\n",
    "    else:\n",
    "        return lr * tf.math.exp(-0.1)\n",
    "\n",
    "lr_callback = tf.keras.callbacks.LearningRateScheduler(lr_scheduler)"
   ]
  },
  {
   "cell_type": "markdown",
   "id": "oUfQV7lPIgYj",
   "metadata": {
    "id": "oUfQV7lPIgYj"
   },
   "source": [
    "# Model Configuration"
   ]
  },
  {
   "cell_type": "code",
   "execution_count": null,
   "id": "Xv3PgwiEXzZO",
   "metadata": {
    "id": "Xv3PgwiEXzZO"
   },
   "outputs": [],
   "source": [
    "base_deberta_config = dict(\n",
    "    RUBRIC_COLS = ['cohesion', 'syntax', 'vocabulary', \n",
    "                   'phraseology', 'grammar', 'conventions'],\n",
    "    batch_size = BATCH_SIZE,\n",
    "    model_name = 'base_deberta', # note DeBERTa\n",
    "    epochs = EPOCHS,\n",
    "    init_learning_rate = LEARNING_RATE,\n",
    "    lr_decay_rate = LEARNING_RATE_DECAY,\n",
    "    optimizer = 'adam',\n",
    "    loss_fn = huber_loss,\n",
    "    metrics = [MCRMSE],\n",
    "    earlystopping_patience = PATIENCE\n",
    ")"
   ]
  },
  {
   "cell_type": "code",
   "execution_count": null,
   "id": "Sdmtv0W5X3Tw",
   "metadata": {
    "id": "Sdmtv0W5X3Tw"
   },
   "outputs": [],
   "source": [
    "cfg_db = transformers.AutoConfig.from_pretrained(\"microsoft/deberta-v3-base\", output_hidden_states=True)\n",
    "cfg_db.hidden_dropout_prob = 0\n",
    "cfg_db.attention_probs_dropout_prob = 0"
   ]
  },
  {
   "cell_type": "markdown",
   "id": "aVxh7fuETpA_",
   "metadata": {
    "id": "aVxh7fuETpA_"
   },
   "source": [
    "## bert Experiments"
   ]
  },
  {
   "cell_type": "markdown",
   "id": "yMUr92xZT_qU",
   "metadata": {
    "id": "yMUr92xZT_qU"
   },
   "source": [
    "#### bert with pooled output"
   ]
  },
  {
   "cell_type": "code",
   "execution_count": null,
   "id": "XffUkziZYBQs",
   "metadata": {
    "id": "XffUkziZYBQs"
   },
   "outputs": [],
   "source": [
    "def create_deberta_model(deberta_model,\n",
    "                      pooling_type,\n",
    "                      hidden_size = 100, \n",
    "                      dropout = 0.0):\n",
    "    \"\"\"\n",
    "    Create deBERTa model with global pooling and layer normalization\n",
    "\n",
    "    Arguments:\n",
    "    - deberta_model: A pre-trained deBERTa model.\n",
    "    - pooling_type: A string representing the type of global pooling to use.\n",
    "    Must be one of 'max_pool', 'avg_pool', or 'cls'.\n",
    "    - hidden_size: An integer representing the size of the hidden layer.\n",
    "    - dropout: A float representing the dropout rate.\n",
    "\n",
    "    Returns:\n",
    "    - Compiled TensorFlow Keras model that takes input IDs and attention masks,\n",
    "    and outputs a prediction for the six analytic measures.\n",
    "    \"\"\"\n",
    "\n",
    "    # Read in deBERTa model's outputs\n",
    "    input_ids = tf.keras.layers.Input(shape=(SEQUENCE_LENGTH,), dtype=tf.int64, name='input_ids_layer')\n",
    "    attention_masks = tf.keras.layers.Input(shape=(SEQUENCE_LENGTH,), dtype=tf.int64, name='attention_mask_layer')\n",
    "\n",
    "    deberta_output = deberta_model.deberta(\n",
    "        input_ids, attention_mask=attention_masks\n",
    "    )\n",
    "    if pooling_type == \"max_pool\":\n",
    "        hidden_states = deberta_output.last_hidden_state\n",
    "        x = tf.keras.layers.GlobalMaxPooling1D()(hidden_states)\n",
    "        x = tf.keras.layers.LayerNormalization()(x)\n",
    "\n",
    "    elif pooling_type == \"avg_pool\":\n",
    "        hidden_states = deberta_output.last_hidden_state\n",
    "        x = tf.keras.layers.GlobalAveragePooling1D()(hidden_states)\n",
    "        x = tf.keras.layers.LayerNormalization()(x)\n",
    "\n",
    "    elif pooling_type == \"cls\":\n",
    "        cls = deberta_output.last_hidden_state[:,0,:]\n",
    "        x = tf.keras.layers.Dense(hidden_size, activation='relu', name='hidden_layer')(cls)\n",
    "        x = tf.keras.layers.Dropout(dropout)(x) \n",
    "\n",
    "    # Prediction layer - predict all 6 analytic measures\n",
    "    output = tf.keras.layers.Dense(6, name='prediction_layer')(x)\n",
    "\n",
    "    # Make and compile model\n",
    "    model = tf.keras.models.Model(inputs=(input_ids, attention_masks), outputs=[output])\n",
    "    model.compile(optimizer=tf.keras.optimizers.Adam(1e-5),\n",
    "                    loss=huber_loss,\n",
    "                    metrics=MCRMSE)\n",
    "       \n",
    "    return model"
   ]
  },
  {
   "cell_type": "markdown",
   "id": "2PpYNQzeIrcv",
   "metadata": {
    "id": "2PpYNQzeIrcv"
   },
   "source": [
    "# Build Model"
   ]
  },
  {
   "cell_type": "code",
   "execution_count": null,
   "id": "_zIGGLyJV1_8",
   "metadata": {
    "colab": {
     "base_uri": "https://localhost:8080/",
     "height": 248,
     "referenced_widgets": [
      "f0aa5f636ca44c46b50f57cd5930a52a",
      "46252e8948504b4298af8928fcae825a",
      "32cd0e82d3c74588b230896dbc20866e",
      "751190af7076441790f53fa70c6c0919",
      "d7a85245b1ad41cd9a4956b31164d2d9",
      "aa6849b24bd34137933acc72b513d07c",
      "cc6e2115679b4f7ab618579e47feb24d",
      "82ffa0e4c2d04551947b2e584e4b84a7",
      "707dfd9e5d8f4fe981de107869bb7f37",
      "73f64d698e704a29a91a8227ffa56c40",
      "1e553847ca7143ffb6e6151cb5ca67a2"
     ]
    },
    "id": "_zIGGLyJV1_8",
    "outputId": "8a456bf5-357e-4571-fc18-4dbd1a436ba4"
   },
   "outputs": [
    {
     "name": "stderr",
     "output_type": "stream",
     "text": [
      "Some layers from the model checkpoint at bert-base-cased were not used when initializing TFBertModel: ['nsp___cls', 'mlm___cls']\n",
      "- This IS expected if you are initializing TFBertModel from the checkpoint of a model trained on another task or with another architecture (e.g. initializing a BertForSequenceClassification model from a BertForPreTraining model).\n",
      "- This IS NOT expected if you are initializing TFBertModel from the checkpoint of a model that you expect to be exactly identical (initializing a BertForSequenceClassification model from a BertForSequenceClassification model).\n",
      "All the layers of TFBertModel were initialized from the model checkpoint at bert-base-cased.\n",
      "If your task is similar to the task the model of the checkpoint was trained on, you can already use TFBertModel for predictions without further training.\n"
     ]
    },
    {
     "data": {
      "application/vnd.jupyter.widget-view+json": {
       "model_id": "f0aa5f636ca44c46b50f57cd5930a52a",
       "version_major": 2,
       "version_minor": 0
      },
      "text/plain": [
       "Downloading:   0%|          | 0.00/736M [00:00<?, ?B/s]"
      ]
     },
     "metadata": {},
     "output_type": "display_data"
    },
    {
     "name": "stderr",
     "output_type": "stream",
     "text": [
      "All model checkpoint layers were used when initializing TFDebertaV2Model.\n",
      "\n",
      "All the layers of TFDebertaV2Model were initialized from the model checkpoint at microsoft/deberta-v3-base.\n",
      "If your task is similar to the task the model of the checkpoint was trained on, you can already use TFDebertaV2Model for predictions without further training.\n"
     ]
    },
    {
     "data": {
      "text/plain": [
       "44062"
      ]
     },
     "execution_count": 24,
     "metadata": {},
     "output_type": "execute_result"
    }
   ],
   "source": [
    "#ex 1\n",
    "tf.keras.backend.clear_session()\n",
    "\n",
    "bert_model = transformers.TFAutoModel.from_pretrained(\"bert-base-cased\", config=cfg)\n",
    "bert_pooled_model = create_bert_model(bert_model,\n",
    "                                                 hidden_size = 100, \n",
    "                                                 dropout = 0.0)\n",
    "\n",
    "deberta_model = transformers.TFAutoModel.from_pretrained(\"microsoft/deberta-v3-base\", config=cfg_db)\n",
    "deberta_pooled_model = create_deberta_model(deberta_model,\n",
    "                                                 pooling_type = 'avg_pool',\n",
    "                                                 hidden_size = 100, \n",
    "                                                 dropout = 0.0)\n",
    "\n",
    "tf.keras.backend.clear_session()\n",
    "\n",
    "gc.collect()"
   ]
  },
  {
   "cell_type": "markdown",
   "id": "J3MWhdMP2Hzg",
   "metadata": {
    "id": "J3MWhdMP2Hzg"
   },
   "source": [
    "# Training Models"
   ]
  },
  {
   "cell_type": "code",
   "execution_count": null,
   "id": "VgEFYaMN2PVs",
   "metadata": {
    "id": "VgEFYaMN2PVs"
   },
   "outputs": [],
   "source": [
    "def train_model(model,\n",
    "                train_df,\n",
    "                val_df,\n",
    "                config: dict,\n",
    "                callbacks: list,\n",
    "                verbose: int=0):\n",
    "    \"\"\"\n",
    "    Fit created DeBERTa model using training and validation sets\n",
    "    \"\"\"\n",
    "    \n",
    "    # Initalize model\n",
    "    tf.keras.backend.clear_session()\n",
    "    callback = tf.keras.callbacks.EarlyStopping(monitor='MCRMSE', patience = PATIENCE , restore_best_weights=True)\n",
    "\n",
    "    model_history = model.fit(\n",
    "      x=train_df[0],\n",
    "      y=train_df[1],\n",
    "      validation_data = val_df,\n",
    "      batch_size=BATCH_SIZE,\n",
    "      epochs=EPOCHS,\n",
    "      shuffle = True,\n",
    "      callbacks = [callback]\n",
    "      )\n",
    "\n",
    "    return model_history"
   ]
  },
  {
   "cell_type": "code",
   "execution_count": null,
   "id": "hEm6-MKKZLMn",
   "metadata": {
    "colab": {
     "base_uri": "https://localhost:8080/"
    },
    "id": "hEm6-MKKZLMn",
    "outputId": "471a0bd7-5c03-4f1d-abb2-710dc5c2c3bb"
   },
   "outputs": [
    {
     "name": "stdout",
     "output_type": "stream",
     "text": [
      "Epoch 1/4\n"
     ]
    },
    {
     "name": "stderr",
     "output_type": "stream",
     "text": [
      "WARNING:tensorflow:From /usr/local/lib/python3.8/dist-packages/transformers/models/deberta_v2/modeling_tf_deberta_v2.py:125: Bernoulli.__init__ (from tensorflow.python.ops.distributions.bernoulli) is deprecated and will be removed after 2019-01-01.\n",
      "Instructions for updating:\n",
      "The TensorFlow Distributions library has moved to TensorFlow Probability (https://github.com/tensorflow/probability). You should update all references to use `tfp.distributions` instead of `tf.distributions`.\n",
      "WARNING:tensorflow:From /usr/local/lib/python3.8/dist-packages/tensorflow/python/ops/distributions/bernoulli.py:86: Distribution.__init__ (from tensorflow.python.ops.distributions.distribution) is deprecated and will be removed after 2019-01-01.\n",
      "Instructions for updating:\n",
      "The TensorFlow Distributions library has moved to TensorFlow Probability (https://github.com/tensorflow/probability). You should update all references to use `tfp.distributions` instead of `tf.distributions`.\n"
     ]
    },
    {
     "name": "stdout",
     "output_type": "stream",
     "text": [
      "2347/2347 [==============================] - 142s 51ms/step - loss: 0.1415 - MCRMSE: 0.4241 - val_loss: 0.1221 - val_MCRMSE: 0.3998\n",
      "Epoch 2/4\n",
      "2347/2347 [==============================] - 116s 50ms/step - loss: 0.1008 - MCRMSE: 0.3588 - val_loss: 0.1095 - val_MCRMSE: 0.3791\n",
      "Epoch 3/4\n",
      "2347/2347 [==============================] - 116s 50ms/step - loss: 0.0742 - MCRMSE: 0.3074 - val_loss: 0.1178 - val_MCRMSE: 0.3938\n",
      "Epoch 4/4\n",
      "2347/2347 [==============================] - 116s 49ms/step - loss: 0.0532 - MCRMSE: 0.2606 - val_loss: 0.1075 - val_MCRMSE: 0.3745\n",
      "CPU times: user 9min 4s, sys: 26.9 s, total: 9min 31s\n",
      "Wall time: 8min 10s\n"
     ]
    }
   ],
   "source": [
    "%%time\n",
    "callbacks = [earlystopper]\n",
    "\n",
    "tf.keras.backend.clear_session()\n",
    "\n",
    "deberta_pooled_model_history = train_model(model=deberta_pooled_model,\n",
    "                                    train_df = train_dataset_db, \n",
    "                                    val_df = val_dataset_db, \n",
    "                                    config=base_deberta_config, \n",
    "                                    callbacks=callbacks, \n",
    "                                    verbose=1)\n",
    "\n",
    "tf.keras.backend.clear_session()"
   ]
  },
  {
   "cell_type": "code",
   "execution_count": null,
   "id": "Ev4b0KYUwkHJ",
   "metadata": {
    "id": "Ev4b0KYUwkHJ"
   },
   "outputs": [],
   "source": [
    "#saving or loading\n",
    "# deberta_pooled_model.save('models/all_in_one_reg_deberta')\n",
    "deberta_pooled_model = tf.keras.models.load_model('models/all_in_one_reg_deberta', custom_objects={'MCRMSE':MCRMSE})"
   ]
  },
  {
   "cell_type": "markdown",
   "id": "03db3ebf",
   "metadata": {
    "id": "03db3ebf"
   },
   "source": [
    "# Prediction + Data Viz"
   ]
  },
  {
   "cell_type": "code",
   "execution_count": null,
   "id": "rXpvm_EUes76",
   "metadata": {
    "colab": {
     "base_uri": "https://localhost:8080/"
    },
    "id": "rXpvm_EUes76",
    "outputId": "ffea07f8-f339-4228-d5e4-6a7b445e4dc6"
   },
   "outputs": [
    {
     "name": "stdout",
     "output_type": "stream",
     "text": [
      "782/782 [==============================] - 33s 41ms/step - loss: 0.1223 - MCRMSE: 0.4662\n",
      "All in one regression using Bert. Loss: 0.12230804562568665 MCRMSE: 0.4661596417427063\n",
      "CPU times: user 33.4 s, sys: 569 ms, total: 34 s\n",
      "Wall time: 32.6 s\n"
     ]
    }
   ],
   "source": [
    "%%time\n",
    "bert_score = bert_pooled_model.evaluate(x = test_dataset_bert[0], y=test_dataset_bert[1], batch_size=1)\n",
    "print(f'All in one regression using Bert. Loss: {bert_score[0]} MCRMSE: {bert_score[1]}')"
   ]
  },
  {
   "cell_type": "code",
   "execution_count": null,
   "id": "C57KA2V0gZAS",
   "metadata": {
    "colab": {
     "base_uri": "https://localhost:8080/"
    },
    "id": "C57KA2V0gZAS",
    "outputId": "d5d8ea6a-b4a0-45a2-dcbe-f9ef0f83de02"
   },
   "outputs": [
    {
     "name": "stdout",
     "output_type": "stream",
     "text": [
      "782/782 [==============================] - 63s 79ms/step - loss: 0.1088 - MCRMSE: 0.3767\n",
      "All in one regression using Deberta. Loss: 0.10883139073848724 MCRMSE: 0.37670016288757324\n",
      "CPU times: user 43.1 s, sys: 7.32 s, total: 50.4 s\n",
      "Wall time: 1min 3s\n"
     ]
    }
   ],
   "source": [
    "%%time\n",
    "deberta_score = deberta_pooled_model.evaluate(x = test_dataset_db[0], y=test_dataset_db[1], batch_size = 1)\n",
    "print(f'All in one regression using Deberta. Loss: {deberta_score[0]} MCRMSE: {deberta_score[1]}')"
   ]
  },
  {
   "cell_type": "code",
   "execution_count": null,
   "id": "bSpwRXKNEVh3",
   "metadata": {
    "id": "bSpwRXKNEVh3"
   },
   "outputs": [],
   "source": [
    "def get_preds(model, model_type, num):\n",
    "    \"\"\"\n",
    "    Predicts the output using the given `model` for the test dataset based\n",
    "    on `model_type`. Creates a pandas df with predicted and actual values\n",
    "    for a specific numeric index `num` in the labels. Calculates the\n",
    "    absolute difference between the predicted and actual values and adds that\n",
    "    as a new column in the df.\n",
    "\n",
    "    Args:\n",
    "    model (Keras model): The machine learning model to be used for prediction.\n",
    "    model_type (str): The type of model - \"bert\" or \"deberta\".\n",
    "    num (int): The index number of the column to use in the labels for the prediction.\n",
    "\n",
    "    Returns:\n",
    "    pandas df: A pandas df with predicted and actual values for a specific\n",
    "    numeric index `num` in the labels.\n",
    "    \"\"\"\n",
    "    \n",
    "    if model_type == 'bert':\n",
    "        x = test_dataset_bert[0]\n",
    "        y = test_dataset_bert[1]\n",
    "    elif model_type =='deberta':\n",
    "        x = test_dataset_db[0]\n",
    "        y = test_dataset_db[1]\n",
    "\n",
    "    y_pred = model.predict(x, batch_size = 1)\n",
    "\n",
    "    preds= []\n",
    "    labels = []\n",
    "    for i in range(len(y_pred)):\n",
    "        preds.append(y_pred[i][1])\n",
    "        labels.append(float(y[i][num]))\n",
    "\n",
    "\n",
    "    pred_df = pd.DataFrame(list(zip(preds, labels)),\n",
    "                  columns =['pred', 'actual'])\n",
    "\n",
    "    pred_df['difference'] = pred_df.apply(lambda row: abs(row.pred - row.actual), axis=1)\n",
    "\n",
    "    return pred_df"
   ]
  },
  {
   "cell_type": "code",
   "execution_count": null,
   "id": "7or9niiD9Pi2",
   "metadata": {
    "colab": {
     "base_uri": "https://localhost:8080/"
    },
    "id": "7or9niiD9Pi2",
    "outputId": "2dc94956-2539-4b7f-e6da-9ebbfba393f2"
   },
   "outputs": [
    {
     "name": "stdout",
     "output_type": "stream",
     "text": [
      "782/782 [==============================] - 33s 40ms/step\n",
      "782/782 [==============================] - 32s 41ms/step\n",
      "782/782 [==============================] - 32s 41ms/step\n",
      "782/782 [==============================] - 32s 41ms/step\n",
      "782/782 [==============================] - 32s 41ms/step\n",
      "782/782 [==============================] - 32s 41ms/step\n",
      "782/782 [==============================] - 63s 79ms/step\n",
      "782/782 [==============================] - 62s 79ms/step\n",
      "782/782 [==============================] - 62s 79ms/step\n",
      "782/782 [==============================] - 62s 79ms/step\n",
      "782/782 [==============================] - 62s 79ms/step\n",
      "782/782 [==============================] - 62s 79ms/step\n"
     ]
    }
   ],
   "source": [
    "cohesion_df_bert = get_preds(bert_pooled_model, 'bert', 0)\n",
    "syntax_df_bert = get_preds(bert_pooled_model, 'bert', 1)\n",
    "vocab_df_bert = get_preds(bert_pooled_model, 'bert', 2)\n",
    "phrase_df_bert = get_preds(bert_pooled_model, 'bert', 3)\n",
    "grammar_df_bert = get_preds(bert_pooled_model, 'bert', 4)\n",
    "conv_df_bert = get_preds(bert_pooled_model, 'bert', 5)\n",
    "\n",
    "\n",
    "cohesion_df_deberta = get_preds(deberta_pooled_model, 'deberta', 0)\n",
    "syntax_df_deberta = get_preds(deberta_pooled_model, 'deberta', 1)\n",
    "vocab_df_deberta = get_preds(deberta_pooled_model, 'deberta', 2)\n",
    "phrase_df_deberta = get_preds(deberta_pooled_model, 'deberta', 3)\n",
    "grammar_df_deberta = get_preds(deberta_pooled_model, 'deberta', 4)\n",
    "conv_df_deberta = get_preds(deberta_pooled_model, 'deberta', 5)"
   ]
  },
  {
   "cell_type": "code",
   "execution_count": null,
   "id": "qLufjpfGDZuE",
   "metadata": {
    "colab": {
     "base_uri": "https://localhost:8080/",
     "height": 701
    },
    "id": "qLufjpfGDZuE",
    "outputId": "55cdb93a-ff09-4d5a-fae9-b36a2ada5228"
   },
   "outputs": [
    {
     "data": {
      "image/png": "[encoded data removed]",
      "text/plain": [
       "<Figure size 1440x720 with 6 Axes>"
      ]
     },
     "metadata": {
      "needs_background": "light"
     },
     "output_type": "display_data"
    }
   ],
   "source": [
    "plt.rcParams.update({'font.size': 15})\n",
    "\n",
    "fig, ((ax1, ax2, ax3), (ax4, ax5, ax6)) = plt.subplots(2, 3, sharey=True)\n",
    "fig.suptitle('Bert Model Error per Label')\n",
    "fig.set_figheight(10)\n",
    "fig.set_figwidth(20)\n",
    "\n",
    "#cohesion\n",
    "ax1.scatter(cohesion_df_bert.actual, cohesion_df_bert.difference, alpha=0.4)\n",
    "ax1.title.set_text('Cohesion')\n",
    "\n",
    "#syntax\n",
    "ax2.scatter(syntax_df_bert.actual, syntax_df_bert.difference, alpha=0.4)\n",
    "ax2.title.set_text('Syntax')\n",
    "\n",
    "#vocab\n",
    "ax3.scatter(vocab_df_bert.actual, vocab_df_bert.difference, alpha=0.4)\n",
    "ax3.title.set_text('Vocab')\n",
    "\n",
    "#phraseology\n",
    "ax4.scatter(phrase_df_bert.actual, phrase_df_bert.difference, alpha=0.4)\n",
    "ax4.title.set_text('Phraseology')\n",
    "\n",
    "#grammar\n",
    "ax5.scatter(grammar_df_bert.actual, grammar_df_bert.difference, alpha=0.4)\n",
    "ax5.title.set_text('Grammar')\n",
    "\n",
    "#conventions\n",
    "ax6.scatter(conv_df_bert.actual, conv_df_bert.difference, alpha=0.4)\n",
    "ax6.title.set_text('Conventions')\n",
    "\n",
    "\n",
    "# Set common labels\n",
    "fig.text(0.5, 0.06, 'Labeled Score', ha='center', va='center')\n",
    "fig.text(0.08, 0.5, 'Absolute Difference Between Predicted and Actual ', ha='center', va='center', rotation='vertical')\n",
    "\n",
    "fig.show()\n",
    "# RUBRIC_COLS = ['cohesion', 'syntax', 'vocabulary', 'phraseology', 'grammar', 'conventions']\n"
   ]
  },
  {
   "cell_type": "code",
   "execution_count": null,
   "id": "uiMh7nEwmUcI",
   "metadata": {
    "colab": {
     "base_uri": "https://localhost:8080/",
     "height": 701
    },
    "id": "uiMh7nEwmUcI",
    "outputId": "9eb51039-1184-40ba-bc5a-7aeabb1b5759"
   },
   "outputs": [
    {
     "data": {
      "image/png": "[encoded data removed]",
      "text/plain": [
       "<Figure size 1440x720 with 6 Axes>"
      ]
     },
     "metadata": {
      "needs_background": "light"
     },
     "output_type": "display_data"
    }
   ],
   "source": [
    "plt.rcParams.update({'font.size': 15})\n",
    "\n",
    "fig, ((ax1, ax2, ax3), (ax4, ax5, ax6)) = plt.subplots(2, 3, sharey=True)\n",
    "fig.suptitle('Deberta Model Error per Label')\n",
    "fig.set_figheight(10)\n",
    "fig.set_figwidth(20)\n",
    "\n",
    "#cohesion\n",
    "ax1.scatter(cohesion_df_deberta.actual, cohesion_df_deberta.difference, alpha=0.4)\n",
    "ax1.title.set_text('Cohesion')\n",
    "\n",
    "#syntax\n",
    "ax2.scatter(syntax_df_deberta.actual, syntax_df_deberta.difference, alpha=0.4)\n",
    "ax2.title.set_text('Syntax')\n",
    "\n",
    "#vocab\n",
    "ax3.scatter(vocab_df_deberta.actual, vocab_df_deberta.difference, alpha=0.4)\n",
    "ax3.title.set_text('Vocab')\n",
    "\n",
    "#phraseology\n",
    "ax4.scatter(phrase_df_deberta.actual, phrase_df_deberta.difference, alpha=0.4)\n",
    "ax4.title.set_text('Phraseology')\n",
    "\n",
    "#grammar\n",
    "ax5.scatter(grammar_df_deberta.actual, grammar_df_deberta.difference, alpha=0.4)\n",
    "ax5.title.set_text('Grammar')\n",
    "\n",
    "#conventions\n",
    "ax6.scatter(conv_df_deberta.actual, conv_df_deberta.difference, alpha=0.4)\n",
    "ax6.title.set_text('Conventions')\n",
    "\n",
    "\n",
    "# Set common labels\n",
    "fig.text(0.5, 0.06, 'Labeled Score', ha='center', va='center')\n",
    "fig.text(0.08, 0.5, 'Absolute Difference Between Predicted and Actual ', ha='center', va='center', rotation='vertical')\n",
    "\n",
    "fig.show()\n",
    "# RUBRIC_COLS = ['cohesion', 'syntax', 'vocabulary', 'phraseology', 'grammar', 'conventions']"
   ]
  },
  {
   "cell_type": "code",
   "execution_count": null,
   "id": "5rfb7uViJ7Hk",
   "metadata": {
    "id": "5rfb7uViJ7Hk"
   },
   "outputs": [],
   "source": [
    "# Write df's to file\n",
    "cohesion_df_bert.to_csv('data/residuals/cohesion_df_bert.csv') \n",
    "syntax_df_bert.to_csv('data/residuals/syntax_df_bert.csv') \n",
    "vocab_df_bert.to_csv('data/residuals/vocab_df_bert.csv') \n",
    "phrase_df_bert.to_csv('data/residuals/phrase_df_bert.csv') \n",
    "grammar_df_bert.to_csv('data/residuals/grammar_df_bert.csv') \n",
    "conv_df_bert.to_csv('data/residuals/conv_df_bert.csv') \n",
    "\n",
    "cohesion_df_deberta.to_csv('data/residuals/cohesion_df_deberta.csv')\n",
    "syntax_df_deberta.to_csv('data/residuals/syntax_df_deberta.csv')\n",
    "vocab_df_deberta.to_csv('data/residuals/vocab_df_deberta.csv')\n",
    "phrase_df_deberta.to_csv('data/residuals/phrase_df_deberta.csv')\n",
    "grammar_df_deberta.to_csv('data/residuals/grammar_df_deberta.csv')\n",
    "conv_df_deberta.to_csv('data/residuals/conv_df_deberta.csv') "
   ]
  },
  {
   "cell_type": "code",
   "execution_count": null,
   "id": "K3DeX68pNyqP",
   "metadata": {
    "id": "K3DeX68pNyqP"
   },
   "outputs": [],
   "source": [
    "# Read df's from file\n",
    "cohesion_df_bert = pd.read_csv('data/residuals/cohesion_df_bert.csv') \n",
    "syntax_df_bert = pd.read_csv('data/residuals/syntax_df_bert.csv') \n",
    "vocab_df_bert = pd.read_csv('data/residuals/vocab_df_bert.csv') \n",
    "phrase_df_bert = pd.read_csv('data/residuals/phrase_df_bert.csv') \n",
    "grammar_df_bert = pd.read_csv('data/residuals/grammar_df_bert.csv') \n",
    "conv_df_bert = pd.read_csv('data/residuals/conv_df_bert.csv') \n",
    "\n",
    "cohesion_df_deberta = pd.read_csv('data/residuals/cohesion_df_deberta.csv')\n",
    "syntax_df_deberta = pd.read_csv('data/residuals/syntax_df_deberta.csv')\n",
    "vocab_df_deberta = pd.read_csv('data/residuals/vocab_df_deberta.csv')\n",
    "phrase_df_deberta = pd.read_csv('data/residuals/phrase_df_deberta.csv')\n",
    "grammar_df_deberta = pd.read_csv('data/residuals/grammar_df_deberta.csv')\n",
    "conv_df_deberta = pd.read_csv('data/residuals/conv_df_deberta.csv') "
   ]
  },
  {
   "cell_type": "markdown",
   "id": "a3xe8KXdPWTO",
   "metadata": {
    "id": "a3xe8KXdPWTO"
   },
   "source": [
    "## Residuals Plot"
   ]
  },
  {
   "cell_type": "code",
   "execution_count": null,
   "id": "LpAG-uOvMy1v",
   "metadata": {
    "colab": {
     "base_uri": "https://localhost:8080/",
     "height": 423
    },
    "id": "LpAG-uOvMy1v",
    "outputId": "0e6a2c04-36dd-4124-8398-edf70e070c72"
   },
   "outputs": [
    {
     "data": {
      "text/html": [
       "\n",
       "  <div id=\"df-4323fc55-2006-4c62-82ef-563718657af8\">\n",
       "    <div class=\"colab-df-container\">\n",
       "      <div>\n",
       "<style scoped>\n",
       "    .dataframe tbody tr th:only-of-type {\n",
       "        vertical-align: middle;\n",
       "    }\n",
       "\n",
       "    .dataframe tbody tr th {\n",
       "        vertical-align: top;\n",
       "    }\n",
       "\n",
       "    .dataframe thead th {\n",
       "        text-align: right;\n",
       "    }\n",
       "</style>\n",
       "<table border=\"1\" class=\"dataframe\">\n",
       "  <thead>\n",
       "    <tr style=\"text-align: right;\">\n",
       "      <th></th>\n",
       "      <th>Unnamed: 0</th>\n",
       "      <th>pred</th>\n",
       "      <th>actual</th>\n",
       "      <th>difference</th>\n",
       "      <th>resid</th>\n",
       "    </tr>\n",
       "  </thead>\n",
       "  <tbody>\n",
       "    <tr>\n",
       "      <th>0</th>\n",
       "      <td>0</td>\n",
       "      <td>3.224495</td>\n",
       "      <td>3.0</td>\n",
       "      <td>0.224495</td>\n",
       "      <td>0.224495</td>\n",
       "    </tr>\n",
       "    <tr>\n",
       "      <th>1</th>\n",
       "      <td>1</td>\n",
       "      <td>3.080727</td>\n",
       "      <td>2.5</td>\n",
       "      <td>0.580727</td>\n",
       "      <td>0.580727</td>\n",
       "    </tr>\n",
       "    <tr>\n",
       "      <th>2</th>\n",
       "      <td>2</td>\n",
       "      <td>3.442106</td>\n",
       "      <td>4.0</td>\n",
       "      <td>0.557894</td>\n",
       "      <td>-0.557894</td>\n",
       "    </tr>\n",
       "    <tr>\n",
       "      <th>3</th>\n",
       "      <td>3</td>\n",
       "      <td>3.202379</td>\n",
       "      <td>4.0</td>\n",
       "      <td>0.797621</td>\n",
       "      <td>-0.797621</td>\n",
       "    </tr>\n",
       "    <tr>\n",
       "      <th>4</th>\n",
       "      <td>4</td>\n",
       "      <td>3.740377</td>\n",
       "      <td>4.0</td>\n",
       "      <td>0.259623</td>\n",
       "      <td>-0.259623</td>\n",
       "    </tr>\n",
       "    <tr>\n",
       "      <th>...</th>\n",
       "      <td>...</td>\n",
       "      <td>...</td>\n",
       "      <td>...</td>\n",
       "      <td>...</td>\n",
       "      <td>...</td>\n",
       "    </tr>\n",
       "    <tr>\n",
       "      <th>777</th>\n",
       "      <td>777</td>\n",
       "      <td>2.708810</td>\n",
       "      <td>3.5</td>\n",
       "      <td>0.791190</td>\n",
       "      <td>-0.791190</td>\n",
       "    </tr>\n",
       "    <tr>\n",
       "      <th>778</th>\n",
       "      <td>778</td>\n",
       "      <td>2.242751</td>\n",
       "      <td>2.5</td>\n",
       "      <td>0.257249</td>\n",
       "      <td>-0.257249</td>\n",
       "    </tr>\n",
       "    <tr>\n",
       "      <th>779</th>\n",
       "      <td>779</td>\n",
       "      <td>3.433390</td>\n",
       "      <td>3.0</td>\n",
       "      <td>0.433390</td>\n",
       "      <td>0.433390</td>\n",
       "    </tr>\n",
       "    <tr>\n",
       "      <th>780</th>\n",
       "      <td>780</td>\n",
       "      <td>3.161861</td>\n",
       "      <td>4.0</td>\n",
       "      <td>0.838139</td>\n",
       "      <td>-0.838139</td>\n",
       "    </tr>\n",
       "    <tr>\n",
       "      <th>781</th>\n",
       "      <td>781</td>\n",
       "      <td>3.168000</td>\n",
       "      <td>3.5</td>\n",
       "      <td>0.332000</td>\n",
       "      <td>-0.332000</td>\n",
       "    </tr>\n",
       "  </tbody>\n",
       "</table>\n",
       "<p>782 rows × 5 columns</p>\n",
       "</div>\n",
       "      <button class=\"colab-df-convert\" onclick=\"convertToInteractive('df-4323fc55-2006-4c62-82ef-563718657af8')\"\n",
       "              title=\"Convert this dataframe to an interactive table.\"\n",
       "              style=\"display:none;\">\n",
       "        \n",
       "  <svg xmlns=\"http://www.w3.org/2000/svg\" height=\"24px\"viewBox=\"0 0 24 24\"\n",
       "       width=\"24px\">\n",
       "    <path d=\"M0 0h24v24H0V0z\" fill=\"none\"/>\n",
       "    <path d=\"M18.56 5.44l.94 2.06.94-2.06 2.06-.94-2.06-.94-.94-2.06-.94 2.06-2.06.94zm-11 1L8.5 8.5l.94-2.06 2.06-.94-2.06-.94L8.5 2.5l-.94 2.06-2.06.94zm10 10l.94 2.06.94-2.06 2.06-.94-2.06-.94-.94-2.06-.94 2.06-2.06.94z\"/><path d=\"M17.41 7.96l-1.37-1.37c-.4-.4-.92-.59-1.43-.59-.52 0-1.04.2-1.43.59L10.3 9.45l-7.72 7.72c-.78.78-.78 2.05 0 2.83L4 21.41c.39.39.9.59 1.41.59.51 0 1.02-.2 1.41-.59l7.78-7.78 2.81-2.81c.8-.78.8-2.07 0-2.86zM5.41 20L4 18.59l7.72-7.72 1.47 1.35L5.41 20z\"/>\n",
       "  </svg>\n",
       "      </button>\n",
       "      \n",
       "  <style>\n",
       "    .colab-df-container {\n",
       "      display:flex;\n",
       "      flex-wrap:wrap;\n",
       "      gap: 12px;\n",
       "    }\n",
       "\n",
       "    .colab-df-convert {\n",
       "      background-color: #E8F0FE;\n",
       "      border: none;\n",
       "      border-radius: 50%;\n",
       "      cursor: pointer;\n",
       "      display: none;\n",
       "      fill: #1967D2;\n",
       "      height: 32px;\n",
       "      padding: 0 0 0 0;\n",
       "      width: 32px;\n",
       "    }\n",
       "\n",
       "    .colab-df-convert:hover {\n",
       "      background-color: #E2EBFA;\n",
       "      box-shadow: 0px 1px 2px rgba(60, 64, 67, 0.3), 0px 1px 3px 1px rgba(60, 64, 67, 0.15);\n",
       "      fill: #174EA6;\n",
       "    }\n",
       "\n",
       "    [theme=dark] .colab-df-convert {\n",
       "      background-color: #3B4455;\n",
       "      fill: #D2E3FC;\n",
       "    }\n",
       "\n",
       "    [theme=dark] .colab-df-convert:hover {\n",
       "      background-color: #434B5C;\n",
       "      box-shadow: 0px 1px 3px 1px rgba(0, 0, 0, 0.15);\n",
       "      filter: drop-shadow(0px 1px 2px rgba(0, 0, 0, 0.3));\n",
       "      fill: #FFFFFF;\n",
       "    }\n",
       "  </style>\n",
       "\n",
       "      <script>\n",
       "        const buttonEl =\n",
       "          document.querySelector('#df-4323fc55-2006-4c62-82ef-563718657af8 button.colab-df-convert');\n",
       "        buttonEl.style.display =\n",
       "          google.colab.kernel.accessAllowed ? 'block' : 'none';\n",
       "\n",
       "        async function convertToInteractive(key) {\n",
       "          const element = document.querySelector('#df-4323fc55-2006-4c62-82ef-563718657af8');\n",
       "          const dataTable =\n",
       "            await google.colab.kernel.invokeFunction('convertToInteractive',\n",
       "                                                     [key], {});\n",
       "          if (!dataTable) return;\n",
       "\n",
       "          const docLinkHtml = 'Like what you see? Visit the ' +\n",
       "            '<a target=\"_blank\" href=https://colab.research.google.com/notebooks/data_table.ipynb>data table notebook</a>'\n",
       "            + ' to learn more about interactive tables.';\n",
       "          element.innerHTML = '';\n",
       "          dataTable['output_type'] = 'display_data';\n",
       "          await google.colab.output.renderOutput(dataTable, element);\n",
       "          const docLink = document.createElement('div');\n",
       "          docLink.innerHTML = docLinkHtml;\n",
       "          element.appendChild(docLink);\n",
       "        }\n",
       "      </script>\n",
       "    </div>\n",
       "  </div>\n",
       "  "
      ],
      "text/plain": [
       "     Unnamed: 0      pred  actual  difference     resid\n",
       "0             0  3.224495     3.0    0.224495  0.224495\n",
       "1             1  3.080727     2.5    0.580727  0.580727\n",
       "2             2  3.442106     4.0    0.557894 -0.557894\n",
       "3             3  3.202379     4.0    0.797621 -0.797621\n",
       "4             4  3.740377     4.0    0.259623 -0.259623\n",
       "..          ...       ...     ...         ...       ...\n",
       "777         777  2.708810     3.5    0.791190 -0.791190\n",
       "778         778  2.242751     2.5    0.257249 -0.257249\n",
       "779         779  3.433390     3.0    0.433390  0.433390\n",
       "780         780  3.161861     4.0    0.838139 -0.838139\n",
       "781         781  3.168000     3.5    0.332000 -0.332000\n",
       "\n",
       "[782 rows x 5 columns]"
      ]
     },
     "execution_count": 45,
     "metadata": {},
     "output_type": "execute_result"
    }
   ],
   "source": [
    "# Create column of residuals (not absolute value of the differences)\n",
    "cohesion_df_bert['resid'] = cohesion_df_bert['pred'] - cohesion_df_bert['actual']\n",
    "cohesion_df_bert"
   ]
  },
  {
   "cell_type": "code",
   "execution_count": null,
   "id": "XWDWyMH5Lqje",
   "metadata": {
    "colab": {
     "base_uri": "https://localhost:8080/"
    },
    "id": "XWDWyMH5Lqje",
    "outputId": "38bc6ec7-342f-4352-ccba-84cf7c09e841"
   },
   "outputs": [
    {
     "data": {
      "text/plain": [
       "actual\n",
       "1.0    0.736000\n",
       "1.5    0.440721\n",
       "2.0    0.622567\n",
       "2.5    0.288957\n",
       "3.0    0.009557\n",
       "3.5   -0.320629\n",
       "4.0   -0.653484\n",
       "4.5   -0.800532\n",
       "5.0   -1.302498\n",
       "Name: resid, dtype: float64"
      ]
     },
     "execution_count": 46,
     "metadata": {},
     "output_type": "execute_result"
    }
   ],
   "source": [
    "# Calculate mean residual grouped by actual score\n",
    "cohesion_bert_resid_grouped = cohesion_df_bert.groupby('actual')['resid'].mean()\n",
    "cohesion_bert_resid_grouped"
   ]
  },
  {
   "cell_type": "code",
   "execution_count": null,
   "id": "eBDk6oI9MCTP",
   "metadata": {
    "colab": {
     "base_uri": "https://localhost:8080/",
     "height": 270
    },
    "id": "eBDk6oI9MCTP",
    "outputId": "60a90eb7-2f51-41b1-99fc-24fc2d40c259"
   },
   "outputs": [
    {
     "data": {
      "image/png": "[encoded data removed]",
      "text/plain": [
       "<Figure size 432x288 with 1 Axes>"
      ]
     },
     "metadata": {
      "needs_background": "light"
     },
     "output_type": "display_data"
    }
   ],
   "source": [
    "plt.plot(cohesion_bert_resid_grouped)\n",
    "plt.show()"
   ]
  },
  {
   "cell_type": "code",
   "execution_count": null,
   "id": "t5MbLFE7NNEz",
   "metadata": {
    "colab": {
     "base_uri": "https://localhost:8080/"
    },
    "id": "t5MbLFE7NNEz",
    "outputId": "56ef3346-7b0c-40cb-dfdd-c2ae5781ab6f"
   },
   "outputs": [
    {
     "data": {
      "text/plain": [
       "actual\n",
       "1.0    0.937883\n",
       "1.5    0.578690\n",
       "2.0    0.620878\n",
       "2.5    0.300757\n",
       "3.0    0.065554\n",
       "3.5   -0.290012\n",
       "4.0   -0.557713\n",
       "4.5   -0.661219\n",
       "5.0   -0.988176\n",
       "Name: resid, dtype: float64"
      ]
     },
     "execution_count": 49,
     "metadata": {},
     "output_type": "execute_result"
    }
   ],
   "source": [
    "cohesion_df_deberta['resid'] = cohesion_df_deberta['pred'] - cohesion_df_deberta['actual']\n",
    "cohesion_df_deberta_resid_grouped = cohesion_df_deberta.groupby('actual')['resid'].mean()\n",
    "cohesion_df_deberta_resid_grouped"
   ]
  },
  {
   "cell_type": "code",
   "execution_count": null,
   "id": "gpnBxZFyfiHq",
   "metadata": {
    "colab": {
     "base_uri": "https://localhost:8080/"
    },
    "id": "gpnBxZFyfiHq",
    "outputId": "bc6daa95-45f0-48a7-ae8e-d68325ae2358"
   },
   "outputs": [
    {
     "data": {
      "text/plain": [
       "Float64Index([1.0, 1.5, 2.0, 2.5, 3.0, 3.5, 4.0, 4.5, 5.0], dtype='float64', name='actual')"
      ]
     },
     "execution_count": 51,
     "metadata": {},
     "output_type": "execute_result"
    }
   ],
   "source": [
    "cohesion_df_deberta_resid_grouped.index"
   ]
  },
  {
   "cell_type": "code",
   "execution_count": null,
   "id": "vCBXOHXUfqfP",
   "metadata": {
    "colab": {
     "base_uri": "https://localhost:8080/"
    },
    "id": "vCBXOHXUfqfP",
    "outputId": "4fe30c9e-97f0-4418-fc3b-12f1e11b810a"
   },
   "outputs": [
    {
     "data": {
      "text/plain": [
       "array([ 0.93788274,  0.57868955,  0.62087836,  0.30075713,  0.06555437,\n",
       "       -0.29001246, -0.55771317, -0.66121944, -0.98817598])"
      ]
     },
     "execution_count": 53,
     "metadata": {},
     "output_type": "execute_result"
    }
   ],
   "source": [
    "cohesion_df_deberta_resid_grouped.values"
   ]
  },
  {
   "cell_type": "code",
   "execution_count": null,
   "id": "PXnIKmxUYN90",
   "metadata": {
    "colab": {
     "base_uri": "https://localhost:8080/",
     "height": 273
    },
    "id": "PXnIKmxUYN90",
    "outputId": "3e7d113b-51f3-4aa2-ce3e-70d7a719854e"
   },
   "outputs": [
    {
     "data": {
      "image/png": "[encoded data removed]",
      "text/plain": [
       "<Figure size 432x288 with 1 Axes>"
      ]
     },
     "metadata": {
      "needs_background": "light"
     },
     "output_type": "display_data"
    }
   ],
   "source": [
    "plt.plot(cohesion_df_deberta_resid_grouped)\n",
    "plt.show()"
   ]
  },
  {
   "cell_type": "code",
   "execution_count": null,
   "id": "LzUiTJ07YZiJ",
   "metadata": {
    "colab": {
     "base_uri": "https://localhost:8080/",
     "height": 272
    },
    "id": "LzUiTJ07YZiJ",
    "outputId": "5541f341-5150-4cea-ae28-990fd3b78f84"
   },
   "outputs": [
    {
     "data": {
      "image/png": "[encoded data removed]",
      "text/plain": [
       "<Figure size 432x288 with 1 Axes>"
      ]
     },
     "metadata": {
      "needs_background": "light"
     },
     "output_type": "display_data"
    }
   ],
   "source": [
    "plt.plot(cohesion_bert_resid_grouped.index, cohesion_bert_resid_grouped.values, '--o', label = \"BERT\")\n",
    "plt.plot(cohesion_df_deberta_resid_grouped.index, cohesion_df_deberta_resid_grouped.values, '--o', label = \"DeBERTa\")\n",
    "plt.legend()\n",
    "plt.show()"
   ]
  },
  {
   "cell_type": "code",
   "execution_count": null,
   "id": "MGvNUB2cmdyq",
   "metadata": {
    "id": "MGvNUB2cmdyq"
   },
   "outputs": [],
   "source": [
    "cohesion_df_bert['resid'] = cohesion_df_bert['pred'] - cohesion_df_bert['actual']\n",
    "cohesion_bert_resid_grouped = cohesion_df_bert.groupby('actual')['resid'].mean()\n",
    "syntax_df_bert['resid'] = syntax_df_bert['pred'] - syntax_df_bert['actual']\n",
    "syntax_bert_resid_grouped = syntax_df_bert.groupby('actual')['resid'].mean()\n",
    "vocab_df_bert['resid'] = vocab_df_bert['pred'] - vocab_df_bert['actual']\n",
    "vocab_bert_resid_grouped = vocab_df_bert.groupby('actual')['resid'].mean()\n",
    "phrase_df_bert['resid'] = phrase_df_bert['pred'] - phrase_df_bert['actual']\n",
    "phrase_bert_resid_grouped = phrase_df_bert.groupby('actual')['resid'].mean()\n",
    "grammar_df_bert['resid'] = grammar_df_bert['pred'] - grammar_df_bert['actual']\n",
    "grammar_bert_resid_grouped = grammar_df_bert.groupby('actual')['resid'].mean()\n",
    "conv_df_bert['resid'] = conv_df_bert['pred'] - conv_df_bert['actual']\n",
    "conv_bert_resid_grouped = conv_df_bert.groupby('actual')['resid'].mean()\n",
    "\n",
    "\n",
    "cohesion_df_deberta['resid'] = cohesion_df_deberta['pred'] - cohesion_df_deberta['actual']\n",
    "cohesion_df_deberta_resid_grouped = cohesion_df_deberta.groupby('actual')['resid'].mean()\n",
    "syntax_df_deberta['resid'] = syntax_df_deberta['pred'] - syntax_df_deberta['actual']\n",
    "syntax_df_deberta_resid_grouped = syntax_df_deberta.groupby('actual')['resid'].mean()\n",
    "vocab_df_deberta['resid'] = vocab_df_deberta['pred'] - vocab_df_deberta['actual']\n",
    "vocab_df_deberta_resid_grouped = vocab_df_deberta.groupby('actual')['resid'].mean()\n",
    "phrase_df_deberta['resid'] = phrase_df_deberta['pred'] - phrase_df_deberta['actual']\n",
    "phrase_df_deberta_resid_grouped = phrase_df_deberta.groupby('actual')['resid'].mean()\n",
    "grammar_df_deberta['resid'] = grammar_df_deberta['pred'] - grammar_df_deberta['actual']\n",
    "grammar_df_deberta_resid_grouped = grammar_df_deberta.groupby('actual')['resid'].mean()\n",
    "conv_df_deberta['resid'] = conv_df_deberta['pred'] - conv_df_deberta['actual']\n",
    "conv_df_deberta_resid_grouped = conv_df_deberta.groupby('actual')['resid'].mean()"
   ]
  },
  {
   "cell_type": "code",
   "execution_count": null,
   "id": "v3Vxy8XQfnFt",
   "metadata": {
    "colab": {
     "base_uri": "https://localhost:8080/",
     "height": 701
    },
    "id": "v3Vxy8XQfnFt",
    "outputId": "11e9325a-94f2-49fd-e9cc-c7473c88c6fe"
   },
   "outputs": [
    {
     "data": {
      "image/png": "[encoded data removed]",
      "text/plain": [
       "<Figure size 1440x720 with 6 Axes>"
      ]
     },
     "metadata": {
      "needs_background": "light"
     },
     "output_type": "display_data"
    }
   ],
   "source": [
    "plt.rcParams.update({'font.size': 15})\n",
    "\n",
    "fig, ((ax1, ax2, ax3), (ax4, ax5, ax6)) = plt.subplots(2, 3, sharex=True, sharey=True)\n",
    "fig.suptitle('BERT & DeBERTa Residuals per Label')\n",
    "fig.set_figheight(10)\n",
    "fig.set_figwidth(20)\n",
    "\n",
    "#cohesion\n",
    "ax1.plot(cohesion_bert_resid_grouped.index, cohesion_bert_resid_grouped.values, '--o', label = \"BERT\")\n",
    "ax1.plot(cohesion_df_deberta_resid_grouped.index, cohesion_df_deberta_resid_grouped.values, '--o', label = \"DeBERTa\")\n",
    "ax1.grid()\n",
    "ax1.legend()\n",
    "ax1.title.set_text('Cohesion')\n",
    "\n",
    "#syntax\n",
    "ax2.plot(syntax_bert_resid_grouped.index, syntax_bert_resid_grouped.values, '--o', label = \"BERT\")\n",
    "ax2.plot(syntax_df_deberta_resid_grouped.index, syntax_df_deberta_resid_grouped.values, '--o', label = \"DeBERTa\")\n",
    "ax2.grid()\n",
    "# ax2.legend()\n",
    "ax2.title.set_text('Syntax')\n",
    "\n",
    "#vocab\n",
    "ax3.plot(vocab_bert_resid_grouped.index, vocab_bert_resid_grouped.values, '--o', label = \"BERT\")\n",
    "ax3.plot(vocab_df_deberta_resid_grouped.index, vocab_df_deberta_resid_grouped.values, '--o', label = \"DeBERTa\")\n",
    "ax3.grid()\n",
    "# ax3.legend()\n",
    "ax3.title.set_text('Vocabulary')\n",
    "\n",
    "#phraseology\n",
    "ax4.plot(phrase_bert_resid_grouped.index, phrase_bert_resid_grouped.values, '--o', label = \"BERT\")\n",
    "ax4.plot(phrase_df_deberta_resid_grouped.index, phrase_df_deberta_resid_grouped.values, '--o', label = \"DeBERTa\")\n",
    "ax4.grid()\n",
    "# ax4.legend()\n",
    "ax4.title.set_text('Phraseology')\n",
    "\n",
    "#grammar\n",
    "ax5.plot(grammar_bert_resid_grouped.index, grammar_bert_resid_grouped.values, '--o', label = \"BERT\")\n",
    "ax5.plot(grammar_df_deberta_resid_grouped.index, grammar_df_deberta_resid_grouped.values, '--o', label = \"DeBERTa\")\n",
    "ax5.grid()\n",
    "# ax5.legend()\n",
    "ax5.title.set_text('Grammar')\n",
    "\n",
    "#conventions\n",
    "ax6.plot(conv_bert_resid_grouped.index, conv_bert_resid_grouped.values, '--o', label = \"BERT\")\n",
    "ax6.plot(conv_df_deberta_resid_grouped.index, conv_df_deberta_resid_grouped.values, '--o', label = \"DeBERTa\")\n",
    "ax6.grid()\n",
    "# ax6.legend()\n",
    "ax6.title.set_text('Conventions')\n",
    "\n",
    "\n",
    "# Set common labels\n",
    "fig.text(0.5, 0.06, 'Label', ha='center', va='center')\n",
    "fig.text(0.08, 0.5, 'Residuals ', ha='center', va='center', rotation='vertical')\n",
    "fig.show()"
   ]
  },
  {
   "cell_type": "code",
   "execution_count": null,
   "id": "3kS1GkmhljBo",
   "metadata": {
    "colab": {
     "base_uri": "https://localhost:8080/"
    },
    "id": "3kS1GkmhljBo",
    "outputId": "670ef97d-31d4-4c44-9f15-8023872ab0a1"
   },
   "outputs": [
    {
     "data": {
      "text/plain": [
       "array([0.73599961, 0.44072139, 0.63239369, 0.38941377, 0.29320072,\n",
       "       0.37611098, 0.65547536, 0.80053176, 1.30249796])"
      ]
     },
     "execution_count": 88,
     "metadata": {},
     "output_type": "execute_result"
    }
   ],
   "source": [
    "cohesion_df_bert.groupby('actual')['difference'].mean().values"
   ]
  },
  {
   "cell_type": "code",
   "execution_count": null,
   "id": "EDUUCvFbpm8-",
   "metadata": {
    "colab": {
     "base_uri": "https://localhost:8080/",
     "height": 701
    },
    "id": "EDUUCvFbpm8-",
    "outputId": "79114ca9-cea3-4e0d-dcdc-30f74139458b"
   },
   "outputs": [
    {
     "data": {
      "image/png": "[encoded data removed]",
      "text/plain": [
       "<Figure size 1440x720 with 6 Axes>"
      ]
     },
     "metadata": {
      "needs_background": "light"
     },
     "output_type": "display_data"
    }
   ],
   "source": [
    "plt.rcParams.update({'font.size': 15})\n",
    "\n",
    "fig, ((ax1, ax2, ax3), (ax4, ax5, ax6)) = plt.subplots(2, 3, sharex=True, sharey=True)\n",
    "fig.suptitle('BERT & DeBERTa Average Aboslute Value of Residuals per Label')\n",
    "fig.set_figheight(10)\n",
    "fig.set_figwidth(20)\n",
    "\n",
    "#cohesion\n",
    "ax1.plot(cohesion_df_bert.groupby('actual')['difference'].mean().index, cohesion_df_bert.groupby('actual')['difference'].mean().values, '--o', label = \"BERT\")\n",
    "ax1.plot(cohesion_df_deberta.groupby('actual')['difference'].mean().index, cohesion_df_deberta.groupby('actual')['difference'].mean().values, '--o', label = \"DeBERTa\")\n",
    "ax1.grid()\n",
    "ax1.legend()\n",
    "ax1.title.set_text('Cohesion')\n",
    "\n",
    "#syntax\n",
    "ax2.plot(syntax_df_bert.groupby('actual')['difference'].mean().index, syntax_df_bert.groupby('actual')['difference'].mean().values, '--o', label = \"BERT\")\n",
    "ax2.plot(syntax_df_deberta.groupby('actual')['difference'].mean().index, syntax_df_deberta.groupby('actual')['difference'].mean().values, '--o', label = \"DeBERTa\")\n",
    "ax2.grid()\n",
    "# ax2.legend()\n",
    "ax2.title.set_text('Syntax')\n",
    "\n",
    "#vocab\n",
    "ax3.plot(vocab_df_bert.groupby('actual')['difference'].mean().index, vocab_df_bert.groupby('actual')['difference'].mean().values, '--o', label = \"BERT\")\n",
    "ax3.plot(vocab_df_deberta.groupby('actual')['difference'].mean().index, vocab_df_deberta.groupby('actual')['difference'].mean().values, '--o', label = \"DeBERTa\")\n",
    "ax3.grid()\n",
    "# ax3.legend()\n",
    "ax3.title.set_text('Vocabulary')\n",
    "\n",
    "#phraseology\n",
    "ax4.plot(phrase_df_bert.groupby('actual')['difference'].mean().index, phrase_df_bert.groupby('actual')['difference'].mean().values, '--o', label = \"BERT\")\n",
    "ax4.plot(phrase_df_deberta.groupby('actual')['difference'].mean().index, phrase_df_deberta.groupby('actual')['difference'].mean().values, '--o', label = \"DeBERTa\")\n",
    "ax4.grid()\n",
    "# ax4.legend()\n",
    "ax4.title.set_text('Phraseology')\n",
    "\n",
    "#grammar\n",
    "ax5.plot(grammar_df_bert.groupby('actual')['difference'].mean().index, grammar_df_bert.groupby('actual')['difference'].mean().values, '--o', label = \"BERT\")\n",
    "ax5.plot(grammar_df_deberta.groupby('actual')['difference'].mean().index, grammar_df_deberta.groupby('actual')['difference'].mean().values, '--o', label = \"DeBERTa\")\n",
    "ax5.grid()\n",
    "# ax5.legend()\n",
    "ax5.title.set_text('Grammar')\n",
    "\n",
    "#conventions\n",
    "ax6.plot(conv_df_bert.groupby('actual')['difference'].mean().index, conv_df_bert.groupby('actual')['difference'].mean().values, '--o', label = \"BERT\")\n",
    "ax6.plot(conv_df_deberta.groupby('actual')['difference'].mean().index, conv_df_deberta.groupby('actual')['difference'].mean().values, '--o', label = \"DeBERTa\")\n",
    "ax6.grid()\n",
    "# ax6.legend()\n",
    "ax6.title.set_text('Conventions')\n",
    "\n",
    "\n",
    "# Set common labels\n",
    "fig.text(0.5, 0.06, 'Label', ha='center', va='center')\n",
    "fig.text(0.08, 0.5, 'Aboslute Difference Between Predicted and Actual Scores', ha='center', va='center', rotation='vertical')\n",
    "fig.show()"
   ]
  },
  {
   "cell_type": "code",
   "execution_count": null,
   "id": "kmjrb6GJqAqm",
   "metadata": {
    "id": "kmjrb6GJqAqm"
   },
   "outputs": [],
   "source": []
  }
 ],
 "metadata": {
  "accelerator": "GPU",
  "colab": {
   "machine_shape": "hm",
   "provenance": []
  },
  "gpuClass": "standard",
  "kernelspec": {
   "display_name": "Python 3 (ipykernel)",
   "language": "python",
   "name": "python3"
  },
  "language_info": {
   "codemirror_mode": {
    "name": "ipython",
    "version": 3
   },
   "file_extension": ".py",
   "mimetype": "text/x-python",
   "name": "python",
   "nbconvert_exporter": "python",
   "pygments_lexer": "ipython3",
   "version": "3.9.7"
  },
  "papermill": {
   "default_parameters": {},
   "duration": 987.955368,
   "end_time": "2022-09-21T23:17:00.351231",
   "environment_variables": {},
   "exception": null,
   "input_path": "__notebook__.ipynb",
   "output_path": "__notebook__.ipynb",
   "parameters": {},
   "start_time": "2022-09-21T23:00:32.395863",
   "version": "2.3.4"
  },
  "widgets": {
   "application/vnd.jupyter.widget-state+json": {
    "0538f810fdf14fc9b498411907299aaf": {
     "model_module": "@jupyter-widgets/base",
     "model_module_version": "1.2.0",
     "model_name": "LayoutModel",
     "state": {
      "_model_module": "@jupyter-widgets/base",
      "_model_module_version": "1.2.0",
      "_model_name": "LayoutModel",
      "_view_count": null,
      "_view_module": "@jupyter-widgets/base",
      "_view_module_version": "1.2.0",
      "_view_name": "LayoutView",
      "align_content": null,
      "align_items": null,
      "align_self": null,
      "border": null,
      "bottom": null,
      "display": null,
      "flex": null,
      "flex_flow": null,
      "grid_area": null,
      "grid_auto_columns": null,
      "grid_auto_flow": null,
      "grid_auto_rows": null,
      "grid_column": null,
      "grid_gap": null,
      "grid_row": null,
      "grid_template_areas": null,
      "grid_template_columns": null,
      "grid_template_rows": null,
      "height": null,
      "justify_content": null,
      "justify_items": null,
      "left": null,
      "margin": null,
      "max_height": null,
      "max_width": null,
      "min_height": null,
      "min_width": null,
      "object_fit": null,
      "object_position": null,
      "order": null,
      "overflow": null,
      "overflow_x": null,
      "overflow_y": null,
      "padding": null,
      "right": null,
      "top": null,
      "visibility": null,
      "width": null
     }
    },
    "06c4e39abdf8455991faf10b5d9c5969": {
     "model_module": "@jupyter-widgets/base",
     "model_module_version": "1.2.0",
     "model_name": "LayoutModel",
     "state": {
      "_model_module": "@jupyter-widgets/base",
      "_model_module_version": "1.2.0",
      "_model_name": "LayoutModel",
      "_view_count": null,
      "_view_module": "@jupyter-widgets/base",
      "_view_module_version": "1.2.0",
      "_view_name": "LayoutView",
      "align_content": null,
      "align_items": null,
      "align_self": null,
      "border": null,
      "bottom": null,
      "display": null,
      "flex": null,
      "flex_flow": null,
      "grid_area": null,
      "grid_auto_columns": null,
      "grid_auto_flow": null,
      "grid_auto_rows": null,
      "grid_column": null,
      "grid_gap": null,
      "grid_row": null,
      "grid_template_areas": null,
      "grid_template_columns": null,
      "grid_template_rows": null,
      "height": null,
      "justify_content": null,
      "justify_items": null,
      "left": null,
      "margin": null,
      "max_height": null,
      "max_width": null,
      "min_height": null,
      "min_width": null,
      "object_fit": null,
      "object_position": null,
      "order": null,
      "overflow": null,
      "overflow_x": null,
      "overflow_y": null,
      "padding": null,
      "right": null,
      "top": null,
      "visibility": null,
      "width": null
     }
    },
    "0eaed318a74147dab01da9c56dbf1330": {
     "model_module": "@jupyter-widgets/base",
     "model_module_version": "1.2.0",
     "model_name": "LayoutModel",
     "state": {
      "_model_module": "@jupyter-widgets/base",
      "_model_module_version": "1.2.0",
      "_model_name": "LayoutModel",
      "_view_count": null,
      "_view_module": "@jupyter-widgets/base",
      "_view_module_version": "1.2.0",
      "_view_name": "LayoutView",
      "align_content": null,
      "align_items": null,
      "align_self": null,
      "border": null,
      "bottom": null,
      "display": null,
      "flex": null,
      "flex_flow": null,
      "grid_area": null,
      "grid_auto_columns": null,
      "grid_auto_flow": null,
      "grid_auto_rows": null,
      "grid_column": null,
      "grid_gap": null,
      "grid_row": null,
      "grid_template_areas": null,
      "grid_template_columns": null,
      "grid_template_rows": null,
      "height": null,
      "justify_content": null,
      "justify_items": null,
      "left": null,
      "margin": null,
      "max_height": null,
      "max_width": null,
      "min_height": null,
      "min_width": null,
      "object_fit": null,
      "object_position": null,
      "order": null,
      "overflow": null,
      "overflow_x": null,
      "overflow_y": null,
      "padding": null,
      "right": null,
      "top": null,
      "visibility": null,
      "width": null
     }
    },
    "111b77203a6748a492af73e45aa2a167": {
     "model_module": "@jupyter-widgets/controls",
     "model_module_version": "1.5.0",
     "model_name": "DescriptionStyleModel",
     "state": {
      "_model_module": "@jupyter-widgets/controls",
      "_model_module_version": "1.5.0",
      "_model_name": "DescriptionStyleModel",
      "_view_count": null,
      "_view_module": "@jupyter-widgets/base",
      "_view_module_version": "1.2.0",
      "_view_name": "StyleView",
      "description_width": ""
     }
    },
    "1543a8b964ca4074812e45fbadaba9d0": {
     "model_module": "@jupyter-widgets/base",
     "model_module_version": "1.2.0",
     "model_name": "LayoutModel",
     "state": {
      "_model_module": "@jupyter-widgets/base",
      "_model_module_version": "1.2.0",
      "_model_name": "LayoutModel",
      "_view_count": null,
      "_view_module": "@jupyter-widgets/base",
      "_view_module_version": "1.2.0",
      "_view_name": "LayoutView",
      "align_content": null,
      "align_items": null,
      "align_self": null,
      "border": null,
      "bottom": null,
      "display": null,
      "flex": null,
      "flex_flow": null,
      "grid_area": null,
      "grid_auto_columns": null,
      "grid_auto_flow": null,
      "grid_auto_rows": null,
      "grid_column": null,
      "grid_gap": null,
      "grid_row": null,
      "grid_template_areas": null,
      "grid_template_columns": null,
      "grid_template_rows": null,
      "height": null,
      "justify_content": null,
      "justify_items": null,
      "left": null,
      "margin": null,
      "max_height": null,
      "max_width": null,
      "min_height": null,
      "min_width": null,
      "object_fit": null,
      "object_position": null,
      "order": null,
      "overflow": null,
      "overflow_x": null,
      "overflow_y": null,
      "padding": null,
      "right": null,
      "top": null,
      "visibility": null,
      "width": null
     }
    },
    "157d117f92ba4f8ea20fefdaf1560737": {
     "model_module": "@jupyter-widgets/base",
     "model_module_version": "1.2.0",
     "model_name": "LayoutModel",
     "state": {
      "_model_module": "@jupyter-widgets/base",
      "_model_module_version": "1.2.0",
      "_model_name": "LayoutModel",
      "_view_count": null,
      "_view_module": "@jupyter-widgets/base",
      "_view_module_version": "1.2.0",
      "_view_name": "LayoutView",
      "align_content": null,
      "align_items": null,
      "align_self": null,
      "border": null,
      "bottom": null,
      "display": null,
      "flex": null,
      "flex_flow": null,
      "grid_area": null,
      "grid_auto_columns": null,
      "grid_auto_flow": null,
      "grid_auto_rows": null,
      "grid_column": null,
      "grid_gap": null,
      "grid_row": null,
      "grid_template_areas": null,
      "grid_template_columns": null,
      "grid_template_rows": null,
      "height": null,
      "justify_content": null,
      "justify_items": null,
      "left": null,
      "margin": null,
      "max_height": null,
      "max_width": null,
      "min_height": null,
      "min_width": null,
      "object_fit": null,
      "object_position": null,
      "order": null,
      "overflow": null,
      "overflow_x": null,
      "overflow_y": null,
      "padding": null,
      "right": null,
      "top": null,
      "visibility": null,
      "width": null
     }
    },
    "17094da09af14c9a863fbd5e50f1717e": {
     "model_module": "@jupyter-widgets/controls",
     "model_module_version": "1.5.0",
     "model_name": "HBoxModel",
     "state": {
      "_dom_classes": [],
      "_model_module": "@jupyter-widgets/controls",
      "_model_module_version": "1.5.0",
      "_model_name": "HBoxModel",
      "_view_count": null,
      "_view_module": "@jupyter-widgets/controls",
      "_view_module_version": "1.5.0",
      "_view_name": "HBoxView",
      "box_style": "",
      "children": [
       "IPY_MODEL_63d96e187b3441fea1a3861e503c3384",
       "IPY_MODEL_446124f247f244a695ccd71fb6a180a2",
       "IPY_MODEL_775a91926d1748d28efbff54127a510d"
      ],
      "layout": "IPY_MODEL_73e0f02811fa492b979fcc8d4454ed25"
     }
    },
    "1958f6a1fa254d1cb3edc7940bf822ea": {
     "model_module": "@jupyter-widgets/base",
     "model_module_version": "1.2.0",
     "model_name": "LayoutModel",
     "state": {
      "_model_module": "@jupyter-widgets/base",
      "_model_module_version": "1.2.0",
      "_model_name": "LayoutModel",
      "_view_count": null,
      "_view_module": "@jupyter-widgets/base",
      "_view_module_version": "1.2.0",
      "_view_name": "LayoutView",
      "align_content": null,
      "align_items": null,
      "align_self": null,
      "border": null,
      "bottom": null,
      "display": null,
      "flex": null,
      "flex_flow": null,
      "grid_area": null,
      "grid_auto_columns": null,
      "grid_auto_flow": null,
      "grid_auto_rows": null,
      "grid_column": null,
      "grid_gap": null,
      "grid_row": null,
      "grid_template_areas": null,
      "grid_template_columns": null,
      "grid_template_rows": null,
      "height": null,
      "justify_content": null,
      "justify_items": null,
      "left": null,
      "margin": null,
      "max_height": null,
      "max_width": null,
      "min_height": null,
      "min_width": null,
      "object_fit": null,
      "object_position": null,
      "order": null,
      "overflow": null,
      "overflow_x": null,
      "overflow_y": null,
      "padding": null,
      "right": null,
      "top": null,
      "visibility": null,
      "width": null
     }
    },
    "1e553847ca7143ffb6e6151cb5ca67a2": {
     "model_module": "@jupyter-widgets/controls",
     "model_module_version": "1.5.0",
     "model_name": "DescriptionStyleModel",
     "state": {
      "_model_module": "@jupyter-widgets/controls",
      "_model_module_version": "1.5.0",
      "_model_name": "DescriptionStyleModel",
      "_view_count": null,
      "_view_module": "@jupyter-widgets/base",
      "_view_module_version": "1.2.0",
      "_view_name": "StyleView",
      "description_width": ""
     }
    },
    "25f88fa94f3b477ea6430d5bf4b8e0e6": {
     "model_module": "@jupyter-widgets/base",
     "model_module_version": "1.2.0",
     "model_name": "LayoutModel",
     "state": {
      "_model_module": "@jupyter-widgets/base",
      "_model_module_version": "1.2.0",
      "_model_name": "LayoutModel",
      "_view_count": null,
      "_view_module": "@jupyter-widgets/base",
      "_view_module_version": "1.2.0",
      "_view_name": "LayoutView",
      "align_content": null,
      "align_items": null,
      "align_self": null,
      "border": null,
      "bottom": null,
      "display": null,
      "flex": null,
      "flex_flow": null,
      "grid_area": null,
      "grid_auto_columns": null,
      "grid_auto_flow": null,
      "grid_auto_rows": null,
      "grid_column": null,
      "grid_gap": null,
      "grid_row": null,
      "grid_template_areas": null,
      "grid_template_columns": null,
      "grid_template_rows": null,
      "height": null,
      "justify_content": null,
      "justify_items": null,
      "left": null,
      "margin": null,
      "max_height": null,
      "max_width": null,
      "min_height": null,
      "min_width": null,
      "object_fit": null,
      "object_position": null,
      "order": null,
      "overflow": null,
      "overflow_x": null,
      "overflow_y": null,
      "padding": null,
      "right": null,
      "top": null,
      "visibility": null,
      "width": null
     }
    },
    "26c1c8372bfd4f37a6808cd57f98ebe5": {
     "model_module": "@jupyter-widgets/controls",
     "model_module_version": "1.5.0",
     "model_name": "HTMLModel",
     "state": {
      "_dom_classes": [],
      "_model_module": "@jupyter-widgets/controls",
      "_model_module_version": "1.5.0",
      "_model_name": "HTMLModel",
      "_view_count": null,
      "_view_module": "@jupyter-widgets/controls",
      "_view_module_version": "1.5.0",
      "_view_name": "HTMLView",
      "description": "",
      "description_tooltip": null,
      "layout": "IPY_MODEL_97fd104db3b84ea98d3f039d7c1d5ee2",
      "placeholder": "​",
      "style": "IPY_MODEL_a81876d2fbb2403b9c211916b90415ff",
      "value": "Downloading: 100%"
     }
    },
    "27a1045156834d54b379225fea943a5c": {
     "model_module": "@jupyter-widgets/controls",
     "model_module_version": "1.5.0",
     "model_name": "HTMLModel",
     "state": {
      "_dom_classes": [],
      "_model_module": "@jupyter-widgets/controls",
      "_model_module_version": "1.5.0",
      "_model_name": "HTMLModel",
      "_view_count": null,
      "_view_module": "@jupyter-widgets/controls",
      "_view_module_version": "1.5.0",
      "_view_name": "HTMLView",
      "description": "",
      "description_tooltip": null,
      "layout": "IPY_MODEL_c6bf6b5bd19f4ded942f408cdf69402b",
      "placeholder": "​",
      "style": "IPY_MODEL_8299659e5b4a485884927749ff99676c",
      "value": " 579/579 [00:00&lt;00:00, 23.7kB/s]"
     }
    },
    "2a0ad5950aa84818b517a5cbaaa47f0c": {
     "model_module": "@jupyter-widgets/controls",
     "model_module_version": "1.5.0",
     "model_name": "FloatProgressModel",
     "state": {
      "_dom_classes": [],
      "_model_module": "@jupyter-widgets/controls",
      "_model_module_version": "1.5.0",
      "_model_name": "FloatProgressModel",
      "_view_count": null,
      "_view_module": "@jupyter-widgets/controls",
      "_view_module_version": "1.5.0",
      "_view_name": "ProgressView",
      "bar_style": "success",
      "description": "",
      "description_tooltip": null,
      "layout": "IPY_MODEL_a74aa144374545d4a387acccf7d7604b",
      "max": 371146213,
      "min": 0,
      "orientation": "horizontal",
      "style": "IPY_MODEL_876445842ae341ddb5bae7c8c1b056a6",
      "value": 371146213
     }
    },
    "2aa11ca3970e4336b46d7f2a71243b74": {
     "model_module": "@jupyter-widgets/controls",
     "model_module_version": "1.5.0",
     "model_name": "ProgressStyleModel",
     "state": {
      "_model_module": "@jupyter-widgets/controls",
      "_model_module_version": "1.5.0",
      "_model_name": "ProgressStyleModel",
      "_view_count": null,
      "_view_module": "@jupyter-widgets/base",
      "_view_module_version": "1.2.0",
      "_view_name": "StyleView",
      "bar_color": null,
      "description_width": ""
     }
    },
    "2aec418e40ba465eb0e77c6fc526bcf4": {
     "model_module": "@jupyter-widgets/controls",
     "model_module_version": "1.5.0",
     "model_name": "HBoxModel",
     "state": {
      "_dom_classes": [],
      "_model_module": "@jupyter-widgets/controls",
      "_model_module_version": "1.5.0",
      "_model_name": "HBoxModel",
      "_view_count": null,
      "_view_module": "@jupyter-widgets/controls",
      "_view_module_version": "1.5.0",
      "_view_name": "HBoxView",
      "box_style": "",
      "children": [
       "IPY_MODEL_f593147663664da2a7151fca71422344",
       "IPY_MODEL_379f16a976b64e3ea83ecddffc2e4cb6",
       "IPY_MODEL_4ee8db5a0fff4f85979b0797dbcb2ba3"
      ],
      "layout": "IPY_MODEL_e6c7c965429e4f85806828cfdab831d3"
     }
    },
    "2b1f79099d4e4ee7aa90df76f1fb5360": {
     "model_module": "@jupyter-widgets/controls",
     "model_module_version": "1.5.0",
     "model_name": "DescriptionStyleModel",
     "state": {
      "_model_module": "@jupyter-widgets/controls",
      "_model_module_version": "1.5.0",
      "_model_name": "DescriptionStyleModel",
      "_view_count": null,
      "_view_module": "@jupyter-widgets/base",
      "_view_module_version": "1.2.0",
      "_view_name": "StyleView",
      "description_width": ""
     }
    },
    "2bd1ecab024b4af4a6d5d22904bc9a3f": {
     "model_module": "@jupyter-widgets/base",
     "model_module_version": "1.2.0",
     "model_name": "LayoutModel",
     "state": {
      "_model_module": "@jupyter-widgets/base",
      "_model_module_version": "1.2.0",
      "_model_name": "LayoutModel",
      "_view_count": null,
      "_view_module": "@jupyter-widgets/base",
      "_view_module_version": "1.2.0",
      "_view_name": "LayoutView",
      "align_content": null,
      "align_items": null,
      "align_self": null,
      "border": null,
      "bottom": null,
      "display": null,
      "flex": null,
      "flex_flow": null,
      "grid_area": null,
      "grid_auto_columns": null,
      "grid_auto_flow": null,
      "grid_auto_rows": null,
      "grid_column": null,
      "grid_gap": null,
      "grid_row": null,
      "grid_template_areas": null,
      "grid_template_columns": null,
      "grid_template_rows": null,
      "height": null,
      "justify_content": null,
      "justify_items": null,
      "left": null,
      "margin": null,
      "max_height": null,
      "max_width": null,
      "min_height": null,
      "min_width": null,
      "object_fit": null,
      "object_position": null,
      "order": null,
      "overflow": null,
      "overflow_x": null,
      "overflow_y": null,
      "padding": null,
      "right": null,
      "top": null,
      "visibility": null,
      "width": null
     }
    },
    "2e59fe34fdcd481fb9b50912b78b27fa": {
     "model_module": "@jupyter-widgets/controls",
     "model_module_version": "1.5.0",
     "model_name": "FloatProgressModel",
     "state": {
      "_dom_classes": [],
      "_model_module": "@jupyter-widgets/controls",
      "_model_module_version": "1.5.0",
      "_model_name": "FloatProgressModel",
      "_view_count": null,
      "_view_module": "@jupyter-widgets/controls",
      "_view_module_version": "1.5.0",
      "_view_name": "ProgressView",
      "bar_style": "success",
      "description": "",
      "description_tooltip": null,
      "layout": "IPY_MODEL_a09dc03886984d7cb17f1096a5ba46c2",
      "max": 52,
      "min": 0,
      "orientation": "horizontal",
      "style": "IPY_MODEL_843f33fb81ed44c4a6e436006737f6d1",
      "value": 52
     }
    },
    "2ffb9966618e4486b5093cc87243e966": {
     "model_module": "@jupyter-widgets/base",
     "model_module_version": "1.2.0",
     "model_name": "LayoutModel",
     "state": {
      "_model_module": "@jupyter-widgets/base",
      "_model_module_version": "1.2.0",
      "_model_name": "LayoutModel",
      "_view_count": null,
      "_view_module": "@jupyter-widgets/base",
      "_view_module_version": "1.2.0",
      "_view_name": "LayoutView",
      "align_content": null,
      "align_items": null,
      "align_self": null,
      "border": null,
      "bottom": null,
      "display": null,
      "flex": null,
      "flex_flow": null,
      "grid_area": null,
      "grid_auto_columns": null,
      "grid_auto_flow": null,
      "grid_auto_rows": null,
      "grid_column": null,
      "grid_gap": null,
      "grid_row": null,
      "grid_template_areas": null,
      "grid_template_columns": null,
      "grid_template_rows": null,
      "height": null,
      "justify_content": null,
      "justify_items": null,
      "left": null,
      "margin": null,
      "max_height": null,
      "max_width": null,
      "min_height": null,
      "min_width": null,
      "object_fit": null,
      "object_position": null,
      "order": null,
      "overflow": null,
      "overflow_x": null,
      "overflow_y": null,
      "padding": null,
      "right": null,
      "top": null,
      "visibility": null,
      "width": null
     }
    },
    "305021587bcd49b4806e3783677dc934": {
     "model_module": "@jupyter-widgets/controls",
     "model_module_version": "1.5.0",
     "model_name": "HBoxModel",
     "state": {
      "_dom_classes": [],
      "_model_module": "@jupyter-widgets/controls",
      "_model_module_version": "1.5.0",
      "_model_name": "HBoxModel",
      "_view_count": null,
      "_view_module": "@jupyter-widgets/controls",
      "_view_module_version": "1.5.0",
      "_view_name": "HBoxView",
      "box_style": "",
      "children": [
       "IPY_MODEL_d0a2046b534d4e7a918ad309a8d6786f",
       "IPY_MODEL_37ff8f45247d43d19c80dab042981522",
       "IPY_MODEL_77ee84973e584bde8f4ce8d25897fad4"
      ],
      "layout": "IPY_MODEL_7b962a3759c640fbbe5baae615c695b2"
     }
    },
    "32cd0e82d3c74588b230896dbc20866e": {
     "model_module": "@jupyter-widgets/controls",
     "model_module_version": "1.5.0",
     "model_name": "FloatProgressModel",
     "state": {
      "_dom_classes": [],
      "_model_module": "@jupyter-widgets/controls",
      "_model_module_version": "1.5.0",
      "_model_name": "FloatProgressModel",
      "_view_count": null,
      "_view_module": "@jupyter-widgets/controls",
      "_view_module_version": "1.5.0",
      "_view_name": "ProgressView",
      "bar_style": "success",
      "description": "",
      "description_tooltip": null,
      "layout": "IPY_MODEL_82ffa0e4c2d04551947b2e584e4b84a7",
      "max": 735589384,
      "min": 0,
      "orientation": "horizontal",
      "style": "IPY_MODEL_707dfd9e5d8f4fe981de107869bb7f37",
      "value": 735589384
     }
    },
    "379f16a976b64e3ea83ecddffc2e4cb6": {
     "model_module": "@jupyter-widgets/controls",
     "model_module_version": "1.5.0",
     "model_name": "FloatProgressModel",
     "state": {
      "_dom_classes": [],
      "_model_module": "@jupyter-widgets/controls",
      "_model_module_version": "1.5.0",
      "_model_name": "FloatProgressModel",
      "_view_count": null,
      "_view_module": "@jupyter-widgets/controls",
      "_view_module_version": "1.5.0",
      "_view_name": "ProgressView",
      "bar_style": "success",
      "description": "",
      "description_tooltip": null,
      "layout": "IPY_MODEL_852e01b2052a4891938290ee5506e1fa",
      "max": 570,
      "min": 0,
      "orientation": "horizontal",
      "style": "IPY_MODEL_2aa11ca3970e4336b46d7f2a71243b74",
      "value": 570
     }
    },
    "37ff8f45247d43d19c80dab042981522": {
     "model_module": "@jupyter-widgets/controls",
     "model_module_version": "1.5.0",
     "model_name": "FloatProgressModel",
     "state": {
      "_dom_classes": [],
      "_model_module": "@jupyter-widgets/controls",
      "_model_module_version": "1.5.0",
      "_model_name": "FloatProgressModel",
      "_view_count": null,
      "_view_module": "@jupyter-widgets/controls",
      "_view_module_version": "1.5.0",
      "_view_name": "ProgressView",
      "bar_style": "success",
      "description": "",
      "description_tooltip": null,
      "layout": "IPY_MODEL_06c4e39abdf8455991faf10b5d9c5969",
      "max": 526681800,
      "min": 0,
      "orientation": "horizontal",
      "style": "IPY_MODEL_c3ace0aea1854e048f6ef12e019c6a9d",
      "value": 526681800
     }
    },
    "382a848afde34c189dc7e15aee9da44d": {
     "model_module": "@jupyter-widgets/controls",
     "model_module_version": "1.5.0",
     "model_name": "DescriptionStyleModel",
     "state": {
      "_model_module": "@jupyter-widgets/controls",
      "_model_module_version": "1.5.0",
      "_model_name": "DescriptionStyleModel",
      "_view_count": null,
      "_view_module": "@jupyter-widgets/base",
      "_view_module_version": "1.2.0",
      "_view_name": "StyleView",
      "description_width": ""
     }
    },
    "39fea111124b4889a922e8d0df3d8ea3": {
     "model_module": "@jupyter-widgets/base",
     "model_module_version": "1.2.0",
     "model_name": "LayoutModel",
     "state": {
      "_model_module": "@jupyter-widgets/base",
      "_model_module_version": "1.2.0",
      "_model_name": "LayoutModel",
      "_view_count": null,
      "_view_module": "@jupyter-widgets/base",
      "_view_module_version": "1.2.0",
      "_view_name": "LayoutView",
      "align_content": null,
      "align_items": null,
      "align_self": null,
      "border": null,
      "bottom": null,
      "display": null,
      "flex": null,
      "flex_flow": null,
      "grid_area": null,
      "grid_auto_columns": null,
      "grid_auto_flow": null,
      "grid_auto_rows": null,
      "grid_column": null,
      "grid_gap": null,
      "grid_row": null,
      "grid_template_areas": null,
      "grid_template_columns": null,
      "grid_template_rows": null,
      "height": null,
      "justify_content": null,
      "justify_items": null,
      "left": null,
      "margin": null,
      "max_height": null,
      "max_width": null,
      "min_height": null,
      "min_width": null,
      "object_fit": null,
      "object_position": null,
      "order": null,
      "overflow": null,
      "overflow_x": null,
      "overflow_y": null,
      "padding": null,
      "right": null,
      "top": null,
      "visibility": null,
      "width": null
     }
    },
    "3be2ca9a31ce42a791e5064d9d5b755d": {
     "model_module": "@jupyter-widgets/controls",
     "model_module_version": "1.5.0",
     "model_name": "ProgressStyleModel",
     "state": {
      "_model_module": "@jupyter-widgets/controls",
      "_model_module_version": "1.5.0",
      "_model_name": "ProgressStyleModel",
      "_view_count": null,
      "_view_module": "@jupyter-widgets/base",
      "_view_module_version": "1.2.0",
      "_view_name": "StyleView",
      "bar_color": null,
      "description_width": ""
     }
    },
    "41e7c5e679794d0b96f88d7ab69fe243": {
     "model_module": "@jupyter-widgets/controls",
     "model_module_version": "1.5.0",
     "model_name": "ProgressStyleModel",
     "state": {
      "_model_module": "@jupyter-widgets/controls",
      "_model_module_version": "1.5.0",
      "_model_name": "ProgressStyleModel",
      "_view_count": null,
      "_view_module": "@jupyter-widgets/base",
      "_view_module_version": "1.2.0",
      "_view_name": "StyleView",
      "bar_color": null,
      "description_width": ""
     }
    },
    "446124f247f244a695ccd71fb6a180a2": {
     "model_module": "@jupyter-widgets/controls",
     "model_module_version": "1.5.0",
     "model_name": "FloatProgressModel",
     "state": {
      "_dom_classes": [],
      "_model_module": "@jupyter-widgets/controls",
      "_model_module_version": "1.5.0",
      "_model_name": "FloatProgressModel",
      "_view_count": null,
      "_view_module": "@jupyter-widgets/controls",
      "_view_module_version": "1.5.0",
      "_view_name": "ProgressView",
      "bar_style": "success",
      "description": "",
      "description_tooltip": null,
      "layout": "IPY_MODEL_adce43205843490cb1a9e39ad8cda1d3",
      "max": 435797,
      "min": 0,
      "orientation": "horizontal",
      "style": "IPY_MODEL_72e0c7628a814aca82a11829d3d03f73",
      "value": 435797
     }
    },
    "46252e8948504b4298af8928fcae825a": {
     "model_module": "@jupyter-widgets/controls",
     "model_module_version": "1.5.0",
     "model_name": "HTMLModel",
     "state": {
      "_dom_classes": [],
      "_model_module": "@jupyter-widgets/controls",
      "_model_module_version": "1.5.0",
      "_model_name": "HTMLModel",
      "_view_count": null,
      "_view_module": "@jupyter-widgets/controls",
      "_view_module_version": "1.5.0",
      "_view_name": "HTMLView",
      "description": "",
      "description_tooltip": null,
      "layout": "IPY_MODEL_aa6849b24bd34137933acc72b513d07c",
      "placeholder": "​",
      "style": "IPY_MODEL_cc6e2115679b4f7ab618579e47feb24d",
      "value": "Downloading: 100%"
     }
    },
    "4d11bd3469d54bc886092c5cc0a5e6cf": {
     "model_module": "@jupyter-widgets/base",
     "model_module_version": "1.2.0",
     "model_name": "LayoutModel",
     "state": {
      "_model_module": "@jupyter-widgets/base",
      "_model_module_version": "1.2.0",
      "_model_name": "LayoutModel",
      "_view_count": null,
      "_view_module": "@jupyter-widgets/base",
      "_view_module_version": "1.2.0",
      "_view_name": "LayoutView",
      "align_content": null,
      "align_items": null,
      "align_self": null,
      "border": null,
      "bottom": null,
      "display": null,
      "flex": null,
      "flex_flow": null,
      "grid_area": null,
      "grid_auto_columns": null,
      "grid_auto_flow": null,
      "grid_auto_rows": null,
      "grid_column": null,
      "grid_gap": null,
      "grid_row": null,
      "grid_template_areas": null,
      "grid_template_columns": null,
      "grid_template_rows": null,
      "height": null,
      "justify_content": null,
      "justify_items": null,
      "left": null,
      "margin": null,
      "max_height": null,
      "max_width": null,
      "min_height": null,
      "min_width": null,
      "object_fit": null,
      "object_position": null,
      "order": null,
      "overflow": null,
      "overflow_x": null,
      "overflow_y": null,
      "padding": null,
      "right": null,
      "top": null,
      "visibility": null,
      "width": null
     }
    },
    "4d3ca37f11cb45dc868188ff390af33a": {
     "model_module": "@jupyter-widgets/controls",
     "model_module_version": "1.5.0",
     "model_name": "HTMLModel",
     "state": {
      "_dom_classes": [],
      "_model_module": "@jupyter-widgets/controls",
      "_model_module_version": "1.5.0",
      "_model_name": "HTMLModel",
      "_view_count": null,
      "_view_module": "@jupyter-widgets/controls",
      "_view_module_version": "1.5.0",
      "_view_name": "HTMLView",
      "description": "",
      "description_tooltip": null,
      "layout": "IPY_MODEL_1958f6a1fa254d1cb3edc7940bf822ea",
      "placeholder": "​",
      "style": "IPY_MODEL_382a848afde34c189dc7e15aee9da44d",
      "value": " 52.0/52.0 [00:00&lt;00:00, 2.30kB/s]"
     }
    },
    "4e7364c5d7694bdd90e9aba2f81bcff7": {
     "model_module": "@jupyter-widgets/base",
     "model_module_version": "1.2.0",
     "model_name": "LayoutModel",
     "state": {
      "_model_module": "@jupyter-widgets/base",
      "_model_module_version": "1.2.0",
      "_model_name": "LayoutModel",
      "_view_count": null,
      "_view_module": "@jupyter-widgets/base",
      "_view_module_version": "1.2.0",
      "_view_name": "LayoutView",
      "align_content": null,
      "align_items": null,
      "align_self": null,
      "border": null,
      "bottom": null,
      "display": null,
      "flex": null,
      "flex_flow": null,
      "grid_area": null,
      "grid_auto_columns": null,
      "grid_auto_flow": null,
      "grid_auto_rows": null,
      "grid_column": null,
      "grid_gap": null,
      "grid_row": null,
      "grid_template_areas": null,
      "grid_template_columns": null,
      "grid_template_rows": null,
      "height": null,
      "justify_content": null,
      "justify_items": null,
      "left": null,
      "margin": null,
      "max_height": null,
      "max_width": null,
      "min_height": null,
      "min_width": null,
      "object_fit": null,
      "object_position": null,
      "order": null,
      "overflow": null,
      "overflow_x": null,
      "overflow_y": null,
      "padding": null,
      "right": null,
      "top": null,
      "visibility": null,
      "width": null
     }
    },
    "4ec5b2d691614215a4cc2931a96aa5bb": {
     "model_module": "@jupyter-widgets/base",
     "model_module_version": "1.2.0",
     "model_name": "LayoutModel",
     "state": {
      "_model_module": "@jupyter-widgets/base",
      "_model_module_version": "1.2.0",
      "_model_name": "LayoutModel",
      "_view_count": null,
      "_view_module": "@jupyter-widgets/base",
      "_view_module_version": "1.2.0",
      "_view_name": "LayoutView",
      "align_content": null,
      "align_items": null,
      "align_self": null,
      "border": null,
      "bottom": null,
      "display": null,
      "flex": null,
      "flex_flow": null,
      "grid_area": null,
      "grid_auto_columns": null,
      "grid_auto_flow": null,
      "grid_auto_rows": null,
      "grid_column": null,
      "grid_gap": null,
      "grid_row": null,
      "grid_template_areas": null,
      "grid_template_columns": null,
      "grid_template_rows": null,
      "height": null,
      "justify_content": null,
      "justify_items": null,
      "left": null,
      "margin": null,
      "max_height": null,
      "max_width": null,
      "min_height": null,
      "min_width": null,
      "object_fit": null,
      "object_position": null,
      "order": null,
      "overflow": null,
      "overflow_x": null,
      "overflow_y": null,
      "padding": null,
      "right": null,
      "top": null,
      "visibility": null,
      "width": null
     }
    },
    "4ee8db5a0fff4f85979b0797dbcb2ba3": {
     "model_module": "@jupyter-widgets/controls",
     "model_module_version": "1.5.0",
     "model_name": "HTMLModel",
     "state": {
      "_dom_classes": [],
      "_model_module": "@jupyter-widgets/controls",
      "_model_module_version": "1.5.0",
      "_model_name": "HTMLModel",
      "_view_count": null,
      "_view_module": "@jupyter-widgets/controls",
      "_view_module_version": "1.5.0",
      "_view_name": "HTMLView",
      "description": "",
      "description_tooltip": null,
      "layout": "IPY_MODEL_ab3d1f94a2da4f6198e4f70511c69de4",
      "placeholder": "​",
      "style": "IPY_MODEL_c06364097b9d48d185a1621e5c884898",
      "value": " 570/570 [00:00&lt;00:00, 17.0kB/s]"
     }
    },
    "587bb47f21304f76a713d82a96299726": {
     "model_module": "@jupyter-widgets/base",
     "model_module_version": "1.2.0",
     "model_name": "LayoutModel",
     "state": {
      "_model_module": "@jupyter-widgets/base",
      "_model_module_version": "1.2.0",
      "_model_name": "LayoutModel",
      "_view_count": null,
      "_view_module": "@jupyter-widgets/base",
      "_view_module_version": "1.2.0",
      "_view_name": "LayoutView",
      "align_content": null,
      "align_items": null,
      "align_self": null,
      "border": null,
      "bottom": null,
      "display": null,
      "flex": null,
      "flex_flow": null,
      "grid_area": null,
      "grid_auto_columns": null,
      "grid_auto_flow": null,
      "grid_auto_rows": null,
      "grid_column": null,
      "grid_gap": null,
      "grid_row": null,
      "grid_template_areas": null,
      "grid_template_columns": null,
      "grid_template_rows": null,
      "height": null,
      "justify_content": null,
      "justify_items": null,
      "left": null,
      "margin": null,
      "max_height": null,
      "max_width": null,
      "min_height": null,
      "min_width": null,
      "object_fit": null,
      "object_position": null,
      "order": null,
      "overflow": null,
      "overflow_x": null,
      "overflow_y": null,
      "padding": null,
      "right": null,
      "top": null,
      "visibility": null,
      "width": null
     }
    },
    "5d74c819804846a58d8b896852e7f4d6": {
     "model_module": "@jupyter-widgets/controls",
     "model_module_version": "1.5.0",
     "model_name": "ProgressStyleModel",
     "state": {
      "_model_module": "@jupyter-widgets/controls",
      "_model_module_version": "1.5.0",
      "_model_name": "ProgressStyleModel",
      "_view_count": null,
      "_view_module": "@jupyter-widgets/base",
      "_view_module_version": "1.2.0",
      "_view_name": "StyleView",
      "bar_color": null,
      "description_width": ""
     }
    },
    "5dd341b05dae4af8b10dff5edc548879": {
     "model_module": "@jupyter-widgets/controls",
     "model_module_version": "1.5.0",
     "model_name": "DescriptionStyleModel",
     "state": {
      "_model_module": "@jupyter-widgets/controls",
      "_model_module_version": "1.5.0",
      "_model_name": "DescriptionStyleModel",
      "_view_count": null,
      "_view_module": "@jupyter-widgets/base",
      "_view_module_version": "1.2.0",
      "_view_name": "StyleView",
      "description_width": ""
     }
    },
    "5fbb35c8eafe4987a03909b7897d022b": {
     "model_module": "@jupyter-widgets/base",
     "model_module_version": "1.2.0",
     "model_name": "LayoutModel",
     "state": {
      "_model_module": "@jupyter-widgets/base",
      "_model_module_version": "1.2.0",
      "_model_name": "LayoutModel",
      "_view_count": null,
      "_view_module": "@jupyter-widgets/base",
      "_view_module_version": "1.2.0",
      "_view_name": "LayoutView",
      "align_content": null,
      "align_items": null,
      "align_self": null,
      "border": null,
      "bottom": null,
      "display": null,
      "flex": null,
      "flex_flow": null,
      "grid_area": null,
      "grid_auto_columns": null,
      "grid_auto_flow": null,
      "grid_auto_rows": null,
      "grid_column": null,
      "grid_gap": null,
      "grid_row": null,
      "grid_template_areas": null,
      "grid_template_columns": null,
      "grid_template_rows": null,
      "height": null,
      "justify_content": null,
      "justify_items": null,
      "left": null,
      "margin": null,
      "max_height": null,
      "max_width": null,
      "min_height": null,
      "min_width": null,
      "object_fit": null,
      "object_position": null,
      "order": null,
      "overflow": null,
      "overflow_x": null,
      "overflow_y": null,
      "padding": null,
      "right": null,
      "top": null,
      "visibility": null,
      "width": null
     }
    },
    "63d96e187b3441fea1a3861e503c3384": {
     "model_module": "@jupyter-widgets/controls",
     "model_module_version": "1.5.0",
     "model_name": "HTMLModel",
     "state": {
      "_dom_classes": [],
      "_model_module": "@jupyter-widgets/controls",
      "_model_module_version": "1.5.0",
      "_model_name": "HTMLModel",
      "_view_count": null,
      "_view_module": "@jupyter-widgets/controls",
      "_view_module_version": "1.5.0",
      "_view_name": "HTMLView",
      "description": "",
      "description_tooltip": null,
      "layout": "IPY_MODEL_baab82ab1ccf455882fbc7cc42caaa4f",
      "placeholder": "​",
      "style": "IPY_MODEL_c78948a612654206a4379cf4ca6aef36",
      "value": "Downloading: 100%"
     }
    },
    "6434e57a86694739bcb59add99cc07be": {
     "model_module": "@jupyter-widgets/controls",
     "model_module_version": "1.5.0",
     "model_name": "FloatProgressModel",
     "state": {
      "_dom_classes": [],
      "_model_module": "@jupyter-widgets/controls",
      "_model_module_version": "1.5.0",
      "_model_name": "FloatProgressModel",
      "_view_count": null,
      "_view_module": "@jupyter-widgets/controls",
      "_view_module_version": "1.5.0",
      "_view_name": "ProgressView",
      "bar_style": "success",
      "description": "",
      "description_tooltip": null,
      "layout": "IPY_MODEL_39fea111124b4889a922e8d0df3d8ea3",
      "max": 213450,
      "min": 0,
      "orientation": "horizontal",
      "style": "IPY_MODEL_3be2ca9a31ce42a791e5064d9d5b755d",
      "value": 213450
     }
    },
    "6d74715aa5a64d2ca83852448549b461": {
     "model_module": "@jupyter-widgets/controls",
     "model_module_version": "1.5.0",
     "model_name": "DescriptionStyleModel",
     "state": {
      "_model_module": "@jupyter-widgets/controls",
      "_model_module_version": "1.5.0",
      "_model_name": "DescriptionStyleModel",
      "_view_count": null,
      "_view_module": "@jupyter-widgets/base",
      "_view_module_version": "1.2.0",
      "_view_name": "StyleView",
      "description_width": ""
     }
    },
    "707dfd9e5d8f4fe981de107869bb7f37": {
     "model_module": "@jupyter-widgets/controls",
     "model_module_version": "1.5.0",
     "model_name": "ProgressStyleModel",
     "state": {
      "_model_module": "@jupyter-widgets/controls",
      "_model_module_version": "1.5.0",
      "_model_name": "ProgressStyleModel",
      "_view_count": null,
      "_view_module": "@jupyter-widgets/base",
      "_view_module_version": "1.2.0",
      "_view_name": "StyleView",
      "bar_color": null,
      "description_width": ""
     }
    },
    "72caab8e56bc46cd82f9a5bcfd386275": {
     "model_module": "@jupyter-widgets/controls",
     "model_module_version": "1.5.0",
     "model_name": "DescriptionStyleModel",
     "state": {
      "_model_module": "@jupyter-widgets/controls",
      "_model_module_version": "1.5.0",
      "_model_name": "DescriptionStyleModel",
      "_view_count": null,
      "_view_module": "@jupyter-widgets/base",
      "_view_module_version": "1.2.0",
      "_view_name": "StyleView",
      "description_width": ""
     }
    },
    "72e0c7628a814aca82a11829d3d03f73": {
     "model_module": "@jupyter-widgets/controls",
     "model_module_version": "1.5.0",
     "model_name": "ProgressStyleModel",
     "state": {
      "_model_module": "@jupyter-widgets/controls",
      "_model_module_version": "1.5.0",
      "_model_name": "ProgressStyleModel",
      "_view_count": null,
      "_view_module": "@jupyter-widgets/base",
      "_view_module_version": "1.2.0",
      "_view_name": "StyleView",
      "bar_color": null,
      "description_width": ""
     }
    },
    "73875a13753742b59781bf384dd2ca40": {
     "model_module": "@jupyter-widgets/base",
     "model_module_version": "1.2.0",
     "model_name": "LayoutModel",
     "state": {
      "_model_module": "@jupyter-widgets/base",
      "_model_module_version": "1.2.0",
      "_model_name": "LayoutModel",
      "_view_count": null,
      "_view_module": "@jupyter-widgets/base",
      "_view_module_version": "1.2.0",
      "_view_name": "LayoutView",
      "align_content": null,
      "align_items": null,
      "align_self": null,
      "border": null,
      "bottom": null,
      "display": null,
      "flex": null,
      "flex_flow": null,
      "grid_area": null,
      "grid_auto_columns": null,
      "grid_auto_flow": null,
      "grid_auto_rows": null,
      "grid_column": null,
      "grid_gap": null,
      "grid_row": null,
      "grid_template_areas": null,
      "grid_template_columns": null,
      "grid_template_rows": null,
      "height": null,
      "justify_content": null,
      "justify_items": null,
      "left": null,
      "margin": null,
      "max_height": null,
      "max_width": null,
      "min_height": null,
      "min_width": null,
      "object_fit": null,
      "object_position": null,
      "order": null,
      "overflow": null,
      "overflow_x": null,
      "overflow_y": null,
      "padding": null,
      "right": null,
      "top": null,
      "visibility": null,
      "width": null
     }
    },
    "73e0f02811fa492b979fcc8d4454ed25": {
     "model_module": "@jupyter-widgets/base",
     "model_module_version": "1.2.0",
     "model_name": "LayoutModel",
     "state": {
      "_model_module": "@jupyter-widgets/base",
      "_model_module_version": "1.2.0",
      "_model_name": "LayoutModel",
      "_view_count": null,
      "_view_module": "@jupyter-widgets/base",
      "_view_module_version": "1.2.0",
      "_view_name": "LayoutView",
      "align_content": null,
      "align_items": null,
      "align_self": null,
      "border": null,
      "bottom": null,
      "display": null,
      "flex": null,
      "flex_flow": null,
      "grid_area": null,
      "grid_auto_columns": null,
      "grid_auto_flow": null,
      "grid_auto_rows": null,
      "grid_column": null,
      "grid_gap": null,
      "grid_row": null,
      "grid_template_areas": null,
      "grid_template_columns": null,
      "grid_template_rows": null,
      "height": null,
      "justify_content": null,
      "justify_items": null,
      "left": null,
      "margin": null,
      "max_height": null,
      "max_width": null,
      "min_height": null,
      "min_width": null,
      "object_fit": null,
      "object_position": null,
      "order": null,
      "overflow": null,
      "overflow_x": null,
      "overflow_y": null,
      "padding": null,
      "right": null,
      "top": null,
      "visibility": null,
      "width": null
     }
    },
    "73f64d698e704a29a91a8227ffa56c40": {
     "model_module": "@jupyter-widgets/base",
     "model_module_version": "1.2.0",
     "model_name": "LayoutModel",
     "state": {
      "_model_module": "@jupyter-widgets/base",
      "_model_module_version": "1.2.0",
      "_model_name": "LayoutModel",
      "_view_count": null,
      "_view_module": "@jupyter-widgets/base",
      "_view_module_version": "1.2.0",
      "_view_name": "LayoutView",
      "align_content": null,
      "align_items": null,
      "align_self": null,
      "border": null,
      "bottom": null,
      "display": null,
      "flex": null,
      "flex_flow": null,
      "grid_area": null,
      "grid_auto_columns": null,
      "grid_auto_flow": null,
      "grid_auto_rows": null,
      "grid_column": null,
      "grid_gap": null,
      "grid_row": null,
      "grid_template_areas": null,
      "grid_template_columns": null,
      "grid_template_rows": null,
      "height": null,
      "justify_content": null,
      "justify_items": null,
      "left": null,
      "margin": null,
      "max_height": null,
      "max_width": null,
      "min_height": null,
      "min_width": null,
      "object_fit": null,
      "object_position": null,
      "order": null,
      "overflow": null,
      "overflow_x": null,
      "overflow_y": null,
      "padding": null,
      "right": null,
      "top": null,
      "visibility": null,
      "width": null
     }
    },
    "748ef1de7b704ecfa1e9e39c985c3899": {
     "model_module": "@jupyter-widgets/controls",
     "model_module_version": "1.5.0",
     "model_name": "DescriptionStyleModel",
     "state": {
      "_model_module": "@jupyter-widgets/controls",
      "_model_module_version": "1.5.0",
      "_model_name": "DescriptionStyleModel",
      "_view_count": null,
      "_view_module": "@jupyter-widgets/base",
      "_view_module_version": "1.2.0",
      "_view_name": "StyleView",
      "description_width": ""
     }
    },
    "751190af7076441790f53fa70c6c0919": {
     "model_module": "@jupyter-widgets/controls",
     "model_module_version": "1.5.0",
     "model_name": "HTMLModel",
     "state": {
      "_dom_classes": [],
      "_model_module": "@jupyter-widgets/controls",
      "_model_module_version": "1.5.0",
      "_model_name": "HTMLModel",
      "_view_count": null,
      "_view_module": "@jupyter-widgets/controls",
      "_view_module_version": "1.5.0",
      "_view_name": "HTMLView",
      "description": "",
      "description_tooltip": null,
      "layout": "IPY_MODEL_73f64d698e704a29a91a8227ffa56c40",
      "placeholder": "​",
      "style": "IPY_MODEL_1e553847ca7143ffb6e6151cb5ca67a2",
      "value": " 736M/736M [00:08&lt;00:00, 91.2MB/s]"
     }
    },
    "775a91926d1748d28efbff54127a510d": {
     "model_module": "@jupyter-widgets/controls",
     "model_module_version": "1.5.0",
     "model_name": "HTMLModel",
     "state": {
      "_dom_classes": [],
      "_model_module": "@jupyter-widgets/controls",
      "_model_module_version": "1.5.0",
      "_model_name": "HTMLModel",
      "_view_count": null,
      "_view_module": "@jupyter-widgets/controls",
      "_view_module_version": "1.5.0",
      "_view_name": "HTMLView",
      "description": "",
      "description_tooltip": null,
      "layout": "IPY_MODEL_2ffb9966618e4486b5093cc87243e966",
      "placeholder": "​",
      "style": "IPY_MODEL_ab12ad87d80844a18ad7a078b6500712",
      "value": " 436k/436k [00:01&lt;00:00, 513kB/s]"
     }
    },
    "77ee84973e584bde8f4ce8d25897fad4": {
     "model_module": "@jupyter-widgets/controls",
     "model_module_version": "1.5.0",
     "model_name": "HTMLModel",
     "state": {
      "_dom_classes": [],
      "_model_module": "@jupyter-widgets/controls",
      "_model_module_version": "1.5.0",
      "_model_name": "HTMLModel",
      "_view_count": null,
      "_view_module": "@jupyter-widgets/controls",
      "_view_module_version": "1.5.0",
      "_view_name": "HTMLView",
      "description": "",
      "description_tooltip": null,
      "layout": "IPY_MODEL_5fbb35c8eafe4987a03909b7897d022b",
      "placeholder": "​",
      "style": "IPY_MODEL_83b349b2883b4267b1705885524536f6",
      "value": " 527M/527M [00:07&lt;00:00, 81.1MB/s]"
     }
    },
    "78dea2a2e4bc4ae19243a04d72a7dbf0": {
     "model_module": "@jupyter-widgets/controls",
     "model_module_version": "1.5.0",
     "model_name": "HBoxModel",
     "state": {
      "_dom_classes": [],
      "_model_module": "@jupyter-widgets/controls",
      "_model_module_version": "1.5.0",
      "_model_name": "HBoxModel",
      "_view_count": null,
      "_view_module": "@jupyter-widgets/controls",
      "_view_module_version": "1.5.0",
      "_view_name": "HBoxView",
      "box_style": "",
      "children": [
       "IPY_MODEL_b89b86f3aac74f1296dc81fe7fc7776f",
       "IPY_MODEL_2e59fe34fdcd481fb9b50912b78b27fa",
       "IPY_MODEL_4d3ca37f11cb45dc868188ff390af33a"
      ],
      "layout": "IPY_MODEL_2bd1ecab024b4af4a6d5d22904bc9a3f"
     }
    },
    "7ab00a84c85947b59170f43802a9aa97": {
     "model_module": "@jupyter-widgets/base",
     "model_module_version": "1.2.0",
     "model_name": "LayoutModel",
     "state": {
      "_model_module": "@jupyter-widgets/base",
      "_model_module_version": "1.2.0",
      "_model_name": "LayoutModel",
      "_view_count": null,
      "_view_module": "@jupyter-widgets/base",
      "_view_module_version": "1.2.0",
      "_view_name": "LayoutView",
      "align_content": null,
      "align_items": null,
      "align_self": null,
      "border": null,
      "bottom": null,
      "display": null,
      "flex": null,
      "flex_flow": null,
      "grid_area": null,
      "grid_auto_columns": null,
      "grid_auto_flow": null,
      "grid_auto_rows": null,
      "grid_column": null,
      "grid_gap": null,
      "grid_row": null,
      "grid_template_areas": null,
      "grid_template_columns": null,
      "grid_template_rows": null,
      "height": null,
      "justify_content": null,
      "justify_items": null,
      "left": null,
      "margin": null,
      "max_height": null,
      "max_width": null,
      "min_height": null,
      "min_width": null,
      "object_fit": null,
      "object_position": null,
      "order": null,
      "overflow": null,
      "overflow_x": null,
      "overflow_y": null,
      "padding": null,
      "right": null,
      "top": null,
      "visibility": null,
      "width": null
     }
    },
    "7b962a3759c640fbbe5baae615c695b2": {
     "model_module": "@jupyter-widgets/base",
     "model_module_version": "1.2.0",
     "model_name": "LayoutModel",
     "state": {
      "_model_module": "@jupyter-widgets/base",
      "_model_module_version": "1.2.0",
      "_model_name": "LayoutModel",
      "_view_count": null,
      "_view_module": "@jupyter-widgets/base",
      "_view_module_version": "1.2.0",
      "_view_name": "LayoutView",
      "align_content": null,
      "align_items": null,
      "align_self": null,
      "border": null,
      "bottom": null,
      "display": null,
      "flex": null,
      "flex_flow": null,
      "grid_area": null,
      "grid_auto_columns": null,
      "grid_auto_flow": null,
      "grid_auto_rows": null,
      "grid_column": null,
      "grid_gap": null,
      "grid_row": null,
      "grid_template_areas": null,
      "grid_template_columns": null,
      "grid_template_rows": null,
      "height": null,
      "justify_content": null,
      "justify_items": null,
      "left": null,
      "margin": null,
      "max_height": null,
      "max_width": null,
      "min_height": null,
      "min_width": null,
      "object_fit": null,
      "object_position": null,
      "order": null,
      "overflow": null,
      "overflow_x": null,
      "overflow_y": null,
      "padding": null,
      "right": null,
      "top": null,
      "visibility": null,
      "width": null
     }
    },
    "806be6a066f84d7286d2c21d08a4e9de": {
     "model_module": "@jupyter-widgets/controls",
     "model_module_version": "1.5.0",
     "model_name": "HBoxModel",
     "state": {
      "_dom_classes": [],
      "_model_module": "@jupyter-widgets/controls",
      "_model_module_version": "1.5.0",
      "_model_name": "HBoxModel",
      "_view_count": null,
      "_view_module": "@jupyter-widgets/controls",
      "_view_module_version": "1.5.0",
      "_view_name": "HBoxView",
      "box_style": "",
      "children": [
       "IPY_MODEL_da3e89a776f347ac9b5d94d3d9da3b9c",
       "IPY_MODEL_97ce9259eead41ef9d769f2cabe4b54b",
       "IPY_MODEL_c37fea201410486cb46abe9f6f57bb25"
      ],
      "layout": "IPY_MODEL_9c412fb513f1453391e9167d6a8217ff"
     }
    },
    "81cf250f0e6943e8a50ac580d707712e": {
     "model_module": "@jupyter-widgets/base",
     "model_module_version": "1.2.0",
     "model_name": "LayoutModel",
     "state": {
      "_model_module": "@jupyter-widgets/base",
      "_model_module_version": "1.2.0",
      "_model_name": "LayoutModel",
      "_view_count": null,
      "_view_module": "@jupyter-widgets/base",
      "_view_module_version": "1.2.0",
      "_view_name": "LayoutView",
      "align_content": null,
      "align_items": null,
      "align_self": null,
      "border": null,
      "bottom": null,
      "display": null,
      "flex": null,
      "flex_flow": null,
      "grid_area": null,
      "grid_auto_columns": null,
      "grid_auto_flow": null,
      "grid_auto_rows": null,
      "grid_column": null,
      "grid_gap": null,
      "grid_row": null,
      "grid_template_areas": null,
      "grid_template_columns": null,
      "grid_template_rows": null,
      "height": null,
      "justify_content": null,
      "justify_items": null,
      "left": null,
      "margin": null,
      "max_height": null,
      "max_width": null,
      "min_height": null,
      "min_width": null,
      "object_fit": null,
      "object_position": null,
      "order": null,
      "overflow": null,
      "overflow_x": null,
      "overflow_y": null,
      "padding": null,
      "right": null,
      "top": null,
      "visibility": null,
      "width": null
     }
    },
    "8299659e5b4a485884927749ff99676c": {
     "model_module": "@jupyter-widgets/controls",
     "model_module_version": "1.5.0",
     "model_name": "DescriptionStyleModel",
     "state": {
      "_model_module": "@jupyter-widgets/controls",
      "_model_module_version": "1.5.0",
      "_model_name": "DescriptionStyleModel",
      "_view_count": null,
      "_view_module": "@jupyter-widgets/base",
      "_view_module_version": "1.2.0",
      "_view_name": "StyleView",
      "description_width": ""
     }
    },
    "82ffa0e4c2d04551947b2e584e4b84a7": {
     "model_module": "@jupyter-widgets/base",
     "model_module_version": "1.2.0",
     "model_name": "LayoutModel",
     "state": {
      "_model_module": "@jupyter-widgets/base",
      "_model_module_version": "1.2.0",
      "_model_name": "LayoutModel",
      "_view_count": null,
      "_view_module": "@jupyter-widgets/base",
      "_view_module_version": "1.2.0",
      "_view_name": "LayoutView",
      "align_content": null,
      "align_items": null,
      "align_self": null,
      "border": null,
      "bottom": null,
      "display": null,
      "flex": null,
      "flex_flow": null,
      "grid_area": null,
      "grid_auto_columns": null,
      "grid_auto_flow": null,
      "grid_auto_rows": null,
      "grid_column": null,
      "grid_gap": null,
      "grid_row": null,
      "grid_template_areas": null,
      "grid_template_columns": null,
      "grid_template_rows": null,
      "height": null,
      "justify_content": null,
      "justify_items": null,
      "left": null,
      "margin": null,
      "max_height": null,
      "max_width": null,
      "min_height": null,
      "min_width": null,
      "object_fit": null,
      "object_position": null,
      "order": null,
      "overflow": null,
      "overflow_x": null,
      "overflow_y": null,
      "padding": null,
      "right": null,
      "top": null,
      "visibility": null,
      "width": null
     }
    },
    "83134e504b294abfb72a8f9b6ac869fa": {
     "model_module": "@jupyter-widgets/base",
     "model_module_version": "1.2.0",
     "model_name": "LayoutModel",
     "state": {
      "_model_module": "@jupyter-widgets/base",
      "_model_module_version": "1.2.0",
      "_model_name": "LayoutModel",
      "_view_count": null,
      "_view_module": "@jupyter-widgets/base",
      "_view_module_version": "1.2.0",
      "_view_name": "LayoutView",
      "align_content": null,
      "align_items": null,
      "align_self": null,
      "border": null,
      "bottom": null,
      "display": null,
      "flex": null,
      "flex_flow": null,
      "grid_area": null,
      "grid_auto_columns": null,
      "grid_auto_flow": null,
      "grid_auto_rows": null,
      "grid_column": null,
      "grid_gap": null,
      "grid_row": null,
      "grid_template_areas": null,
      "grid_template_columns": null,
      "grid_template_rows": null,
      "height": null,
      "justify_content": null,
      "justify_items": null,
      "left": null,
      "margin": null,
      "max_height": null,
      "max_width": null,
      "min_height": null,
      "min_width": null,
      "object_fit": null,
      "object_position": null,
      "order": null,
      "overflow": null,
      "overflow_x": null,
      "overflow_y": null,
      "padding": null,
      "right": null,
      "top": null,
      "visibility": null,
      "width": null
     }
    },
    "83b349b2883b4267b1705885524536f6": {
     "model_module": "@jupyter-widgets/controls",
     "model_module_version": "1.5.0",
     "model_name": "DescriptionStyleModel",
     "state": {
      "_model_module": "@jupyter-widgets/controls",
      "_model_module_version": "1.5.0",
      "_model_name": "DescriptionStyleModel",
      "_view_count": null,
      "_view_module": "@jupyter-widgets/base",
      "_view_module_version": "1.2.0",
      "_view_name": "StyleView",
      "description_width": ""
     }
    },
    "843f33fb81ed44c4a6e436006737f6d1": {
     "model_module": "@jupyter-widgets/controls",
     "model_module_version": "1.5.0",
     "model_name": "ProgressStyleModel",
     "state": {
      "_model_module": "@jupyter-widgets/controls",
      "_model_module_version": "1.5.0",
      "_model_name": "ProgressStyleModel",
      "_view_count": null,
      "_view_module": "@jupyter-widgets/base",
      "_view_module_version": "1.2.0",
      "_view_name": "StyleView",
      "bar_color": null,
      "description_width": ""
     }
    },
    "852e01b2052a4891938290ee5506e1fa": {
     "model_module": "@jupyter-widgets/base",
     "model_module_version": "1.2.0",
     "model_name": "LayoutModel",
     "state": {
      "_model_module": "@jupyter-widgets/base",
      "_model_module_version": "1.2.0",
      "_model_name": "LayoutModel",
      "_view_count": null,
      "_view_module": "@jupyter-widgets/base",
      "_view_module_version": "1.2.0",
      "_view_name": "LayoutView",
      "align_content": null,
      "align_items": null,
      "align_self": null,
      "border": null,
      "bottom": null,
      "display": null,
      "flex": null,
      "flex_flow": null,
      "grid_area": null,
      "grid_auto_columns": null,
      "grid_auto_flow": null,
      "grid_auto_rows": null,
      "grid_column": null,
      "grid_gap": null,
      "grid_row": null,
      "grid_template_areas": null,
      "grid_template_columns": null,
      "grid_template_rows": null,
      "height": null,
      "justify_content": null,
      "justify_items": null,
      "left": null,
      "margin": null,
      "max_height": null,
      "max_width": null,
      "min_height": null,
      "min_width": null,
      "object_fit": null,
      "object_position": null,
      "order": null,
      "overflow": null,
      "overflow_x": null,
      "overflow_y": null,
      "padding": null,
      "right": null,
      "top": null,
      "visibility": null,
      "width": null
     }
    },
    "876445842ae341ddb5bae7c8c1b056a6": {
     "model_module": "@jupyter-widgets/controls",
     "model_module_version": "1.5.0",
     "model_name": "ProgressStyleModel",
     "state": {
      "_model_module": "@jupyter-widgets/controls",
      "_model_module_version": "1.5.0",
      "_model_name": "ProgressStyleModel",
      "_view_count": null,
      "_view_module": "@jupyter-widgets/base",
      "_view_module_version": "1.2.0",
      "_view_name": "StyleView",
      "bar_color": null,
      "description_width": ""
     }
    },
    "8c30894ee0bd43dd9db7225b5c215694": {
     "model_module": "@jupyter-widgets/controls",
     "model_module_version": "1.5.0",
     "model_name": "FloatProgressModel",
     "state": {
      "_dom_classes": [],
      "_model_module": "@jupyter-widgets/controls",
      "_model_module_version": "1.5.0",
      "_model_name": "FloatProgressModel",
      "_view_count": null,
      "_view_module": "@jupyter-widgets/controls",
      "_view_module_version": "1.5.0",
      "_view_name": "ProgressView",
      "bar_style": "success",
      "description": "",
      "description_tooltip": null,
      "layout": "IPY_MODEL_ed525ef40f9b4356ad006994277eb598",
      "max": 579,
      "min": 0,
      "orientation": "horizontal",
      "style": "IPY_MODEL_41e7c5e679794d0b96f88d7ab69fe243",
      "value": 579
     }
    },
    "8fdaee9029644a7888004d86beac34f7": {
     "model_module": "@jupyter-widgets/controls",
     "model_module_version": "1.5.0",
     "model_name": "HTMLModel",
     "state": {
      "_dom_classes": [],
      "_model_module": "@jupyter-widgets/controls",
      "_model_module_version": "1.5.0",
      "_model_name": "HTMLModel",
      "_view_count": null,
      "_view_module": "@jupyter-widgets/controls",
      "_view_module_version": "1.5.0",
      "_view_name": "HTMLView",
      "description": "",
      "description_tooltip": null,
      "layout": "IPY_MODEL_4ec5b2d691614215a4cc2931a96aa5bb",
      "placeholder": "​",
      "style": "IPY_MODEL_e172029d19f94a5cb6d74bbc0ae690ac",
      "value": " 371M/371M [00:04&lt;00:00, 89.7MB/s]"
     }
    },
    "97ce9259eead41ef9d769f2cabe4b54b": {
     "model_module": "@jupyter-widgets/controls",
     "model_module_version": "1.5.0",
     "model_name": "FloatProgressModel",
     "state": {
      "_dom_classes": [],
      "_model_module": "@jupyter-widgets/controls",
      "_model_module_version": "1.5.0",
      "_model_name": "FloatProgressModel",
      "_view_count": null,
      "_view_module": "@jupyter-widgets/controls",
      "_view_module_version": "1.5.0",
      "_view_name": "ProgressView",
      "bar_style": "success",
      "description": "",
      "description_tooltip": null,
      "layout": "IPY_MODEL_587bb47f21304f76a713d82a96299726",
      "max": 2464616,
      "min": 0,
      "orientation": "horizontal",
      "style": "IPY_MODEL_5d74c819804846a58d8b896852e7f4d6",
      "value": 2464616
     }
    },
    "97ebb499c7bd48ed8ec631708dda96df": {
     "model_module": "@jupyter-widgets/controls",
     "model_module_version": "1.5.0",
     "model_name": "HBoxModel",
     "state": {
      "_dom_classes": [],
      "_model_module": "@jupyter-widgets/controls",
      "_model_module_version": "1.5.0",
      "_model_name": "HBoxModel",
      "_view_count": null,
      "_view_module": "@jupyter-widgets/controls",
      "_view_module_version": "1.5.0",
      "_view_name": "HBoxView",
      "box_style": "",
      "children": [
       "IPY_MODEL_b39ffa82645a4b53965c24c15663e1d8",
       "IPY_MODEL_2a0ad5950aa84818b517a5cbaaa47f0c",
       "IPY_MODEL_8fdaee9029644a7888004d86beac34f7"
      ],
      "layout": "IPY_MODEL_4d11bd3469d54bc886092c5cc0a5e6cf"
     }
    },
    "97fd104db3b84ea98d3f039d7c1d5ee2": {
     "model_module": "@jupyter-widgets/base",
     "model_module_version": "1.2.0",
     "model_name": "LayoutModel",
     "state": {
      "_model_module": "@jupyter-widgets/base",
      "_model_module_version": "1.2.0",
      "_model_name": "LayoutModel",
      "_view_count": null,
      "_view_module": "@jupyter-widgets/base",
      "_view_module_version": "1.2.0",
      "_view_name": "LayoutView",
      "align_content": null,
      "align_items": null,
      "align_self": null,
      "border": null,
      "bottom": null,
      "display": null,
      "flex": null,
      "flex_flow": null,
      "grid_area": null,
      "grid_auto_columns": null,
      "grid_auto_flow": null,
      "grid_auto_rows": null,
      "grid_column": null,
      "grid_gap": null,
      "grid_row": null,
      "grid_template_areas": null,
      "grid_template_columns": null,
      "grid_template_rows": null,
      "height": null,
      "justify_content": null,
      "justify_items": null,
      "left": null,
      "margin": null,
      "max_height": null,
      "max_width": null,
      "min_height": null,
      "min_width": null,
      "object_fit": null,
      "object_position": null,
      "order": null,
      "overflow": null,
      "overflow_x": null,
      "overflow_y": null,
      "padding": null,
      "right": null,
      "top": null,
      "visibility": null,
      "width": null
     }
    },
    "9c412fb513f1453391e9167d6a8217ff": {
     "model_module": "@jupyter-widgets/base",
     "model_module_version": "1.2.0",
     "model_name": "LayoutModel",
     "state": {
      "_model_module": "@jupyter-widgets/base",
      "_model_module_version": "1.2.0",
      "_model_name": "LayoutModel",
      "_view_count": null,
      "_view_module": "@jupyter-widgets/base",
      "_view_module_version": "1.2.0",
      "_view_name": "LayoutView",
      "align_content": null,
      "align_items": null,
      "align_self": null,
      "border": null,
      "bottom": null,
      "display": null,
      "flex": null,
      "flex_flow": null,
      "grid_area": null,
      "grid_auto_columns": null,
      "grid_auto_flow": null,
      "grid_auto_rows": null,
      "grid_column": null,
      "grid_gap": null,
      "grid_row": null,
      "grid_template_areas": null,
      "grid_template_columns": null,
      "grid_template_rows": null,
      "height": null,
      "justify_content": null,
      "justify_items": null,
      "left": null,
      "margin": null,
      "max_height": null,
      "max_width": null,
      "min_height": null,
      "min_width": null,
      "object_fit": null,
      "object_position": null,
      "order": null,
      "overflow": null,
      "overflow_x": null,
      "overflow_y": null,
      "padding": null,
      "right": null,
      "top": null,
      "visibility": null,
      "width": null
     }
    },
    "9d024a644b3d4440900e40b02987fac0": {
     "model_module": "@jupyter-widgets/controls",
     "model_module_version": "1.5.0",
     "model_name": "HTMLModel",
     "state": {
      "_dom_classes": [],
      "_model_module": "@jupyter-widgets/controls",
      "_model_module_version": "1.5.0",
      "_model_name": "HTMLModel",
      "_view_count": null,
      "_view_module": "@jupyter-widgets/controls",
      "_view_module_version": "1.5.0",
      "_view_name": "HTMLView",
      "description": "",
      "description_tooltip": null,
      "layout": "IPY_MODEL_0538f810fdf14fc9b498411907299aaf",
      "placeholder": "​",
      "style": "IPY_MODEL_5dd341b05dae4af8b10dff5edc548879",
      "value": "Downloading: 100%"
     }
    },
    "9f3c2820124944fab26f8fad034712c0": {
     "model_module": "@jupyter-widgets/controls",
     "model_module_version": "1.5.0",
     "model_name": "HBoxModel",
     "state": {
      "_dom_classes": [],
      "_model_module": "@jupyter-widgets/controls",
      "_model_module_version": "1.5.0",
      "_model_name": "HBoxModel",
      "_view_count": null,
      "_view_module": "@jupyter-widgets/controls",
      "_view_module_version": "1.5.0",
      "_view_name": "HBoxView",
      "box_style": "",
      "children": [
       "IPY_MODEL_26c1c8372bfd4f37a6808cd57f98ebe5",
       "IPY_MODEL_6434e57a86694739bcb59add99cc07be",
       "IPY_MODEL_e94cd255807d40f7995602509cbaae79"
      ],
      "layout": "IPY_MODEL_0eaed318a74147dab01da9c56dbf1330"
     }
    },
    "a09dc03886984d7cb17f1096a5ba46c2": {
     "model_module": "@jupyter-widgets/base",
     "model_module_version": "1.2.0",
     "model_name": "LayoutModel",
     "state": {
      "_model_module": "@jupyter-widgets/base",
      "_model_module_version": "1.2.0",
      "_model_name": "LayoutModel",
      "_view_count": null,
      "_view_module": "@jupyter-widgets/base",
      "_view_module_version": "1.2.0",
      "_view_name": "LayoutView",
      "align_content": null,
      "align_items": null,
      "align_self": null,
      "border": null,
      "bottom": null,
      "display": null,
      "flex": null,
      "flex_flow": null,
      "grid_area": null,
      "grid_auto_columns": null,
      "grid_auto_flow": null,
      "grid_auto_rows": null,
      "grid_column": null,
      "grid_gap": null,
      "grid_row": null,
      "grid_template_areas": null,
      "grid_template_columns": null,
      "grid_template_rows": null,
      "height": null,
      "justify_content": null,
      "justify_items": null,
      "left": null,
      "margin": null,
      "max_height": null,
      "max_width": null,
      "min_height": null,
      "min_width": null,
      "object_fit": null,
      "object_position": null,
      "order": null,
      "overflow": null,
      "overflow_x": null,
      "overflow_y": null,
      "padding": null,
      "right": null,
      "top": null,
      "visibility": null,
      "width": null
     }
    },
    "a74aa144374545d4a387acccf7d7604b": {
     "model_module": "@jupyter-widgets/base",
     "model_module_version": "1.2.0",
     "model_name": "LayoutModel",
     "state": {
      "_model_module": "@jupyter-widgets/base",
      "_model_module_version": "1.2.0",
      "_model_name": "LayoutModel",
      "_view_count": null,
      "_view_module": "@jupyter-widgets/base",
      "_view_module_version": "1.2.0",
      "_view_name": "LayoutView",
      "align_content": null,
      "align_items": null,
      "align_self": null,
      "border": null,
      "bottom": null,
      "display": null,
      "flex": null,
      "flex_flow": null,
      "grid_area": null,
      "grid_auto_columns": null,
      "grid_auto_flow": null,
      "grid_auto_rows": null,
      "grid_column": null,
      "grid_gap": null,
      "grid_row": null,
      "grid_template_areas": null,
      "grid_template_columns": null,
      "grid_template_rows": null,
      "height": null,
      "justify_content": null,
      "justify_items": null,
      "left": null,
      "margin": null,
      "max_height": null,
      "max_width": null,
      "min_height": null,
      "min_width": null,
      "object_fit": null,
      "object_position": null,
      "order": null,
      "overflow": null,
      "overflow_x": null,
      "overflow_y": null,
      "padding": null,
      "right": null,
      "top": null,
      "visibility": null,
      "width": null
     }
    },
    "a773194367584e4f8d377db3fd4a9812": {
     "model_module": "@jupyter-widgets/controls",
     "model_module_version": "1.5.0",
     "model_name": "FloatProgressModel",
     "state": {
      "_dom_classes": [],
      "_model_module": "@jupyter-widgets/controls",
      "_model_module_version": "1.5.0",
      "_model_name": "FloatProgressModel",
      "_view_count": null,
      "_view_module": "@jupyter-widgets/controls",
      "_view_module_version": "1.5.0",
      "_view_name": "ProgressView",
      "bar_style": "success",
      "description": "",
      "description_tooltip": null,
      "layout": "IPY_MODEL_25f88fa94f3b477ea6430d5bf4b8e0e6",
      "max": 29,
      "min": 0,
      "orientation": "horizontal",
      "style": "IPY_MODEL_be3f1a02f1bd468db32a1a52db3892e5",
      "value": 29
     }
    },
    "a81876d2fbb2403b9c211916b90415ff": {
     "model_module": "@jupyter-widgets/controls",
     "model_module_version": "1.5.0",
     "model_name": "DescriptionStyleModel",
     "state": {
      "_model_module": "@jupyter-widgets/controls",
      "_model_module_version": "1.5.0",
      "_model_name": "DescriptionStyleModel",
      "_view_count": null,
      "_view_module": "@jupyter-widgets/base",
      "_view_module_version": "1.2.0",
      "_view_name": "StyleView",
      "description_width": ""
     }
    },
    "aa6849b24bd34137933acc72b513d07c": {
     "model_module": "@jupyter-widgets/base",
     "model_module_version": "1.2.0",
     "model_name": "LayoutModel",
     "state": {
      "_model_module": "@jupyter-widgets/base",
      "_model_module_version": "1.2.0",
      "_model_name": "LayoutModel",
      "_view_count": null,
      "_view_module": "@jupyter-widgets/base",
      "_view_module_version": "1.2.0",
      "_view_name": "LayoutView",
      "align_content": null,
      "align_items": null,
      "align_self": null,
      "border": null,
      "bottom": null,
      "display": null,
      "flex": null,
      "flex_flow": null,
      "grid_area": null,
      "grid_auto_columns": null,
      "grid_auto_flow": null,
      "grid_auto_rows": null,
      "grid_column": null,
      "grid_gap": null,
      "grid_row": null,
      "grid_template_areas": null,
      "grid_template_columns": null,
      "grid_template_rows": null,
      "height": null,
      "justify_content": null,
      "justify_items": null,
      "left": null,
      "margin": null,
      "max_height": null,
      "max_width": null,
      "min_height": null,
      "min_width": null,
      "object_fit": null,
      "object_position": null,
      "order": null,
      "overflow": null,
      "overflow_x": null,
      "overflow_y": null,
      "padding": null,
      "right": null,
      "top": null,
      "visibility": null,
      "width": null
     }
    },
    "ab12ad87d80844a18ad7a078b6500712": {
     "model_module": "@jupyter-widgets/controls",
     "model_module_version": "1.5.0",
     "model_name": "DescriptionStyleModel",
     "state": {
      "_model_module": "@jupyter-widgets/controls",
      "_model_module_version": "1.5.0",
      "_model_name": "DescriptionStyleModel",
      "_view_count": null,
      "_view_module": "@jupyter-widgets/base",
      "_view_module_version": "1.2.0",
      "_view_name": "StyleView",
      "description_width": ""
     }
    },
    "ab3d1f94a2da4f6198e4f70511c69de4": {
     "model_module": "@jupyter-widgets/base",
     "model_module_version": "1.2.0",
     "model_name": "LayoutModel",
     "state": {
      "_model_module": "@jupyter-widgets/base",
      "_model_module_version": "1.2.0",
      "_model_name": "LayoutModel",
      "_view_count": null,
      "_view_module": "@jupyter-widgets/base",
      "_view_module_version": "1.2.0",
      "_view_name": "LayoutView",
      "align_content": null,
      "align_items": null,
      "align_self": null,
      "border": null,
      "bottom": null,
      "display": null,
      "flex": null,
      "flex_flow": null,
      "grid_area": null,
      "grid_auto_columns": null,
      "grid_auto_flow": null,
      "grid_auto_rows": null,
      "grid_column": null,
      "grid_gap": null,
      "grid_row": null,
      "grid_template_areas": null,
      "grid_template_columns": null,
      "grid_template_rows": null,
      "height": null,
      "justify_content": null,
      "justify_items": null,
      "left": null,
      "margin": null,
      "max_height": null,
      "max_width": null,
      "min_height": null,
      "min_width": null,
      "object_fit": null,
      "object_position": null,
      "order": null,
      "overflow": null,
      "overflow_x": null,
      "overflow_y": null,
      "padding": null,
      "right": null,
      "top": null,
      "visibility": null,
      "width": null
     }
    },
    "adce43205843490cb1a9e39ad8cda1d3": {
     "model_module": "@jupyter-widgets/base",
     "model_module_version": "1.2.0",
     "model_name": "LayoutModel",
     "state": {
      "_model_module": "@jupyter-widgets/base",
      "_model_module_version": "1.2.0",
      "_model_name": "LayoutModel",
      "_view_count": null,
      "_view_module": "@jupyter-widgets/base",
      "_view_module_version": "1.2.0",
      "_view_name": "LayoutView",
      "align_content": null,
      "align_items": null,
      "align_self": null,
      "border": null,
      "bottom": null,
      "display": null,
      "flex": null,
      "flex_flow": null,
      "grid_area": null,
      "grid_auto_columns": null,
      "grid_auto_flow": null,
      "grid_auto_rows": null,
      "grid_column": null,
      "grid_gap": null,
      "grid_row": null,
      "grid_template_areas": null,
      "grid_template_columns": null,
      "grid_template_rows": null,
      "height": null,
      "justify_content": null,
      "justify_items": null,
      "left": null,
      "margin": null,
      "max_height": null,
      "max_width": null,
      "min_height": null,
      "min_width": null,
      "object_fit": null,
      "object_position": null,
      "order": null,
      "overflow": null,
      "overflow_x": null,
      "overflow_y": null,
      "padding": null,
      "right": null,
      "top": null,
      "visibility": null,
      "width": null
     }
    },
    "b39ffa82645a4b53965c24c15663e1d8": {
     "model_module": "@jupyter-widgets/controls",
     "model_module_version": "1.5.0",
     "model_name": "HTMLModel",
     "state": {
      "_dom_classes": [],
      "_model_module": "@jupyter-widgets/controls",
      "_model_module_version": "1.5.0",
      "_model_name": "HTMLModel",
      "_view_count": null,
      "_view_module": "@jupyter-widgets/controls",
      "_view_module_version": "1.5.0",
      "_view_name": "HTMLView",
      "description": "",
      "description_tooltip": null,
      "layout": "IPY_MODEL_1543a8b964ca4074812e45fbadaba9d0",
      "placeholder": "​",
      "style": "IPY_MODEL_d2789950061b473fafc9379e738da2be",
      "value": "Downloading: 100%"
     }
    },
    "b717942936c14511ad5f72d817a6e385": {
     "model_module": "@jupyter-widgets/base",
     "model_module_version": "1.2.0",
     "model_name": "LayoutModel",
     "state": {
      "_model_module": "@jupyter-widgets/base",
      "_model_module_version": "1.2.0",
      "_model_name": "LayoutModel",
      "_view_count": null,
      "_view_module": "@jupyter-widgets/base",
      "_view_module_version": "1.2.0",
      "_view_name": "LayoutView",
      "align_content": null,
      "align_items": null,
      "align_self": null,
      "border": null,
      "bottom": null,
      "display": null,
      "flex": null,
      "flex_flow": null,
      "grid_area": null,
      "grid_auto_columns": null,
      "grid_auto_flow": null,
      "grid_auto_rows": null,
      "grid_column": null,
      "grid_gap": null,
      "grid_row": null,
      "grid_template_areas": null,
      "grid_template_columns": null,
      "grid_template_rows": null,
      "height": null,
      "justify_content": null,
      "justify_items": null,
      "left": null,
      "margin": null,
      "max_height": null,
      "max_width": null,
      "min_height": null,
      "min_width": null,
      "object_fit": null,
      "object_position": null,
      "order": null,
      "overflow": null,
      "overflow_x": null,
      "overflow_y": null,
      "padding": null,
      "right": null,
      "top": null,
      "visibility": null,
      "width": null
     }
    },
    "b89b86f3aac74f1296dc81fe7fc7776f": {
     "model_module": "@jupyter-widgets/controls",
     "model_module_version": "1.5.0",
     "model_name": "HTMLModel",
     "state": {
      "_dom_classes": [],
      "_model_module": "@jupyter-widgets/controls",
      "_model_module_version": "1.5.0",
      "_model_name": "HTMLModel",
      "_view_count": null,
      "_view_module": "@jupyter-widgets/controls",
      "_view_module_version": "1.5.0",
      "_view_name": "HTMLView",
      "description": "",
      "description_tooltip": null,
      "layout": "IPY_MODEL_e68fddb982964a09871266c557f303b7",
      "placeholder": "​",
      "style": "IPY_MODEL_72caab8e56bc46cd82f9a5bcfd386275",
      "value": "Downloading: 100%"
     }
    },
    "b9eab6ff12d84b9c8a9186e6e060b0fa": {
     "model_module": "@jupyter-widgets/controls",
     "model_module_version": "1.5.0",
     "model_name": "HBoxModel",
     "state": {
      "_dom_classes": [],
      "_model_module": "@jupyter-widgets/controls",
      "_model_module_version": "1.5.0",
      "_model_name": "HBoxModel",
      "_view_count": null,
      "_view_module": "@jupyter-widgets/controls",
      "_view_module_version": "1.5.0",
      "_view_name": "HBoxView",
      "box_style": "",
      "children": [
       "IPY_MODEL_9d024a644b3d4440900e40b02987fac0",
       "IPY_MODEL_8c30894ee0bd43dd9db7225b5c215694",
       "IPY_MODEL_27a1045156834d54b379225fea943a5c"
      ],
      "layout": "IPY_MODEL_4e7364c5d7694bdd90e9aba2f81bcff7"
     }
    },
    "baab82ab1ccf455882fbc7cc42caaa4f": {
     "model_module": "@jupyter-widgets/base",
     "model_module_version": "1.2.0",
     "model_name": "LayoutModel",
     "state": {
      "_model_module": "@jupyter-widgets/base",
      "_model_module_version": "1.2.0",
      "_model_name": "LayoutModel",
      "_view_count": null,
      "_view_module": "@jupyter-widgets/base",
      "_view_module_version": "1.2.0",
      "_view_name": "LayoutView",
      "align_content": null,
      "align_items": null,
      "align_self": null,
      "border": null,
      "bottom": null,
      "display": null,
      "flex": null,
      "flex_flow": null,
      "grid_area": null,
      "grid_auto_columns": null,
      "grid_auto_flow": null,
      "grid_auto_rows": null,
      "grid_column": null,
      "grid_gap": null,
      "grid_row": null,
      "grid_template_areas": null,
      "grid_template_columns": null,
      "grid_template_rows": null,
      "height": null,
      "justify_content": null,
      "justify_items": null,
      "left": null,
      "margin": null,
      "max_height": null,
      "max_width": null,
      "min_height": null,
      "min_width": null,
      "object_fit": null,
      "object_position": null,
      "order": null,
      "overflow": null,
      "overflow_x": null,
      "overflow_y": null,
      "padding": null,
      "right": null,
      "top": null,
      "visibility": null,
      "width": null
     }
    },
    "be3f1a02f1bd468db32a1a52db3892e5": {
     "model_module": "@jupyter-widgets/controls",
     "model_module_version": "1.5.0",
     "model_name": "ProgressStyleModel",
     "state": {
      "_model_module": "@jupyter-widgets/controls",
      "_model_module_version": "1.5.0",
      "_model_name": "ProgressStyleModel",
      "_view_count": null,
      "_view_module": "@jupyter-widgets/base",
      "_view_module_version": "1.2.0",
      "_view_name": "StyleView",
      "bar_color": null,
      "description_width": ""
     }
    },
    "c06364097b9d48d185a1621e5c884898": {
     "model_module": "@jupyter-widgets/controls",
     "model_module_version": "1.5.0",
     "model_name": "DescriptionStyleModel",
     "state": {
      "_model_module": "@jupyter-widgets/controls",
      "_model_module_version": "1.5.0",
      "_model_name": "DescriptionStyleModel",
      "_view_count": null,
      "_view_module": "@jupyter-widgets/base",
      "_view_module_version": "1.2.0",
      "_view_name": "StyleView",
      "description_width": ""
     }
    },
    "c37fea201410486cb46abe9f6f57bb25": {
     "model_module": "@jupyter-widgets/controls",
     "model_module_version": "1.5.0",
     "model_name": "HTMLModel",
     "state": {
      "_dom_classes": [],
      "_model_module": "@jupyter-widgets/controls",
      "_model_module_version": "1.5.0",
      "_model_name": "HTMLModel",
      "_view_count": null,
      "_view_module": "@jupyter-widgets/controls",
      "_view_module_version": "1.5.0",
      "_view_name": "HTMLView",
      "description": "",
      "description_tooltip": null,
      "layout": "IPY_MODEL_83134e504b294abfb72a8f9b6ac869fa",
      "placeholder": "​",
      "style": "IPY_MODEL_ef7f180e7bfd45c6a8ef0ee25f02e159",
      "value": " 2.46M/2.46M [00:00&lt;00:00, 41.4MB/s]"
     }
    },
    "c3ace0aea1854e048f6ef12e019c6a9d": {
     "model_module": "@jupyter-widgets/controls",
     "model_module_version": "1.5.0",
     "model_name": "ProgressStyleModel",
     "state": {
      "_model_module": "@jupyter-widgets/controls",
      "_model_module_version": "1.5.0",
      "_model_name": "ProgressStyleModel",
      "_view_count": null,
      "_view_module": "@jupyter-widgets/base",
      "_view_module_version": "1.2.0",
      "_view_name": "StyleView",
      "bar_color": null,
      "description_width": ""
     }
    },
    "c6bf6b5bd19f4ded942f408cdf69402b": {
     "model_module": "@jupyter-widgets/base",
     "model_module_version": "1.2.0",
     "model_name": "LayoutModel",
     "state": {
      "_model_module": "@jupyter-widgets/base",
      "_model_module_version": "1.2.0",
      "_model_name": "LayoutModel",
      "_view_count": null,
      "_view_module": "@jupyter-widgets/base",
      "_view_module_version": "1.2.0",
      "_view_name": "LayoutView",
      "align_content": null,
      "align_items": null,
      "align_self": null,
      "border": null,
      "bottom": null,
      "display": null,
      "flex": null,
      "flex_flow": null,
      "grid_area": null,
      "grid_auto_columns": null,
      "grid_auto_flow": null,
      "grid_auto_rows": null,
      "grid_column": null,
      "grid_gap": null,
      "grid_row": null,
      "grid_template_areas": null,
      "grid_template_columns": null,
      "grid_template_rows": null,
      "height": null,
      "justify_content": null,
      "justify_items": null,
      "left": null,
      "margin": null,
      "max_height": null,
      "max_width": null,
      "min_height": null,
      "min_width": null,
      "object_fit": null,
      "object_position": null,
      "order": null,
      "overflow": null,
      "overflow_x": null,
      "overflow_y": null,
      "padding": null,
      "right": null,
      "top": null,
      "visibility": null,
      "width": null
     }
    },
    "c78948a612654206a4379cf4ca6aef36": {
     "model_module": "@jupyter-widgets/controls",
     "model_module_version": "1.5.0",
     "model_name": "DescriptionStyleModel",
     "state": {
      "_model_module": "@jupyter-widgets/controls",
      "_model_module_version": "1.5.0",
      "_model_name": "DescriptionStyleModel",
      "_view_count": null,
      "_view_module": "@jupyter-widgets/base",
      "_view_module_version": "1.2.0",
      "_view_name": "StyleView",
      "description_width": ""
     }
    },
    "c81026bc38c94a81b978432241511d86": {
     "model_module": "@jupyter-widgets/controls",
     "model_module_version": "1.5.0",
     "model_name": "HBoxModel",
     "state": {
      "_dom_classes": [],
      "_model_module": "@jupyter-widgets/controls",
      "_model_module_version": "1.5.0",
      "_model_name": "HBoxModel",
      "_view_count": null,
      "_view_module": "@jupyter-widgets/controls",
      "_view_module_version": "1.5.0",
      "_view_name": "HBoxView",
      "box_style": "",
      "children": [
       "IPY_MODEL_dbf672e07fcf4b5891094cb33362ffa0",
       "IPY_MODEL_a773194367584e4f8d377db3fd4a9812",
       "IPY_MODEL_e9bbbd8c4f9748fba33b458e5b3be44c"
      ],
      "layout": "IPY_MODEL_157d117f92ba4f8ea20fefdaf1560737"
     }
    },
    "c99e071fb8d54eda9f64d81cc131c72b": {
     "model_module": "@jupyter-widgets/controls",
     "model_module_version": "1.5.0",
     "model_name": "DescriptionStyleModel",
     "state": {
      "_model_module": "@jupyter-widgets/controls",
      "_model_module_version": "1.5.0",
      "_model_name": "DescriptionStyleModel",
      "_view_count": null,
      "_view_module": "@jupyter-widgets/base",
      "_view_module_version": "1.2.0",
      "_view_name": "StyleView",
      "description_width": ""
     }
    },
    "cc6e2115679b4f7ab618579e47feb24d": {
     "model_module": "@jupyter-widgets/controls",
     "model_module_version": "1.5.0",
     "model_name": "DescriptionStyleModel",
     "state": {
      "_model_module": "@jupyter-widgets/controls",
      "_model_module_version": "1.5.0",
      "_model_name": "DescriptionStyleModel",
      "_view_count": null,
      "_view_module": "@jupyter-widgets/base",
      "_view_module_version": "1.2.0",
      "_view_name": "StyleView",
      "description_width": ""
     }
    },
    "d0a2046b534d4e7a918ad309a8d6786f": {
     "model_module": "@jupyter-widgets/controls",
     "model_module_version": "1.5.0",
     "model_name": "HTMLModel",
     "state": {
      "_dom_classes": [],
      "_model_module": "@jupyter-widgets/controls",
      "_model_module_version": "1.5.0",
      "_model_name": "HTMLModel",
      "_view_count": null,
      "_view_module": "@jupyter-widgets/controls",
      "_view_module_version": "1.5.0",
      "_view_name": "HTMLView",
      "description": "",
      "description_tooltip": null,
      "layout": "IPY_MODEL_b717942936c14511ad5f72d817a6e385",
      "placeholder": "​",
      "style": "IPY_MODEL_d95bf4687e1c4fb681cd02e054f5492f",
      "value": "Downloading: 100%"
     }
    },
    "d2789950061b473fafc9379e738da2be": {
     "model_module": "@jupyter-widgets/controls",
     "model_module_version": "1.5.0",
     "model_name": "DescriptionStyleModel",
     "state": {
      "_model_module": "@jupyter-widgets/controls",
      "_model_module_version": "1.5.0",
      "_model_name": "DescriptionStyleModel",
      "_view_count": null,
      "_view_module": "@jupyter-widgets/base",
      "_view_module_version": "1.2.0",
      "_view_name": "StyleView",
      "description_width": ""
     }
    },
    "d7a85245b1ad41cd9a4956b31164d2d9": {
     "model_module": "@jupyter-widgets/base",
     "model_module_version": "1.2.0",
     "model_name": "LayoutModel",
     "state": {
      "_model_module": "@jupyter-widgets/base",
      "_model_module_version": "1.2.0",
      "_model_name": "LayoutModel",
      "_view_count": null,
      "_view_module": "@jupyter-widgets/base",
      "_view_module_version": "1.2.0",
      "_view_name": "LayoutView",
      "align_content": null,
      "align_items": null,
      "align_self": null,
      "border": null,
      "bottom": null,
      "display": null,
      "flex": null,
      "flex_flow": null,
      "grid_area": null,
      "grid_auto_columns": null,
      "grid_auto_flow": null,
      "grid_auto_rows": null,
      "grid_column": null,
      "grid_gap": null,
      "grid_row": null,
      "grid_template_areas": null,
      "grid_template_columns": null,
      "grid_template_rows": null,
      "height": null,
      "justify_content": null,
      "justify_items": null,
      "left": null,
      "margin": null,
      "max_height": null,
      "max_width": null,
      "min_height": null,
      "min_width": null,
      "object_fit": null,
      "object_position": null,
      "order": null,
      "overflow": null,
      "overflow_x": null,
      "overflow_y": null,
      "padding": null,
      "right": null,
      "top": null,
      "visibility": null,
      "width": null
     }
    },
    "d95bf4687e1c4fb681cd02e054f5492f": {
     "model_module": "@jupyter-widgets/controls",
     "model_module_version": "1.5.0",
     "model_name": "DescriptionStyleModel",
     "state": {
      "_model_module": "@jupyter-widgets/controls",
      "_model_module_version": "1.5.0",
      "_model_name": "DescriptionStyleModel",
      "_view_count": null,
      "_view_module": "@jupyter-widgets/base",
      "_view_module_version": "1.2.0",
      "_view_name": "StyleView",
      "description_width": ""
     }
    },
    "da3e89a776f347ac9b5d94d3d9da3b9c": {
     "model_module": "@jupyter-widgets/controls",
     "model_module_version": "1.5.0",
     "model_name": "HTMLModel",
     "state": {
      "_dom_classes": [],
      "_model_module": "@jupyter-widgets/controls",
      "_model_module_version": "1.5.0",
      "_model_name": "HTMLModel",
      "_view_count": null,
      "_view_module": "@jupyter-widgets/controls",
      "_view_module_version": "1.5.0",
      "_view_name": "HTMLView",
      "description": "",
      "description_tooltip": null,
      "layout": "IPY_MODEL_7ab00a84c85947b59170f43802a9aa97",
      "placeholder": "​",
      "style": "IPY_MODEL_2b1f79099d4e4ee7aa90df76f1fb5360",
      "value": "Downloading: 100%"
     }
    },
    "dbf672e07fcf4b5891094cb33362ffa0": {
     "model_module": "@jupyter-widgets/controls",
     "model_module_version": "1.5.0",
     "model_name": "HTMLModel",
     "state": {
      "_dom_classes": [],
      "_model_module": "@jupyter-widgets/controls",
      "_model_module_version": "1.5.0",
      "_model_name": "HTMLModel",
      "_view_count": null,
      "_view_module": "@jupyter-widgets/controls",
      "_view_module_version": "1.5.0",
      "_view_name": "HTMLView",
      "description": "",
      "description_tooltip": null,
      "layout": "IPY_MODEL_ec66250ec7404a0dbe775b626359d0d4",
      "placeholder": "​",
      "style": "IPY_MODEL_111b77203a6748a492af73e45aa2a167",
      "value": "Downloading: 100%"
     }
    },
    "e172029d19f94a5cb6d74bbc0ae690ac": {
     "model_module": "@jupyter-widgets/controls",
     "model_module_version": "1.5.0",
     "model_name": "DescriptionStyleModel",
     "state": {
      "_model_module": "@jupyter-widgets/controls",
      "_model_module_version": "1.5.0",
      "_model_name": "DescriptionStyleModel",
      "_view_count": null,
      "_view_module": "@jupyter-widgets/base",
      "_view_module_version": "1.2.0",
      "_view_name": "StyleView",
      "description_width": ""
     }
    },
    "e68fddb982964a09871266c557f303b7": {
     "model_module": "@jupyter-widgets/base",
     "model_module_version": "1.2.0",
     "model_name": "LayoutModel",
     "state": {
      "_model_module": "@jupyter-widgets/base",
      "_model_module_version": "1.2.0",
      "_model_name": "LayoutModel",
      "_view_count": null,
      "_view_module": "@jupyter-widgets/base",
      "_view_module_version": "1.2.0",
      "_view_name": "LayoutView",
      "align_content": null,
      "align_items": null,
      "align_self": null,
      "border": null,
      "bottom": null,
      "display": null,
      "flex": null,
      "flex_flow": null,
      "grid_area": null,
      "grid_auto_columns": null,
      "grid_auto_flow": null,
      "grid_auto_rows": null,
      "grid_column": null,
      "grid_gap": null,
      "grid_row": null,
      "grid_template_areas": null,
      "grid_template_columns": null,
      "grid_template_rows": null,
      "height": null,
      "justify_content": null,
      "justify_items": null,
      "left": null,
      "margin": null,
      "max_height": null,
      "max_width": null,
      "min_height": null,
      "min_width": null,
      "object_fit": null,
      "object_position": null,
      "order": null,
      "overflow": null,
      "overflow_x": null,
      "overflow_y": null,
      "padding": null,
      "right": null,
      "top": null,
      "visibility": null,
      "width": null
     }
    },
    "e6c7c965429e4f85806828cfdab831d3": {
     "model_module": "@jupyter-widgets/base",
     "model_module_version": "1.2.0",
     "model_name": "LayoutModel",
     "state": {
      "_model_module": "@jupyter-widgets/base",
      "_model_module_version": "1.2.0",
      "_model_name": "LayoutModel",
      "_view_count": null,
      "_view_module": "@jupyter-widgets/base",
      "_view_module_version": "1.2.0",
      "_view_name": "LayoutView",
      "align_content": null,
      "align_items": null,
      "align_self": null,
      "border": null,
      "bottom": null,
      "display": null,
      "flex": null,
      "flex_flow": null,
      "grid_area": null,
      "grid_auto_columns": null,
      "grid_auto_flow": null,
      "grid_auto_rows": null,
      "grid_column": null,
      "grid_gap": null,
      "grid_row": null,
      "grid_template_areas": null,
      "grid_template_columns": null,
      "grid_template_rows": null,
      "height": null,
      "justify_content": null,
      "justify_items": null,
      "left": null,
      "margin": null,
      "max_height": null,
      "max_width": null,
      "min_height": null,
      "min_width": null,
      "object_fit": null,
      "object_position": null,
      "order": null,
      "overflow": null,
      "overflow_x": null,
      "overflow_y": null,
      "padding": null,
      "right": null,
      "top": null,
      "visibility": null,
      "width": null
     }
    },
    "e94cd255807d40f7995602509cbaae79": {
     "model_module": "@jupyter-widgets/controls",
     "model_module_version": "1.5.0",
     "model_name": "HTMLModel",
     "state": {
      "_dom_classes": [],
      "_model_module": "@jupyter-widgets/controls",
      "_model_module_version": "1.5.0",
      "_model_name": "HTMLModel",
      "_view_count": null,
      "_view_module": "@jupyter-widgets/controls",
      "_view_module_version": "1.5.0",
      "_view_name": "HTMLView",
      "description": "",
      "description_tooltip": null,
      "layout": "IPY_MODEL_81cf250f0e6943e8a50ac580d707712e",
      "placeholder": "​",
      "style": "IPY_MODEL_6d74715aa5a64d2ca83852448549b461",
      "value": " 213k/213k [00:00&lt;00:00, 172kB/s]"
     }
    },
    "e9bbbd8c4f9748fba33b458e5b3be44c": {
     "model_module": "@jupyter-widgets/controls",
     "model_module_version": "1.5.0",
     "model_name": "HTMLModel",
     "state": {
      "_dom_classes": [],
      "_model_module": "@jupyter-widgets/controls",
      "_model_module_version": "1.5.0",
      "_model_name": "HTMLModel",
      "_view_count": null,
      "_view_module": "@jupyter-widgets/controls",
      "_view_module_version": "1.5.0",
      "_view_name": "HTMLView",
      "description": "",
      "description_tooltip": null,
      "layout": "IPY_MODEL_ee704479ad57442090cb05c27646c591",
      "placeholder": "​",
      "style": "IPY_MODEL_c99e071fb8d54eda9f64d81cc131c72b",
      "value": " 29.0/29.0 [00:00&lt;00:00, 992B/s]"
     }
    },
    "ec66250ec7404a0dbe775b626359d0d4": {
     "model_module": "@jupyter-widgets/base",
     "model_module_version": "1.2.0",
     "model_name": "LayoutModel",
     "state": {
      "_model_module": "@jupyter-widgets/base",
      "_model_module_version": "1.2.0",
      "_model_name": "LayoutModel",
      "_view_count": null,
      "_view_module": "@jupyter-widgets/base",
      "_view_module_version": "1.2.0",
      "_view_name": "LayoutView",
      "align_content": null,
      "align_items": null,
      "align_self": null,
      "border": null,
      "bottom": null,
      "display": null,
      "flex": null,
      "flex_flow": null,
      "grid_area": null,
      "grid_auto_columns": null,
      "grid_auto_flow": null,
      "grid_auto_rows": null,
      "grid_column": null,
      "grid_gap": null,
      "grid_row": null,
      "grid_template_areas": null,
      "grid_template_columns": null,
      "grid_template_rows": null,
      "height": null,
      "justify_content": null,
      "justify_items": null,
      "left": null,
      "margin": null,
      "max_height": null,
      "max_width": null,
      "min_height": null,
      "min_width": null,
      "object_fit": null,
      "object_position": null,
      "order": null,
      "overflow": null,
      "overflow_x": null,
      "overflow_y": null,
      "padding": null,
      "right": null,
      "top": null,
      "visibility": null,
      "width": null
     }
    },
    "ed525ef40f9b4356ad006994277eb598": {
     "model_module": "@jupyter-widgets/base",
     "model_module_version": "1.2.0",
     "model_name": "LayoutModel",
     "state": {
      "_model_module": "@jupyter-widgets/base",
      "_model_module_version": "1.2.0",
      "_model_name": "LayoutModel",
      "_view_count": null,
      "_view_module": "@jupyter-widgets/base",
      "_view_module_version": "1.2.0",
      "_view_name": "LayoutView",
      "align_content": null,
      "align_items": null,
      "align_self": null,
      "border": null,
      "bottom": null,
      "display": null,
      "flex": null,
      "flex_flow": null,
      "grid_area": null,
      "grid_auto_columns": null,
      "grid_auto_flow": null,
      "grid_auto_rows": null,
      "grid_column": null,
      "grid_gap": null,
      "grid_row": null,
      "grid_template_areas": null,
      "grid_template_columns": null,
      "grid_template_rows": null,
      "height": null,
      "justify_content": null,
      "justify_items": null,
      "left": null,
      "margin": null,
      "max_height": null,
      "max_width": null,
      "min_height": null,
      "min_width": null,
      "object_fit": null,
      "object_position": null,
      "order": null,
      "overflow": null,
      "overflow_x": null,
      "overflow_y": null,
      "padding": null,
      "right": null,
      "top": null,
      "visibility": null,
      "width": null
     }
    },
    "ee704479ad57442090cb05c27646c591": {
     "model_module": "@jupyter-widgets/base",
     "model_module_version": "1.2.0",
     "model_name": "LayoutModel",
     "state": {
      "_model_module": "@jupyter-widgets/base",
      "_model_module_version": "1.2.0",
      "_model_name": "LayoutModel",
      "_view_count": null,
      "_view_module": "@jupyter-widgets/base",
      "_view_module_version": "1.2.0",
      "_view_name": "LayoutView",
      "align_content": null,
      "align_items": null,
      "align_self": null,
      "border": null,
      "bottom": null,
      "display": null,
      "flex": null,
      "flex_flow": null,
      "grid_area": null,
      "grid_auto_columns": null,
      "grid_auto_flow": null,
      "grid_auto_rows": null,
      "grid_column": null,
      "grid_gap": null,
      "grid_row": null,
      "grid_template_areas": null,
      "grid_template_columns": null,
      "grid_template_rows": null,
      "height": null,
      "justify_content": null,
      "justify_items": null,
      "left": null,
      "margin": null,
      "max_height": null,
      "max_width": null,
      "min_height": null,
      "min_width": null,
      "object_fit": null,
      "object_position": null,
      "order": null,
      "overflow": null,
      "overflow_x": null,
      "overflow_y": null,
      "padding": null,
      "right": null,
      "top": null,
      "visibility": null,
      "width": null
     }
    },
    "ef7f180e7bfd45c6a8ef0ee25f02e159": {
     "model_module": "@jupyter-widgets/controls",
     "model_module_version": "1.5.0",
     "model_name": "DescriptionStyleModel",
     "state": {
      "_model_module": "@jupyter-widgets/controls",
      "_model_module_version": "1.5.0",
      "_model_name": "DescriptionStyleModel",
      "_view_count": null,
      "_view_module": "@jupyter-widgets/base",
      "_view_module_version": "1.2.0",
      "_view_name": "StyleView",
      "description_width": ""
     }
    },
    "f0aa5f636ca44c46b50f57cd5930a52a": {
     "model_module": "@jupyter-widgets/controls",
     "model_module_version": "1.5.0",
     "model_name": "HBoxModel",
     "state": {
      "_dom_classes": [],
      "_model_module": "@jupyter-widgets/controls",
      "_model_module_version": "1.5.0",
      "_model_name": "HBoxModel",
      "_view_count": null,
      "_view_module": "@jupyter-widgets/controls",
      "_view_module_version": "1.5.0",
      "_view_name": "HBoxView",
      "box_style": "",
      "children": [
       "IPY_MODEL_46252e8948504b4298af8928fcae825a",
       "IPY_MODEL_32cd0e82d3c74588b230896dbc20866e",
       "IPY_MODEL_751190af7076441790f53fa70c6c0919"
      ],
      "layout": "IPY_MODEL_d7a85245b1ad41cd9a4956b31164d2d9"
     }
    },
    "f593147663664da2a7151fca71422344": {
     "model_module": "@jupyter-widgets/controls",
     "model_module_version": "1.5.0",
     "model_name": "HTMLModel",
     "state": {
      "_dom_classes": [],
      "_model_module": "@jupyter-widgets/controls",
      "_model_module_version": "1.5.0",
      "_model_name": "HTMLModel",
      "_view_count": null,
      "_view_module": "@jupyter-widgets/controls",
      "_view_module_version": "1.5.0",
      "_view_name": "HTMLView",
      "description": "",
      "description_tooltip": null,
      "layout": "IPY_MODEL_73875a13753742b59781bf384dd2ca40",
      "placeholder": "​",
      "style": "IPY_MODEL_748ef1de7b704ecfa1e9e39c985c3899",
      "value": "Downloading: 100%"
     }
    }
   }
  }
 },
 "nbformat": 4,
 "nbformat_minor": 5
}
